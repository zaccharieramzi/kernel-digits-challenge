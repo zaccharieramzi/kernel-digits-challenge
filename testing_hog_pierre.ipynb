{
 "cells": [
  {
   "cell_type": "code",
   "execution_count": 1,
   "metadata": {
    "collapsed": false,
    "deletable": true,
    "editable": true
   },
   "outputs": [],
   "source": [
    "import numpy as np\n",
    "import matplotlib.pyplot as plt\n",
    "\n",
    "from skimage.feature import hog\n",
    "from skimage import data, color, exposure\n",
    "\n",
    "from tools.data_loading import load_images, load_labels, dummy_code, load_images_resized, store_resized_images\n",
    "from tools.visualization import reshape_as_images, imshow"
   ]
  },
  {
   "cell_type": "markdown",
   "metadata": {
    "deletable": true,
    "editable": true
   },
   "source": [
    "# Data loading"
   ]
  },
  {
   "cell_type": "code",
   "execution_count": 21,
   "metadata": {
    "collapsed": false,
    "deletable": true,
    "editable": true,
    "scrolled": true
   },
   "outputs": [
    {
     "data": {
      "image/png": "[encoded data removed]",
      "text/plain": [
       "<matplotlib.figure.Figure at 0x10a9dd5f8>"
      ]
     },
     "metadata": {},
     "output_type": "display_data"
    },
    {
     "name": "stdout",
     "output_type": "stream",
     "text": [
      "(5000, 32, 32)\n",
      "8\n",
      "0.330975\n"
     ]
    }
   ],
   "source": [
    "X_train = load_images(type=\"train\")\n",
    "X_train = (X_train-X_train.min())/X_train.max()\n",
    "X_train = reshape_as_images(X_train) # 5000 x 32 x 32 x 3\n",
    "X_train = X_train.mean(axis=3) # 5000 x 32 x 32\n",
    "imshow(X_train[0,:,:])\n",
    "print(X_train.shape)\n",
    "print(Y_labels_train[0])\n",
    "print(X_train.max())\n"
   ]
  },
  {
   "cell_type": "code",
   "execution_count": 25,
   "metadata": {
    "collapsed": false,
    "deletable": true,
    "editable": true
   },
   "outputs": [],
   "source": [
    "n_train = X_train.shape[0]\n",
    "Y_labels_train = load_labels()\n",
    "Y_train = dummy_code(Y_labels_train)\n",
    "n_classes = Y_train.shape[1]"
   ]
  },
  {
   "cell_type": "code",
   "execution_count": 6,
   "metadata": {
    "collapsed": true,
    "deletable": true,
    "editable": true
   },
   "outputs": [],
   "source": [
    "indices = np.random.permutation(X_train.shape[0])\n",
    "training_idx, test_idx = indices[:int(0.8*n_train)], indices[int(0.8*n_train):]"
   ]
  },
  {
   "cell_type": "code",
   "execution_count": 7,
   "metadata": {
    "collapsed": false,
    "deletable": true,
    "editable": true
   },
   "outputs": [],
   "source": [
    "image_list = X_train[training_idx]\n",
    "n_images = image_list.shape[0]"
   ]
  },
  {
   "cell_type": "code",
   "execution_count": 11,
   "metadata": {
    "collapsed": false,
    "deletable": true,
    "editable": true
   },
   "outputs": [
    {
     "name": "stdout",
     "output_type": "stream",
     "text": [
      "(648,)\n"
     ]
    }
   ],
   "source": [
    "fd, hog_image = hog(image_list[20,:,:], orientations=8, pixels_per_cell=(7, 7),\n",
    "                    cells_per_block=(1, 1), visualise=True)\n",
    "print(fd.shape)"
   ]
  },
  {
   "cell_type": "code",
   "execution_count": 9,
   "metadata": {
    "collapsed": false,
    "deletable": true,
    "editable": true
   },
   "outputs": [
    {
     "data": {
      "text/plain": [
       "array([[ 0.17801537,  0.19695797,  0.06594191,  0.02577756,  0.17194311,\n",
       "         0.10628882,  0.16314548,  0.0917093 ],\n",
       "       [ 0.23236047,  0.33662424,  0.11012374,  0.        ,  0.03095214,\n",
       "         0.01021973,  0.05734568,  0.22228809],\n",
       "       [ 0.33936485,  0.08467441,  0.05806137,  0.09649483,  0.15432813,\n",
       "         0.0680379 ,  0.06603794,  0.13290037],\n",
       "       [ 0.23249758,  0.12900482,  0.08772429,  0.26735237,  0.14605811,\n",
       "         0.01896752,  0.02474484,  0.09357466],\n",
       "       [ 0.04577604,  0.18786579,  0.15655912,  0.40029166,  0.09521537,\n",
       "         0.0465781 ,  0.02539436,  0.04224283],\n",
       "       [ 0.07354084,  0.07053148,  0.07933332,  0.10207789,  0.30923438,\n",
       "         0.320086  ,  0.01760341,  0.02750049],\n",
       "       [ 0.01288504,  0.0456773 ,  0.14107078,  0.49336839,  0.13812178,\n",
       "         0.04524071,  0.0113355 ,  0.11222339],\n",
       "       [ 0.50091319,  0.0766324 ,  0.14495409,  0.05225983,  0.05353006,\n",
       "         0.00203012,  0.05305313,  0.11653254],\n",
       "       [ 0.23491892,  0.14845587,  0.11702075,  0.07156842,  0.23373367,\n",
       "         0.18007435,  0.        ,  0.01414878],\n",
       "       [ 0.00960767,  0.05214601,  0.01448332,  0.08070316,  0.4351059 ,\n",
       "         0.28034247,  0.05640491,  0.07100637],\n",
       "       [ 0.18892978,  0.02710438,  0.10392154,  0.12296741,  0.14296255,\n",
       "         0.07410144,  0.08686089,  0.25303642],\n",
       "       [ 0.31750719,  0.0106049 ,  0.        ,  0.        ,  0.00788484,\n",
       "         0.02755837,  0.15135715,  0.48497969],\n",
       "       [ 0.26285143,  0.1290822 ,  0.16831012,  0.06426204,  0.        ,\n",
       "         0.03887504,  0.08578419,  0.25075395],\n",
       "       [ 0.35504258,  0.36779576,  0.04059303,  0.03042663,  0.        ,\n",
       "         0.03891774,  0.00685842,  0.16017697],\n",
       "       [ 0.15922608,  0.23589621,  0.10965222,  0.04809406,  0.11106234,\n",
       "         0.02099498,  0.0894477 ,  0.22552502],\n",
       "       [ 0.03111313,  0.15941405,  0.24118796,  0.13480656,  0.15400484,\n",
       "         0.06399294,  0.15581025,  0.05959374],\n",
       "       [ 0.16624847,  0.17530416,  0.14030419,  0.12883089,  0.05939787,\n",
       "         0.0687627 ,  0.03880987,  0.22223392],\n",
       "       [ 0.33841847,  0.11573548,  0.08748537,  0.01059609,  0.        ,\n",
       "         0.0653076 ,  0.15461987,  0.22775229],\n",
       "       [ 0.34464552,  0.14902717,  0.00739599,  0.09654759,  0.07386282,\n",
       "         0.11318839,  0.10410171,  0.11053056],\n",
       "       [ 0.15082792,  0.17016814,  0.31269329,  0.10392981,  0.09766052,\n",
       "         0.05962167,  0.0372068 ,  0.06778225],\n",
       "       [ 0.16381234,  0.21836105,  0.22783072,  0.08446082,  0.04358939,\n",
       "         0.0755197 ,  0.1073745 ,  0.07888412],\n",
       "       [ 0.11732989,  0.        ,  0.17564925,  0.08582805,  0.15493438,\n",
       "         0.06416185,  0.07638315,  0.32563215],\n",
       "       [ 0.26766617,  0.08132731,  0.30707277,  0.10132285,  0.00449656,\n",
       "         0.10164414,  0.01848246,  0.1179425 ],\n",
       "       [ 0.38274461,  0.13285266,  0.02834132,  0.11193226,  0.14741991,\n",
       "         0.06394411,  0.10554634,  0.02715314],\n",
       "       [ 0.32445968,  0.        ,  0.0822649 ,  0.130264  ,  0.09005821,\n",
       "         0.0451581 ,  0.20916107,  0.11859285],\n",
       "       [ 0.15654519,  0.08314426,  0.05183338,  0.20540103,  0.30882904,\n",
       "         0.03332744,  0.0582702 ,  0.10258227],\n",
       "       [ 0.35411955,  0.33465832,  0.08443781,  0.18196007,  0.0164215 ,\n",
       "         0.00467436,  0.        ,  0.02358259],\n",
       "       [ 0.3894963 ,  0.0742007 ,  0.07877881,  0.00640327,  0.2873472 ,\n",
       "         0.02701541,  0.05071486,  0.08540312],\n",
       "       [ 0.46103401,  0.2046698 ,  0.06480292,  0.        ,  0.05682016,\n",
       "         0.0290188 ,  0.03438014,  0.1480346 ],\n",
       "       [ 0.5669001 ,  0.10348535,  0.09586857,  0.00272591,  0.065707  ,\n",
       "         0.02973924,  0.08001582,  0.05541299],\n",
       "       [ 0.17845199,  0.24884143,  0.19624175,  0.07225735,  0.11106339,\n",
       "         0.        ,  0.05614309,  0.13692483],\n",
       "       [ 0.10922416,  0.19702596,  0.27523558,  0.13401365,  0.12259188,\n",
       "         0.0563198 ,  0.0502114 ,  0.0552888 ],\n",
       "       [ 0.11808698,  0.06265735,  0.02432312,  0.15127849,  0.01616169,\n",
       "         0.10527529,  0.33672625,  0.18541723],\n",
       "       [ 0.3065097 ,  0.23946925,  0.06009202,  0.08696347,  0.05004773,\n",
       "         0.04050226,  0.0345087 ,  0.18167906],\n",
       "       [ 0.02422093,  0.04830678,  0.01328667,  0.03633144,  0.01186124,\n",
       "         0.07936864,  0.5819874 ,  0.20433597],\n",
       "       [ 0.14886363,  0.08662614,  0.06109889,  0.07993279,  0.07503155,\n",
       "         0.        ,  0.26769415,  0.28059638],\n",
       "       [ 0.        ,  0.        ,  0.15970964,  0.14032179,  0.46206833,\n",
       "         0.17978455,  0.01172466,  0.04612272],\n",
       "       [ 0.16223947,  0.12194699,  0.209323  ,  0.16279669,  0.13630138,\n",
       "         0.07107011,  0.07395267,  0.06196955],\n",
       "       [ 0.23924919,  0.18742453,  0.14857905,  0.28283367,  0.0416727 ,\n",
       "         0.06151696,  0.01590709,  0.02271665],\n",
       "       [ 0.408051  ,  0.19011307,  0.06302257,  0.01798192,  0.03603649,\n",
       "         0.05393852,  0.17358747,  0.05720694],\n",
       "       [ 0.28907923,  0.35358025,  0.01874458,  0.04380201,  0.00950197,\n",
       "         0.        ,  0.08721548,  0.19800559],\n",
       "       [ 0.34629021,  0.08345751,  0.01024911,  0.008389  ,  0.03826956,\n",
       "         0.1865663 ,  0.16754423,  0.15919145],\n",
       "       [ 0.26627373,  0.03274584,  0.07234261,  0.06602614,  0.11684574,\n",
       "         0.14139138,  0.10571644,  0.19851874],\n",
       "       [ 0.0099345 ,  0.08465393,  0.03730521,  0.        ,  0.13061975,\n",
       "         0.02000524,  0.26891093,  0.44786338],\n",
       "       [ 0.10087198,  0.04284835,  0.01620712,  0.01069501,  0.08478911,\n",
       "         0.        ,  0.05233039,  0.69210326],\n",
       "       [ 0.07171081,  0.11625993,  0.1012243 ,  0.18322729,  0.29628247,\n",
       "         0.02957081,  0.06187064,  0.13913799],\n",
       "       [ 0.26995817,  0.03871796,  0.06302072,  0.06469044,  0.15642605,\n",
       "         0.13116428,  0.17792731,  0.09759573],\n",
       "       [ 0.11272703,  0.07952602,  0.1140481 ,  0.22226287,  0.17635299,\n",
       "         0.09910364,  0.14407671,  0.05129827],\n",
       "       [ 0.36499308,  0.11318762,  0.        ,  0.        ,  0.        ,\n",
       "         0.03977836,  0.10296617,  0.37899567],\n",
       "       [ 0.06746724,  0.0701386 ,  0.02982962,  0.        ,  0.21207013,\n",
       "         0.21420735,  0.2214124 ,  0.18474082],\n",
       "       [ 0.14154935,  0.32473872,  0.19828771,  0.08758977,  0.13087905,\n",
       "         0.05597247,  0.00709259,  0.05380872],\n",
       "       [ 0.29931649,  0.09008389,  0.08689593,  0.0738107 ,  0.00960943,\n",
       "         0.03412068,  0.07089116,  0.3349912 ],\n",
       "       [ 0.46255576,  0.09797848,  0.        ,  0.02681753,  0.01135157,\n",
       "         0.14233681,  0.07763757,  0.18108556],\n",
       "       [ 0.21608022,  0.        ,  0.        ,  0.00473641,  0.01738371,\n",
       "         0.        ,  0.09049007,  0.67120657],\n",
       "       [ 0.07158535,  0.05470199,  0.01064432,  0.02376484,  0.29261847,\n",
       "         0.21051682,  0.18074935,  0.15524909],\n",
       "       [ 0.09434397,  0.09149458,  0.07931816,  0.2926062 ,  0.26135116,\n",
       "         0.        ,  0.08692366,  0.09376519],\n",
       "       [ 0.07470039,  0.061038  ,  0.05779252,  0.02222664,  0.20318569,\n",
       "         0.17638084,  0.26888656,  0.13555757],\n",
       "       [ 0.17302676,  0.11374546,  0.0429259 ,  0.07216628,  0.        ,\n",
       "         0.23967081,  0.15478875,  0.20354132],\n",
       "       [ 0.30443064,  0.03336182,  0.03942621,  0.        ,  0.07411419,\n",
       "         0.11199735,  0.14565748,  0.29020622],\n",
       "       [ 0.09076373,  0.02917585,  0.07447864,  0.01883489,  0.2160355 ,\n",
       "         0.19147127,  0.20446805,  0.17469453],\n",
       "       [ 0.00708391,  0.25524849,  0.00945112,  0.1876822 ,  0.29302744,\n",
       "         0.09107719,  0.13947218,  0.0161737 ],\n",
       "       [ 0.31892978,  0.09338594,  0.02574153,  0.07260331,  0.04403197,\n",
       "         0.08131904,  0.20818061,  0.15551   ],\n",
       "       [ 0.43854346,  0.05129322,  0.02339828,  0.        ,  0.01605183,\n",
       "         0.02295548,  0.02799353,  0.41964842],\n",
       "       [ 0.18126446,  0.06507605,  0.14759382,  0.0486906 ,  0.3046271 ,\n",
       "         0.03957256,  0.09246727,  0.1201437 ],\n",
       "       [ 0.13823075,  0.05636305,  0.03020273,  0.05099011,  0.29213563,\n",
       "         0.09335021,  0.25645726,  0.08187481],\n",
       "       [ 0.0834648 ,  0.06633151,  0.07724991,  0.12005126,  0.22646351,\n",
       "         0.13776466,  0.10739888,  0.18099201],\n",
       "       [ 0.20933179,  0.10547555,  0.02849991,  0.0363027 ,  0.00629686,\n",
       "         0.07328484,  0.21577526,  0.32472658],\n",
       "       [ 0.45771131,  0.10518708,  0.0567448 ,  0.0231459 ,  0.03753728,\n",
       "         0.0449508 ,  0.02318758,  0.2513988 ],\n",
       "       [ 0.06474341,  0.08529881,  0.13663657,  0.16402737,  0.05293124,\n",
       "         0.30138165,  0.1122357 ,  0.08249666],\n",
       "       [ 0.25814286,  0.10699938,  0.09419199,  0.10524235,  0.22253741,\n",
       "         0.12398373,  0.047153  ,  0.04149466],\n",
       "       [ 0.37839328,  0.07434504,  0.        ,  0.        ,  0.0146855 ,\n",
       "         0.08895893,  0.16096519,  0.28252753],\n",
       "       [ 0.35613528,  0.12339098,  0.03550194,  0.        ,  0.        ,\n",
       "         0.02114516,  0.05160096,  0.41214542],\n",
       "       [ 0.17444444,  0.13562565,  0.25819695,  0.06565   ,  0.24895907,\n",
       "         0.03652035,  0.05879234,  0.02163019],\n",
       "       [ 0.1094177 ,  0.08122378,  0.09694381,  0.29836842,  0.07162871,\n",
       "         0.13592044,  0.09383053,  0.11231069],\n",
       "       [ 0.09040397,  0.24647074,  0.13699819,  0.14419742,  0.05691978,\n",
       "         0.0390152 ,  0.15706346,  0.12868618],\n",
       "       [ 0.12304208,  0.01269869,  0.00491145,  0.12692307,  0.12439606,\n",
       "         0.1423719 ,  0.20402679,  0.26146341],\n",
       "       [ 0.09094835,  0.        ,  0.        ,  0.        ,  0.        ,\n",
       "         0.02523302,  0.38656978,  0.49719419],\n",
       "       [ 0.15248059,  0.16320329,  0.08227848,  0.05568163,  0.0239633 ,\n",
       "         0.17893615,  0.08938683,  0.25383923],\n",
       "       [ 0.66935114,  0.03233988,  0.0036572 ,  0.        ,  0.03180985,\n",
       "         0.05402021,  0.11186773,  0.09688248],\n",
       "       [ 0.65958176,  0.12765311,  0.07995327,  0.        ,  0.        ,\n",
       "         0.01041043,  0.02420416,  0.09811267],\n",
       "       [ 0.16274249,  0.03770872,  0.19731728,  0.1031939 ,  0.07980097,\n",
       "         0.08317454,  0.10243508,  0.23348343]])"
      ]
     },
     "execution_count": 9,
     "metadata": {},
     "output_type": "execute_result"
    }
   ],
   "source": [
    "fd.reshape(81,8)"
   ]
  },
  {
   "cell_type": "code",
   "execution_count": 17,
   "metadata": {
    "collapsed": false,
    "deletable": true,
    "editable": true
   },
   "outputs": [
    {
     "data": {
      "text/plain": [
       "1.0712041875866178"
      ]
     },
     "execution_count": 17,
     "metadata": {},
     "output_type": "execute_result"
    }
   ],
   "source": [
    "fd[5:13].sum()"
   ]
  },
  {
   "cell_type": "code",
   "execution_count": null,
   "metadata": {
    "collapsed": false,
    "deletable": true,
    "editable": true,
    "scrolled": true
   },
   "outputs": [],
   "source": [
    "image = image_list[21,:,:]\n",
    "fig, (ax1, ax2) = plt.subplots(1, 2, figsize=(8, 4), sharex=True, sharey=True)\n",
    "\n",
    "ax1.axis('off')\n",
    "ax1.imshow(image, cmap=plt.cm.gray)\n",
    "ax1.set_title('Input image')\n",
    "ax1.set_adjustable('box-forced')\n",
    "\n",
    "# Rescale histogram for better display\n",
    "hog_image_rescaled = exposure.rescale_intensity(hog_image, in_range=(0, 0.02))\n",
    "\n",
    "ax2.axis('off')\n",
    "ax2.imshow(hog_image_rescaled, cmap=plt.cm.gray)\n",
    "ax2.set_title('Histogram of Oriented Gradients')\n",
    "ax1.set_adjustable('box-forced')\n",
    "plt.show()"
   ]
  },
  {
   "cell_type": "code",
   "execution_count": null,
   "metadata": {
    "collapsed": false,
    "deletable": true,
    "editable": true
   },
   "outputs": [],
   "source": [
    "n_features = 648\n",
    "X_sample = np.zeros((n_images,n_features))\n",
    "for i in range(n_images):\n",
    "    image = image_list[i,:,:]\n",
    "    X_sample[i,:] = hog(image, orientations=8, pixels_per_cell=(7, 7),\n",
    "                    cells_per_block=(1, 1), visualise=False)\n",
    "    "
   ]
  },
  {
   "cell_type": "code",
   "execution_count": null,
   "metadata": {
    "collapsed": true,
    "deletable": true,
    "editable": true
   },
   "outputs": [],
   "source": [
    "def normalize(v):\n",
    "    norm=np.linalg.norm(v)\n",
    "    if norm==0: \n",
    "        return v\n",
    "    else:\n",
    "        return v/norm"
   ]
  },
  {
   "cell_type": "code",
   "execution_count": null,
   "metadata": {
    "collapsed": true,
    "deletable": true,
    "editable": true
   },
   "outputs": [],
   "source": [
    "for i in range(n_images):\n",
    "    X_sample[i, :] = normalize(X_sample[i, :])"
   ]
  },
  {
   "cell_type": "markdown",
   "metadata": {
    "deletable": true,
    "editable": true
   },
   "source": [
    "### SVM"
   ]
  },
  {
   "cell_type": "code",
   "execution_count": null,
   "metadata": {
    "collapsed": false,
    "deletable": true,
    "editable": true
   },
   "outputs": [],
   "source": [
    "from sklearn.svm import SVC\n",
    "\n",
    "SVC_dict = {}\n",
    "for dig in range(n_classes):\n",
    "    clf = SVC(C=1000.0,kernel='rbf',gamma=0.2, class_weight={1: 9})\n",
    "    clf.fit(X_sample, Y_train[training_idx,dig]) \n",
    "    SVC_dict[dig] = clf"
   ]
  },
  {
   "cell_type": "markdown",
   "metadata": {
    "deletable": true,
    "editable": true
   },
   "source": [
    "# Test error"
   ]
  },
  {
   "cell_type": "code",
   "execution_count": null,
   "metadata": {
    "collapsed": false,
    "deletable": true,
    "editable": true
   },
   "outputs": [],
   "source": [
    "X_test = X_train[test_idx, :]\n",
    "n_test = X_test.shape[0]"
   ]
  },
  {
   "cell_type": "code",
   "execution_count": null,
   "metadata": {
    "collapsed": false,
    "deletable": true,
    "editable": true
   },
   "outputs": [],
   "source": [
    "#image_list_test = reshape_as_images(X_test)\n",
    "#image_list_test = image_list_test.mean(axis=3)\n",
    "image_list_test = X_test\n",
    "n_images = image_list_test.shape[0]\n"
   ]
  },
  {
   "cell_type": "code",
   "execution_count": null,
   "metadata": {
    "collapsed": false,
    "deletable": true,
    "editable": true
   },
   "outputs": [],
   "source": [
    "X_sample_test = np.zeros((n_images,n_features))\n",
    "for i in range(n_images):\n",
    "    image = image_list_test[i,:,:]\n",
    "    X_sample_test[i,:] = hog(image, orientations=8, pixels_per_cell=(7, 7),\n",
    "                    cells_per_block=(1, 1), visualise=False)\n",
    "    X_sample_test[i, :] = normalize(X_sample_test[i, :])"
   ]
  },
  {
   "cell_type": "markdown",
   "metadata": {
    "deletable": true,
    "editable": true
   },
   "source": [
    "## Test error SVM"
   ]
  },
  {
   "cell_type": "code",
   "execution_count": null,
   "metadata": {
    "collapsed": false,
    "deletable": true,
    "editable": true
   },
   "outputs": [],
   "source": [
    "Y_pred = np.zeros((X_test.shape[0], n_classes))\n",
    "for dig in range(n_classes):\n",
    "    Y_pred[:, dig] = SVC_dict[dig].predict(X_sample_test)\n",
    "Y_labels_pred = np.argmax(Y_pred, axis=1)\n",
    "prec = np.mean(Y_labels_pred == Y_labels_train[test_idx])\n",
    "print(\"The precision on the test set is of {}\".format(prec))"
   ]
  },
  {
   "cell_type": "code",
   "execution_count": null,
   "metadata": {
    "collapsed": false,
    "deletable": true,
    "editable": true
   },
   "outputs": [],
   "source": [
    "Y_pred = np.zeros((X_test.shape[0], n_classes))\n",
    "for dig in range(n_classes):\n",
    "    Y_pred[:, dig] = SVC_dict[dig].decision_function(X_sample_test)\n",
    "Y_labels_pred = np.argmax(Y_pred, axis=1)\n",
    "prec = np.mean(Y_labels_pred == Y_labels_train[test_idx])\n",
    "print(\"The precision on the test set is of {}\".format(prec))"
   ]
  },
  {
   "cell_type": "code",
   "execution_count": null,
   "metadata": {
    "collapsed": false,
    "deletable": true,
    "editable": true,
    "scrolled": false
   },
   "outputs": [],
   "source": [
    "Y_pred[0,:]"
   ]
  },
  {
   "cell_type": "markdown",
   "metadata": {
    "deletable": true,
    "editable": true
   },
   "source": [
    "# Other tests"
   ]
  },
  {
   "cell_type": "code",
   "execution_count": null,
   "metadata": {
    "collapsed": false,
    "deletable": true,
    "editable": true
   },
   "outputs": [],
   "source": [
    "Y_labels_train[test_idx][0]"
   ]
  },
  {
   "cell_type": "code",
   "execution_count": null,
   "metadata": {
    "collapsed": true,
    "deletable": true,
    "editable": true
   },
   "outputs": [],
   "source": []
  }
 ],
 "metadata": {
  "kernelspec": {
   "display_name": "Python 3",
   "language": "python",
   "name": "python3"
  },
  "language_info": {
   "codemirror_mode": {
    "name": "ipython",
    "version": 3
   },
   "file_extension": ".py",
   "mimetype": "text/x-python",
   "name": "python",
   "nbconvert_exporter": "python",
   "pygments_lexer": "ipython3",
   "version": "3.5.2"
  }
 },
 "nbformat": 4,
 "nbformat_minor": 2
}
