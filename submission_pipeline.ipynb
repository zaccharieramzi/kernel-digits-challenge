{
 "cells": [
  {
   "cell_type": "code",
   "execution_count": 1,
   "metadata": {
    "collapsed": false
   },
   "outputs": [],
   "source": [
    "import numpy as np\n",
    "\n",
    "from tools.data_loading import load_images, load_labels, dummy_code\n",
    "from tools.feature_learning import pins_generation\n",
    "from tools.kernels import kernel_matrix\n",
    "from tools.optimization import find_f\n",
    "from tools.prediction import pred\n",
    "from tools.process_images import process_images\n",
    "from tools.quantization import kmeans\n",
    "from tools.submission import labels_to_csv\n",
    "from tools.visualization import imshow, dump_as_png"
   ]
  },
  {
   "cell_type": "markdown",
   "metadata": {},
   "source": [
    "# Data loading"
   ]
  },
  {
   "cell_type": "code",
   "execution_count": 2,
   "metadata": {
    "collapsed": true
   },
   "outputs": [],
   "source": [
    "X_train = load_images(type=\"train\")\n",
    "n_train = X_train.shape[0]\n",
    "Y_labels_train = load_labels()\n",
    "Y_train = dummy_code(Y_labels_train)\n",
    "n_classes = Y_train.shape[1]"
   ]
  },
  {
   "cell_type": "markdown",
   "metadata": {},
   "source": [
    "# Data separation"
   ]
  },
  {
   "cell_type": "code",
   "execution_count": 3,
   "metadata": {
    "collapsed": true
   },
   "outputs": [],
   "source": [
    "indices = np.random.permutation(X_train.shape[0])\n",
    "training_idx, test_idx = indices[:int(0.9*n_train)], indices[int(0.9*n_train):]"
   ]
  },
  {
   "cell_type": "markdown",
   "metadata": {},
   "source": [
    "# Visual features"
   ]
  },
  {
   "cell_type": "code",
   "execution_count": 4,
   "metadata": {
    "collapsed": false
   },
   "outputs": [
    {
     "name": "stdout",
     "output_type": "stream",
     "text": [
      "Wrongly clusterized pins: 87944\n",
      "Wrongly clusterized pins: 32940\n",
      "Wrongly clusterized pins: 16363\n",
      "Wrongly clusterized pins: 11113\n",
      "Wrongly clusterized pins: 8412\n",
      "Wrongly clusterized pins: 6883\n",
      "Wrongly clusterized pins: 5950\n",
      "Wrongly clusterized pins: 5314\n",
      "Wrongly clusterized pins: 4665\n",
      "Wrongly clusterized pins: 4121\n",
      "Wrongly clusterized pins: 3788\n",
      "Wrongly clusterized pins: 3270\n",
      "Wrongly clusterized pins: 2991\n",
      "Wrongly clusterized pins: 2784\n",
      "Wrongly clusterized pins: 2496\n",
      "Wrongly clusterized pins: 2210\n",
      "Wrongly clusterized pins: 2062\n",
      "Wrongly clusterized pins: 1783\n",
      "Wrongly clusterized pins: 1576\n",
      "Wrongly clusterized pins: 1497\n",
      "Wrongly clusterized pins: 1446\n",
      "Wrongly clusterized pins: 1441\n",
      "Wrongly clusterized pins: 1342\n",
      "Wrongly clusterized pins: 1245\n",
      "Wrongly clusterized pins: 1149\n",
      "Wrongly clusterized pins: 1112\n",
      "Wrongly clusterized pins: 1006\n",
      "Wrongly clusterized pins: 967\n",
      "Wrongly clusterized pins: 919\n",
      "Wrongly clusterized pins: 928\n",
      "Wrongly clusterized pins: 887\n",
      "Wrongly clusterized pins: 856\n",
      "Wrongly clusterized pins: 801\n",
      "Wrongly clusterized pins: 720\n",
      "Wrongly clusterized pins: 707\n",
      "Wrongly clusterized pins: 664\n",
      "Wrongly clusterized pins: 671\n",
      "Wrongly clusterized pins: 706\n",
      "Wrongly clusterized pins: 698\n",
      "Wrongly clusterized pins: 682\n",
      "Wrongly clusterized pins: 648\n",
      "Wrongly clusterized pins: 603\n",
      "Wrongly clusterized pins: 591\n",
      "Wrongly clusterized pins: 603\n",
      "Wrongly clusterized pins: 578\n",
      "Wrongly clusterized pins: 554\n",
      "Wrongly clusterized pins: 543\n",
      "Wrongly clusterized pins: 484\n",
      "Wrongly clusterized pins: 474\n",
      "Wrongly clusterized pins: 489\n",
      "Wrongly clusterized pins: 478\n",
      "Wrongly clusterized pins: 463\n",
      "Wrongly clusterized pins: 468\n",
      "Wrongly clusterized pins: 436\n",
      "Wrongly clusterized pins: 416\n",
      "Wrongly clusterized pins: 377\n",
      "Wrongly clusterized pins: 390\n",
      "Wrongly clusterized pins: 402\n",
      "Wrongly clusterized pins: 385\n",
      "Wrongly clusterized pins: 415\n",
      "Wrongly clusterized pins: 410\n",
      "Wrongly clusterized pins: 376\n",
      "Wrongly clusterized pins: 389\n",
      "Wrongly clusterized pins: 340\n",
      "Wrongly clusterized pins: 337\n",
      "Wrongly clusterized pins: 347\n",
      "Wrongly clusterized pins: 345\n",
      "Wrongly clusterized pins: 353\n",
      "Wrongly clusterized pins: 346\n",
      "Wrongly clusterized pins: 363\n",
      "Wrongly clusterized pins: 339\n",
      "Wrongly clusterized pins: 345\n",
      "Wrongly clusterized pins: 324\n",
      "Wrongly clusterized pins: 333\n",
      "Wrongly clusterized pins: 369\n",
      "Wrongly clusterized pins: 329\n",
      "Wrongly clusterized pins: 338\n",
      "Wrongly clusterized pins: 326\n",
      "Wrongly clusterized pins: 299\n",
      "Wrongly clusterized pins: 284\n",
      "Wrongly clusterized pins: 284\n",
      "Wrongly clusterized pins: 265\n",
      "Wrongly clusterized pins: 261\n",
      "Wrongly clusterized pins: 240\n",
      "Wrongly clusterized pins: 255\n",
      "Wrongly clusterized pins: 250\n",
      "Wrongly clusterized pins: 260\n",
      "Wrongly clusterized pins: 257\n",
      "Wrongly clusterized pins: 268\n",
      "Wrongly clusterized pins: 258\n",
      "Wrongly clusterized pins: 244\n",
      "Wrongly clusterized pins: 237\n",
      "Wrongly clusterized pins: 200\n",
      "Wrongly clusterized pins: 173\n",
      "Wrongly clusterized pins: 195\n",
      "Wrongly clusterized pins: 179\n",
      "Wrongly clusterized pins: 177\n",
      "Wrongly clusterized pins: 179\n",
      "Wrongly clusterized pins: 179\n",
      "Wrongly clusterized pins: 172\n",
      "Wrongly clusterized pins: 168\n",
      "Wrongly clusterized pins: 161\n",
      "Wrongly clusterized pins: 135\n",
      "Wrongly clusterized pins: 128\n",
      "Wrongly clusterized pins: 127\n",
      "Wrongly clusterized pins: 109\n",
      "Wrongly clusterized pins: 111\n",
      "Wrongly clusterized pins: 100\n",
      "Wrongly clusterized pins: 100\n",
      "Wrongly clusterized pins: 100\n",
      "Wrongly clusterized pins: 87\n",
      "Wrongly clusterized pins: 99\n",
      "Wrongly clusterized pins: 89\n",
      "Wrongly clusterized pins: 100\n",
      "Wrongly clusterized pins: 109\n",
      "Wrongly clusterized pins: 115\n",
      "Wrongly clusterized pins: 129\n",
      "Wrongly clusterized pins: 114\n",
      "Wrongly clusterized pins: 81\n",
      "Wrongly clusterized pins: 106\n",
      "Wrongly clusterized pins: 94\n",
      "Wrongly clusterized pins: 96\n",
      "Wrongly clusterized pins: 100\n",
      "Wrongly clusterized pins: 104\n",
      "Wrongly clusterized pins: 100\n",
      "Wrongly clusterized pins: 90\n",
      "Wrongly clusterized pins: 86\n",
      "Wrongly clusterized pins: 68\n",
      "Wrongly clusterized pins: 57\n",
      "Wrongly clusterized pins: 57\n",
      "Wrongly clusterized pins: 47\n",
      "Wrongly clusterized pins: 48\n",
      "Wrongly clusterized pins: 50\n",
      "Wrongly clusterized pins: 43\n",
      "Wrongly clusterized pins: 39\n",
      "Wrongly clusterized pins: 31\n",
      "Wrongly clusterized pins: 32\n",
      "Wrongly clusterized pins: 42\n",
      "Wrongly clusterized pins: 46\n",
      "Wrongly clusterized pins: 40\n",
      "Wrongly clusterized pins: 28\n",
      "Wrongly clusterized pins: 17\n",
      "Wrongly clusterized pins: 20\n",
      "Wrongly clusterized pins: 21\n",
      "Wrongly clusterized pins: 24\n",
      "Wrongly clusterized pins: 22\n",
      "Wrongly clusterized pins: 25\n",
      "Wrongly clusterized pins: 26\n",
      "Wrongly clusterized pins: 30\n",
      "Wrongly clusterized pins: 36\n",
      "Wrongly clusterized pins: 43\n",
      "Wrongly clusterized pins: 53\n",
      "Wrongly clusterized pins: 61\n",
      "Wrongly clusterized pins: 60\n",
      "Wrongly clusterized pins: 70\n",
      "Wrongly clusterized pins: 69\n",
      "Wrongly clusterized pins: 61\n",
      "Wrongly clusterized pins: 63\n",
      "Wrongly clusterized pins: 77\n",
      "Wrongly clusterized pins: 69\n",
      "Wrongly clusterized pins: 75\n",
      "Wrongly clusterized pins: 64\n",
      "Wrongly clusterized pins: 69\n",
      "Wrongly clusterized pins: 86\n",
      "Wrongly clusterized pins: 92\n",
      "Wrongly clusterized pins: 81\n",
      "Wrongly clusterized pins: 90\n",
      "Wrongly clusterized pins: 73\n",
      "Wrongly clusterized pins: 73\n",
      "Wrongly clusterized pins: 54\n",
      "Wrongly clusterized pins: 54\n",
      "Wrongly clusterized pins: 53\n",
      "Wrongly clusterized pins: 54\n",
      "Wrongly clusterized pins: 56\n",
      "Wrongly clusterized pins: 58\n",
      "Wrongly clusterized pins: 56\n",
      "Wrongly clusterized pins: 56\n",
      "Wrongly clusterized pins: 39\n",
      "Wrongly clusterized pins: 39\n",
      "Wrongly clusterized pins: 36\n",
      "Wrongly clusterized pins: 43\n",
      "Wrongly clusterized pins: 45\n",
      "Wrongly clusterized pins: 41\n",
      "Wrongly clusterized pins: 38\n",
      "Wrongly clusterized pins: 38\n",
      "Wrongly clusterized pins: 35\n",
      "Wrongly clusterized pins: 36\n",
      "Wrongly clusterized pins: 27\n",
      "Wrongly clusterized pins: 17\n",
      "Wrongly clusterized pins: 16\n",
      "Wrongly clusterized pins: 13\n",
      "Wrongly clusterized pins: 10\n",
      "Wrongly clusterized pins: 10\n",
      "Wrongly clusterized pins: 13\n",
      "Wrongly clusterized pins: 15\n",
      "Wrongly clusterized pins: 9\n",
      "Wrongly clusterized pins: 8\n",
      "Wrongly clusterized pins: 6\n",
      "Wrongly clusterized pins: 9\n",
      "Wrongly clusterized pins: 6\n",
      "Wrongly clusterized pins: 6\n",
      "Wrongly clusterized pins: 4\n",
      "Wrongly clusterized pins: 8\n",
      "Wrongly clusterized pins: 7\n",
      "Wrongly clusterized pins: 8\n",
      "Wrongly clusterized pins: 6\n",
      "Wrongly clusterized pins: 0\n"
     ]
    }
   ],
   "source": [
    "pins_dict_train = pins_generation(training_idx=training_idx)\n",
    "pins_train = pins_dict_train[\"pins\"]\n",
    "train_pins = pins_dict_train[\"train_pins\"]\n",
    "pin_to_im_train = pins_dict_train[\"pin_to_im\"]\n",
    "pins_mat = np.vstack(train_pins)\n",
    "visual_features = kmeans(pins_mat, 70)"
   ]
  },
  {
   "cell_type": "markdown",
   "metadata": {},
   "source": [
    "# Data processing"
   ]
  },
  {
   "cell_type": "code",
   "execution_count": 5,
   "metadata": {
    "collapsed": true
   },
   "outputs": [],
   "source": [
    "X_train = process_images(n_train, visual_features, pins_train, pin_to_im_train)\n",
    "n_train, n_var = X_train.shape"
   ]
  },
  {
   "cell_type": "markdown",
   "metadata": {},
   "source": [
    "# Data separation (bis)"
   ]
  },
  {
   "cell_type": "code",
   "execution_count": 6,
   "metadata": {
    "collapsed": true
   },
   "outputs": [],
   "source": [
    "X_sample = X_train[training_idx, :]\n",
    "n_sample = X_sample.shape[0]\n",
    "X_test = X_train[test_idx, :]\n",
    "n_test = X_test.shape[0]\n",
    "Y_sample = Y_train[training_idx, :]\n"
   ]
  },
  {
   "cell_type": "markdown",
   "metadata": {},
   "source": [
    "# Training"
   ]
  },
  {
   "cell_type": "markdown",
   "metadata": {},
   "source": [
    "## Kernel choice"
   ]
  },
  {
   "cell_type": "code",
   "execution_count": 7,
   "metadata": {
    "collapsed": true
   },
   "outputs": [],
   "source": [
    "kernel_type = \"hellinger\"\n",
    "K_sample = kernel_matrix(X_sample, kernel_type=kernel_type)"
   ]
  },
  {
   "cell_type": "markdown",
   "metadata": {},
   "source": [
    "## Classifier choice"
   ]
  },
  {
   "cell_type": "code",
   "execution_count": 8,
   "metadata": {
    "collapsed": true
   },
   "outputs": [],
   "source": [
    "classifier_type = \"linear regression\"\n",
    "alpha = np.zeros((n_classes, n_sample))\n",
    "for dig in range(n_classes):\n",
    "    alpha[dig, :] = find_f(K_sample, Y_sample[:, dig],\n",
    "                           prob_type=classifier_type, lamb=1.0)"
   ]
  },
  {
   "cell_type": "markdown",
   "metadata": {},
   "source": [
    "# Evaluation"
   ]
  },
  {
   "cell_type": "code",
   "execution_count": 9,
   "metadata": {
    "collapsed": false
   },
   "outputs": [
    {
     "name": "stdout",
     "output_type": "stream",
     "text": [
      "The precision on the test set is of 0.23\n"
     ]
    }
   ],
   "source": [
    "Y_pred = np.zeros((X_test.shape[0], n_classes))\n",
    "for dig in range(n_classes):\n",
    "    Y_pred[:, dig] = pred(X_sample, X_test, alpha[dig, :],\n",
    "                          kernel_type=kernel_type)\n",
    "\n",
    "\n",
    "Y_labels_pred = np.argmax(Y_pred, axis=1)\n",
    "prec = np.mean(Y_labels_pred == Y_labels_train[test_idx])\n",
    "print(\"The precision on the test set is of {}\".format(prec))"
   ]
  },
  {
   "cell_type": "markdown",
   "metadata": {},
   "source": [
    "# Prediction"
   ]
  },
  {
   "cell_type": "code",
   "execution_count": 10,
   "metadata": {
    "collapsed": true
   },
   "outputs": [],
   "source": [
    "X_eval = load_images(type=\"test\")\n",
    "n_eval = X_eval.shape[0]\n",
    "\n",
    "# Visual features for submission\n",
    "pins_dict_eval = pins_generation(data_type=\"test\")\n",
    "pins_eval = pins_dict_eval[\"pins\"]\n",
    "pin_to_im_eval = pins_dict_eval[\"pin_to_im\"]\n",
    "\n",
    "\n",
    "# Data processing\n",
    "X_eval = process_images(n_eval, visual_features, pins_eval, pin_to_im_eval)\n",
    "n_eval, n_var = X_eval.shape\n",
    "\n",
    "Y_eval = np.zeros((n_eval, n_classes))\n",
    "for dig in range(n_classes):\n",
    "    Y_eval[:, dig] = pred(X_sample, X_eval, alpha[dig, :],\n",
    "                          kernel_type=kernel_type)\n",
    "\n",
    "\n",
    "Y_labels_eval = np.argmax(Y_eval, axis=1)\n",
    "\n",
    "\n",
    "# Submission\n",
    "labels_to_csv(Y_labels_eval, kernel=kernel_type, algo=classifier_type)"
   ]
  },
  {
   "cell_type": "code",
   "execution_count": null,
   "metadata": {
    "collapsed": true
   },
   "outputs": [],
   "source": []
  }
 ],
 "metadata": {
  "kernelspec": {
   "display_name": "Python 3",
   "language": "python",
   "name": "python3"
  },
  "language_info": {
   "codemirror_mode": {
    "name": "ipython",
    "version": 3
   },
   "file_extension": ".py",
   "mimetype": "text/x-python",
   "name": "python",
   "nbconvert_exporter": "python",
   "pygments_lexer": "ipython3",
   "version": "3.5.2"
  }
 },
 "nbformat": 4,
 "nbformat_minor": 2
}
