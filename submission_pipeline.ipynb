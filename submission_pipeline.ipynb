{
 "cells": [
  {
   "cell_type": "code",
   "execution_count": 1,
   "metadata": {
    "collapsed": false
   },
   "outputs": [],
   "source": [
    "import numpy as np\n",
    "\n",
    "from tools.data_loading import load_images, load_labels, dummy_code\n",
    "from tools.feature_learning import pins_generation\n",
    "from tools.kernels import kernel_matrix\n",
    "from tools.optimization import find_f\n",
    "from tools.prediction import pred\n",
    "from tools.process_images import process_images\n",
    "from tools.quantization import kmeans, em_full\n",
    "from tools.submission import labels_to_csv\n",
    "from tools.visualization import imshow, dump_as_png"
   ]
  },
  {
   "cell_type": "markdown",
   "metadata": {},
   "source": [
    "# Data loading"
   ]
  },
  {
   "cell_type": "code",
   "execution_count": 2,
   "metadata": {
    "collapsed": true
   },
   "outputs": [],
   "source": [
    "X_train = load_images(type=\"train\")\n",
    "n_train = X_train.shape[0]\n",
    "Y_labels_train = load_labels()\n",
    "Y_train = dummy_code(Y_labels_train)\n",
    "n_classes = Y_train.shape[1]"
   ]
  },
  {
   "cell_type": "markdown",
   "metadata": {},
   "source": [
    "# Data separation"
   ]
  },
  {
   "cell_type": "code",
   "execution_count": 3,
   "metadata": {
    "collapsed": false
   },
   "outputs": [],
   "source": [
    "indices = np.random.permutation(X_train.shape[0])\n",
    "training_idx, test_idx = indices[:int(0.9*n_train)], indices[int(0.9*n_train):]"
   ]
  },
  {
   "cell_type": "markdown",
   "metadata": {},
   "source": [
    "# Visual features"
   ]
  },
  {
   "cell_type": "code",
   "execution_count": 4,
   "metadata": {
    "collapsed": false
   },
   "outputs": [
    {
     "name": "stdout",
     "output_type": "stream",
     "text": [
      "Wrongly clusterized pins: 119610\n",
      "Wrongly clusterized pins: 43998\n",
      "Wrongly clusterized pins: 21652\n",
      "Wrongly clusterized pins: 14790\n",
      "Wrongly clusterized pins: 11306\n",
      "Wrongly clusterized pins: 9077\n",
      "Wrongly clusterized pins: 7598\n",
      "Wrongly clusterized pins: 6377\n",
      "Wrongly clusterized pins: 5491\n",
      "Wrongly clusterized pins: 4867\n",
      "Wrongly clusterized pins: 4397\n",
      "Wrongly clusterized pins: 4122\n",
      "Wrongly clusterized pins: 3740\n",
      "Wrongly clusterized pins: 3523\n",
      "Wrongly clusterized pins: 3229\n",
      "Wrongly clusterized pins: 3059\n",
      "Wrongly clusterized pins: 2929\n",
      "Wrongly clusterized pins: 2730\n",
      "Wrongly clusterized pins: 2563\n",
      "Wrongly clusterized pins: 2450\n",
      "Wrongly clusterized pins: 2247\n",
      "Wrongly clusterized pins: 2067\n",
      "Wrongly clusterized pins: 2003\n",
      "Wrongly clusterized pins: 1875\n",
      "Wrongly clusterized pins: 1748\n",
      "Wrongly clusterized pins: 1648\n",
      "Wrongly clusterized pins: 1598\n",
      "Wrongly clusterized pins: 1537\n",
      "Wrongly clusterized pins: 1499\n",
      "Wrongly clusterized pins: 1440\n",
      "Wrongly clusterized pins: 1397\n",
      "Wrongly clusterized pins: 1340\n",
      "Wrongly clusterized pins: 1386\n",
      "Wrongly clusterized pins: 1312\n",
      "Wrongly clusterized pins: 1268\n",
      "Wrongly clusterized pins: 1268\n",
      "Wrongly clusterized pins: 1228\n",
      "Wrongly clusterized pins: 1174\n",
      "Wrongly clusterized pins: 1149\n",
      "Wrongly clusterized pins: 1139\n",
      "Wrongly clusterized pins: 1115\n",
      "Wrongly clusterized pins: 1127\n",
      "Wrongly clusterized pins: 1146\n",
      "Wrongly clusterized pins: 1135\n",
      "Wrongly clusterized pins: 1055\n",
      "Wrongly clusterized pins: 1034\n",
      "Wrongly clusterized pins: 1038\n",
      "Wrongly clusterized pins: 1042\n",
      "Wrongly clusterized pins: 1077\n",
      "Wrongly clusterized pins: 999\n",
      "Wrongly clusterized pins: 998\n",
      "Wrongly clusterized pins: 1004\n",
      "Wrongly clusterized pins: 988\n",
      "Wrongly clusterized pins: 980\n",
      "Wrongly clusterized pins: 1001\n",
      "Wrongly clusterized pins: 1010\n",
      "Wrongly clusterized pins: 977\n",
      "Wrongly clusterized pins: 1031\n",
      "Wrongly clusterized pins: 969\n",
      "Wrongly clusterized pins: 943\n",
      "Wrongly clusterized pins: 954\n",
      "Wrongly clusterized pins: 919\n",
      "Wrongly clusterized pins: 810\n",
      "Wrongly clusterized pins: 768\n",
      "Wrongly clusterized pins: 724\n",
      "Wrongly clusterized pins: 718\n",
      "Wrongly clusterized pins: 654\n",
      "Wrongly clusterized pins: 626\n",
      "Wrongly clusterized pins: 614\n",
      "Wrongly clusterized pins: 626\n",
      "Wrongly clusterized pins: 627\n",
      "Wrongly clusterized pins: 608\n",
      "Wrongly clusterized pins: 572\n",
      "Wrongly clusterized pins: 552\n",
      "Wrongly clusterized pins: 581\n",
      "Wrongly clusterized pins: 584\n",
      "Wrongly clusterized pins: 522\n",
      "Wrongly clusterized pins: 516\n",
      "Wrongly clusterized pins: 485\n",
      "Wrongly clusterized pins: 509\n",
      "Wrongly clusterized pins: 484\n",
      "Wrongly clusterized pins: 466\n",
      "Wrongly clusterized pins: 500\n",
      "Wrongly clusterized pins: 541\n",
      "Wrongly clusterized pins: 539\n",
      "Wrongly clusterized pins: 516\n",
      "Wrongly clusterized pins: 525\n",
      "Wrongly clusterized pins: 517\n",
      "Wrongly clusterized pins: 506\n",
      "Wrongly clusterized pins: 492\n",
      "Wrongly clusterized pins: 436\n",
      "Wrongly clusterized pins: 417\n",
      "Wrongly clusterized pins: 416\n",
      "Wrongly clusterized pins: 438\n",
      "Wrongly clusterized pins: 434\n",
      "Wrongly clusterized pins: 410\n",
      "Wrongly clusterized pins: 403\n",
      "Wrongly clusterized pins: 417\n",
      "Wrongly clusterized pins: 399\n",
      "Wrongly clusterized pins: 416\n",
      "Wrongly clusterized pins: 462\n",
      "Wrongly clusterized pins: 456\n",
      "Wrongly clusterized pins: 429\n",
      "Wrongly clusterized pins: 408\n",
      "Wrongly clusterized pins: 353\n",
      "Wrongly clusterized pins: 362\n",
      "Wrongly clusterized pins: 362\n",
      "Wrongly clusterized pins: 337\n",
      "Wrongly clusterized pins: 332\n",
      "Wrongly clusterized pins: 351\n",
      "Wrongly clusterized pins: 338\n",
      "Wrongly clusterized pins: 352\n",
      "Wrongly clusterized pins: 351\n",
      "Wrongly clusterized pins: 387\n",
      "Wrongly clusterized pins: 394\n",
      "Wrongly clusterized pins: 373\n",
      "Wrongly clusterized pins: 380\n",
      "Wrongly clusterized pins: 319\n",
      "Wrongly clusterized pins: 271\n",
      "Wrongly clusterized pins: 259\n",
      "Wrongly clusterized pins: 246\n",
      "Wrongly clusterized pins: 248\n",
      "Wrongly clusterized pins: 211\n",
      "Wrongly clusterized pins: 209\n",
      "Wrongly clusterized pins: 196\n",
      "Wrongly clusterized pins: 182\n",
      "Wrongly clusterized pins: 167\n",
      "Wrongly clusterized pins: 173\n",
      "Wrongly clusterized pins: 188\n",
      "Wrongly clusterized pins: 165\n",
      "Wrongly clusterized pins: 180\n",
      "Wrongly clusterized pins: 184\n",
      "Wrongly clusterized pins: 187\n",
      "Wrongly clusterized pins: 192\n",
      "Wrongly clusterized pins: 182\n",
      "Wrongly clusterized pins: 178\n",
      "Wrongly clusterized pins: 190\n",
      "Wrongly clusterized pins: 179\n",
      "Wrongly clusterized pins: 186\n",
      "Wrongly clusterized pins: 206\n",
      "Wrongly clusterized pins: 207\n",
      "Wrongly clusterized pins: 215\n",
      "Wrongly clusterized pins: 235\n",
      "Wrongly clusterized pins: 248\n",
      "Wrongly clusterized pins: 222\n",
      "Wrongly clusterized pins: 191\n",
      "Wrongly clusterized pins: 167\n",
      "Wrongly clusterized pins: 169\n",
      "Wrongly clusterized pins: 175\n",
      "Wrongly clusterized pins: 199\n",
      "Wrongly clusterized pins: 203\n",
      "Wrongly clusterized pins: 229\n",
      "Wrongly clusterized pins: 239\n",
      "Wrongly clusterized pins: 224\n",
      "Wrongly clusterized pins: 215\n",
      "Wrongly clusterized pins: 202\n",
      "Wrongly clusterized pins: 201\n",
      "Wrongly clusterized pins: 211\n",
      "Wrongly clusterized pins: 200\n",
      "Wrongly clusterized pins: 209\n",
      "Wrongly clusterized pins: 233\n",
      "Wrongly clusterized pins: 226\n",
      "Wrongly clusterized pins: 216\n",
      "Wrongly clusterized pins: 210\n",
      "Wrongly clusterized pins: 222\n",
      "Wrongly clusterized pins: 217\n",
      "Wrongly clusterized pins: 245\n",
      "Wrongly clusterized pins: 257\n",
      "Wrongly clusterized pins: 243\n",
      "Wrongly clusterized pins: 247\n",
      "Wrongly clusterized pins: 239\n",
      "Wrongly clusterized pins: 248\n",
      "Wrongly clusterized pins: 251\n",
      "Wrongly clusterized pins: 248\n",
      "Wrongly clusterized pins: 225\n",
      "Wrongly clusterized pins: 206\n",
      "Wrongly clusterized pins: 199\n",
      "Wrongly clusterized pins: 208\n",
      "Wrongly clusterized pins: 199\n",
      "Wrongly clusterized pins: 201\n",
      "Wrongly clusterized pins: 203\n",
      "Wrongly clusterized pins: 216\n",
      "Wrongly clusterized pins: 188\n",
      "Wrongly clusterized pins: 162\n",
      "Wrongly clusterized pins: 173\n",
      "Wrongly clusterized pins: 197\n",
      "Wrongly clusterized pins: 183\n",
      "Wrongly clusterized pins: 180\n",
      "Wrongly clusterized pins: 146\n",
      "Wrongly clusterized pins: 144\n",
      "Wrongly clusterized pins: 131\n",
      "Wrongly clusterized pins: 117\n",
      "Wrongly clusterized pins: 108\n",
      "Wrongly clusterized pins: 92\n",
      "Wrongly clusterized pins: 87\n",
      "Wrongly clusterized pins: 71\n",
      "Wrongly clusterized pins: 73\n",
      "Wrongly clusterized pins: 66\n",
      "Wrongly clusterized pins: 54\n",
      "Wrongly clusterized pins: 48\n",
      "Wrongly clusterized pins: 40\n",
      "Wrongly clusterized pins: 32\n",
      "Wrongly clusterized pins: 30\n",
      "Wrongly clusterized pins: 27\n",
      "Wrongly clusterized pins: 27\n",
      "Wrongly clusterized pins: 28\n",
      "Wrongly clusterized pins: 21\n",
      "Wrongly clusterized pins: 26\n",
      "Wrongly clusterized pins: 32\n",
      "Wrongly clusterized pins: 38\n",
      "Wrongly clusterized pins: 30\n",
      "Wrongly clusterized pins: 30\n",
      "Wrongly clusterized pins: 41\n",
      "Wrongly clusterized pins: 43\n",
      "Wrongly clusterized pins: 40\n",
      "Wrongly clusterized pins: 41\n",
      "Wrongly clusterized pins: 30\n",
      "Wrongly clusterized pins: 31\n",
      "Wrongly clusterized pins: 37\n",
      "Wrongly clusterized pins: 35\n",
      "Wrongly clusterized pins: 34\n",
      "Wrongly clusterized pins: 30\n",
      "Wrongly clusterized pins: 35\n",
      "Wrongly clusterized pins: 31\n",
      "Wrongly clusterized pins: 33\n",
      "Wrongly clusterized pins: 31\n",
      "Wrongly clusterized pins: 25\n",
      "Wrongly clusterized pins: 22\n",
      "Wrongly clusterized pins: 27\n",
      "Wrongly clusterized pins: 33\n",
      "Wrongly clusterized pins: 23\n",
      "Wrongly clusterized pins: 27\n",
      "Wrongly clusterized pins: 30\n",
      "Wrongly clusterized pins: 29\n",
      "Wrongly clusterized pins: 32\n",
      "Wrongly clusterized pins: 32\n",
      "Wrongly clusterized pins: 30\n",
      "Wrongly clusterized pins: 33\n",
      "Wrongly clusterized pins: 39\n",
      "Wrongly clusterized pins: 45\n",
      "Wrongly clusterized pins: 46\n",
      "Wrongly clusterized pins: 38\n",
      "Wrongly clusterized pins: 31\n",
      "Wrongly clusterized pins: 32\n",
      "Wrongly clusterized pins: 33\n",
      "Wrongly clusterized pins: 36\n",
      "Wrongly clusterized pins: 25\n",
      "Wrongly clusterized pins: 18\n",
      "Wrongly clusterized pins: 11\n",
      "Wrongly clusterized pins: 10\n",
      "Wrongly clusterized pins: 10\n",
      "Wrongly clusterized pins: 11\n",
      "Wrongly clusterized pins: 4\n",
      "Wrongly clusterized pins: 3\n",
      "Wrongly clusterized pins: 3\n",
      "Wrongly clusterized pins: 2\n",
      "Wrongly clusterized pins: 2\n",
      "Wrongly clusterized pins: 3\n",
      "Wrongly clusterized pins: 3\n",
      "Wrongly clusterized pins: 6\n",
      "Wrongly clusterized pins: 8\n",
      "Wrongly clusterized pins: 6\n",
      "Wrongly clusterized pins: 6\n",
      "Wrongly clusterized pins: 8\n",
      "Wrongly clusterized pins: 9\n",
      "Wrongly clusterized pins: 8\n",
      "Wrongly clusterized pins: 10\n",
      "Wrongly clusterized pins: 10\n",
      "Wrongly clusterized pins: 10\n",
      "Wrongly clusterized pins: 5\n",
      "Wrongly clusterized pins: 4\n",
      "Wrongly clusterized pins: 5\n",
      "Wrongly clusterized pins: 5\n",
      "Wrongly clusterized pins: 7\n",
      "Wrongly clusterized pins: 12\n",
      "Wrongly clusterized pins: 10\n",
      "Wrongly clusterized pins: 9\n",
      "Wrongly clusterized pins: 10\n",
      "Wrongly clusterized pins: 9\n",
      "Wrongly clusterized pins: 12\n",
      "Wrongly clusterized pins: 11\n",
      "Wrongly clusterized pins: 8\n",
      "Wrongly clusterized pins: 5\n",
      "Wrongly clusterized pins: 10\n",
      "Wrongly clusterized pins: 12\n",
      "Wrongly clusterized pins: 20\n",
      "Wrongly clusterized pins: 20\n",
      "Wrongly clusterized pins: 18\n",
      "Wrongly clusterized pins: 14\n",
      "Wrongly clusterized pins: 12\n",
      "Wrongly clusterized pins: 9\n",
      "Wrongly clusterized pins: 11\n",
      "Wrongly clusterized pins: 6\n",
      "Wrongly clusterized pins: 7\n",
      "Wrongly clusterized pins: 8\n",
      "Wrongly clusterized pins: 10\n",
      "Wrongly clusterized pins: 15\n",
      "Wrongly clusterized pins: 11\n",
      "Wrongly clusterized pins: 6\n",
      "Wrongly clusterized pins: 3\n",
      "Wrongly clusterized pins: 3\n",
      "Wrongly clusterized pins: 6\n",
      "Wrongly clusterized pins: 4\n",
      "Wrongly clusterized pins: 2\n",
      "Wrongly clusterized pins: 1\n",
      "Wrongly clusterized pins: 2\n",
      "Wrongly clusterized pins: 2\n",
      "Wrongly clusterized pins: 0\n"
     ]
    }
   ],
   "source": [
    "pins_dict_train = pins_generation(training_idx=training_idx, ratio_pins_per_image=33)\n",
    "pins_train = pins_dict_train[\"pins\"]\n",
    "train_pins = pins_dict_train[\"train_pins\"]\n",
    "pin_to_im_train = pins_dict_train[\"pin_to_im\"]\n",
    "pins_mat = np.vstack(train_pins)\n",
    "\n",
    "#pi, mu, sigma, labels = em_full(pins_mat, 100)\n",
    "visual_features , _ = kmeans(pins_mat, 100)"
   ]
  },
  {
   "cell_type": "markdown",
   "metadata": {},
   "source": [
    "# Data processing"
   ]
  },
  {
   "cell_type": "code",
   "execution_count": 5,
   "metadata": {
    "collapsed": true
   },
   "outputs": [],
   "source": [
    "X_proc = process_images(n_train, visual_features, pins_train, pin_to_im_train, gaussian_mixture=False)\n"
   ]
  },
  {
   "cell_type": "markdown",
   "metadata": {},
   "source": [
    "# Color"
   ]
  },
  {
   "cell_type": "code",
   "execution_count": null,
   "metadata": {
    "collapsed": false
   },
   "outputs": [],
   "source": [
    "\n"
   ]
  },
  {
   "cell_type": "code",
   "execution_count": 6,
   "metadata": {
    "collapsed": false
   },
   "outputs": [
    {
     "name": "stdout",
     "output_type": "stream",
     "text": [
      "Wrongly clusterized pins: 970812\n",
      "Wrongly clusterized pins: 239573\n",
      "Wrongly clusterized pins: 166839\n",
      "Wrongly clusterized pins: 127994\n",
      "Wrongly clusterized pins: 92771\n",
      "Wrongly clusterized pins: 64650\n",
      "Wrongly clusterized pins: 45265\n",
      "Wrongly clusterized pins: 33502\n",
      "Wrongly clusterized pins: 27799\n",
      "after 2 iterations\n"
     ]
    }
   ],
   "source": [
    "X_color = X_train[np.random.choice(X_train.shape[0], 1000)].reshape((1000*32*32,3))\n",
    "color_number = 20\n",
    "color_perimage = 5\n",
    "pi, mu, sigma, q = em_full(X_color, color_number)"
   ]
  },
  {
   "cell_type": "code",
   "execution_count": 9,
   "metadata": {
    "collapsed": false
   },
   "outputs": [
    {
     "name": "stderr",
     "output_type": "stream",
     "text": [
      "/home/pierre/.local/lib/python3.5/site-packages/numpy/lib/function_base.py:2487: RuntimeWarning: Degrees of freedom <= 0 for slice\n",
      "  warnings.warn(\"Degrees of freedom <= 0 for slice\", RuntimeWarning)\n",
      "/home/pierre/.local/lib/python3.5/site-packages/numpy/lib/function_base.py:2496: RuntimeWarning: divide by zero encountered in double_scalars\n",
      "  c *= 1. / np.float64(fact)\n",
      "/home/pierre/.local/lib/python3.5/site-packages/numpy/lib/function_base.py:2496: RuntimeWarning: invalid value encountered in multiply\n",
      "  c *= 1. / np.float64(fact)\n",
      "/home/pierre/.local/lib/python3.5/site-packages/numpy/linalg/linalg.py:1776: RuntimeWarning: invalid value encountered in det\n",
      "  r = _umath_linalg.det(a, signature=signature)\n",
      "/home/pierre/MVA/kernel-digits-challenge/tools/quantization.py:114: RuntimeWarning: invalid value encountered in absolute\n",
      "  det = np.sqrt(np.abs(np.linalg.det(sig)))\n"
     ]
    }
   ],
   "source": [
    "X_boC = np.zeros((X_train.shape[0], color_number))\n",
    "for i, image in enumerate(X_train):\n",
    "    _, colors, _, _ = em_full(image.reshape((32*32,3)), color_perimage, verbose=False)\n",
    "    color_dist = np.linalg.norm(mu[:, None, :] - colors, axis=2)\n",
    "    X_boC[i, np.argmin(color_dist, axis=0)] = 1 / (np.min(color_dist, axis=0)+ 1)"
   ]
  },
  {
   "cell_type": "markdown",
   "metadata": {},
   "source": [
    "# Data separation"
   ]
  },
  {
   "cell_type": "code",
   "execution_count": 15,
   "metadata": {
    "collapsed": false
   },
   "outputs": [],
   "source": [
    "# merging doesnt work !\n",
    "\n",
    "X_merged = np.hstack((X_proc, X_boC))\n",
    "X_sample = X_merged[training_idx, :]\n",
    "n_sample = X_sample.shape[0]\n",
    "X_test = X_merged[test_idx, :]\n",
    "n_test = X_test.shape[0]\n",
    "Y_sample = Y_train[training_idx, :]\n",
    "#X_sample = np.sqrt(X_sample)\n",
    "#X_test = np.sqrt(X_test)\n",
    "\n",
    "#X_sample = X_sample / np.linalg.norm(X_sample, axis=1)[:, None]\n",
    "#X_test = X_test / np.linalg.norm(X_test, axis=1)[:, None]\n"
   ]
  },
  {
   "cell_type": "markdown",
   "metadata": {},
   "source": [
    "# Training"
   ]
  },
  {
   "cell_type": "markdown",
   "metadata": {},
   "source": [
    "## Kernel choice"
   ]
  },
  {
   "cell_type": "code",
   "execution_count": 19,
   "metadata": {
    "collapsed": false
   },
   "outputs": [],
   "source": [
    "kernel_type = \"linear\"\n",
    "K_sample = kernel_matrix(X_sample, kernel_type=kernel_type, sigma=1)"
   ]
  },
  {
   "cell_type": "markdown",
   "metadata": {},
   "source": [
    "## Classifier choice"
   ]
  },
  {
   "cell_type": "code",
   "execution_count": 20,
   "metadata": {
    "collapsed": false
   },
   "outputs": [],
   "source": [
    "classifier_type = \"linear regression\"\n",
    "alpha = np.zeros((n_classes, n_sample))\n",
    "for dig in range(n_classes):\n",
    "    alpha[dig, :] = find_f(K_sample, Y_sample[:, dig],\n",
    "                           prob_type=classifier_type, lamb=1.)"
   ]
  },
  {
   "cell_type": "markdown",
   "metadata": {},
   "source": [
    "# Evaluation"
   ]
  },
  {
   "cell_type": "code",
   "execution_count": 21,
   "metadata": {
    "collapsed": false
   },
   "outputs": [
    {
     "name": "stdout",
     "output_type": "stream",
     "text": [
      "The precision on the test set is of 0.096\n"
     ]
    }
   ],
   "source": [
    "Y_pred = np.zeros((X_test.shape[0], n_classes))\n",
    "for dig in range(n_classes):\n",
    "    Y_pred[:, dig] = pred(X_sample, X_test, alpha[dig, :],\n",
    "                          kernel_type=kernel_type, sigma=1)\n",
    "\n",
    "\n",
    "Y_labels_pred = np.argmax(Y_pred, axis=1)\n",
    "prec = np.mean(Y_labels_pred == Y_labels_train[test_idx])\n",
    "print(\"The precision on the test set is of {}\".format(prec))"
   ]
  },
  {
   "cell_type": "markdown",
   "metadata": {},
   "source": [
    "# Prediction"
   ]
  },
  {
   "cell_type": "code",
   "execution_count": null,
   "metadata": {
    "collapsed": false
   },
   "outputs": [],
   "source": [
    "X_eval = load_images(type=\"test\")\n",
    "n_eval = X_eval.shape[0]\n",
    "\n",
    "# Visual features for submission\n",
    "pins_dict_eval = pins_generation(data_type=\"test\")\n",
    "pins_eval = pins_dict_eval[\"pins\"]\n",
    "pin_to_im_eval = pins_dict_eval[\"pin_to_im\"]\n",
    "\n",
    "\n",
    "# Data processing\n",
    "X_eval = process_images(n_eval, visual_features, pins_eval, pin_to_im_eval)\n",
    "n_eval, n_var = X_eval.shape\n",
    "\n",
    "Y_eval = np.zeros((n_eval, n_classes))\n",
    "for dig in range(n_classes):\n",
    "    Y_eval[:, dig] = pred(X_sample, X_eval, alpha[dig, :],\n",
    "                          kernel_type=kernel_type)\n",
    "\n",
    "\n",
    "Y_labels_eval = np.argmax(Y_eval, axis=1)\n",
    "\n",
    "\n",
    "# Submission\n",
    "labels_to_csv(Y_labels_eval, kernel=kernel_type, algo=classifier_type, user='PdT')"
   ]
  },
  {
   "cell_type": "code",
   "execution_count": null,
   "metadata": {
    "collapsed": true
   },
   "outputs": [],
   "source": []
  }
 ],
 "metadata": {
  "anaconda-cloud": {},
  "kernelspec": {
   "display_name": "Python 3",
   "language": "python",
   "name": "python3"
  },
  "language_info": {
   "codemirror_mode": {
    "name": "ipython",
    "version": 3
   },
   "file_extension": ".py",
   "mimetype": "text/x-python",
   "name": "python",
   "nbconvert_exporter": "python",
   "pygments_lexer": "ipython3",
   "version": "3.5.2"
  }
 },
 "nbformat": 4,
 "nbformat_minor": 2
}
