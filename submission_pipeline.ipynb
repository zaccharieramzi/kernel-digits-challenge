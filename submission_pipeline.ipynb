{
 "cells": [
  {
   "cell_type": "code",
   "execution_count": 1,
   "metadata": {
    "collapsed": false
   },
   "outputs": [],
   "source": [
    "import numpy as np\n",
    "\n",
    "from tools.data_loading import load_images, load_labels, dummy_code\n",
    "from tools.feature_learning import pins_generation\n",
    "from tools.kernels import kernel_matrix\n",
    "from tools.optimization import find_f\n",
    "from tools.prediction import pred\n",
    "from tools.process_images import process_images\n",
    "from tools.quantization import kmeans\n",
    "from tools.submission import labels_to_csv\n",
    "from tools.visualization import imshow, dump_as_png"
   ]
  },
  {
   "cell_type": "markdown",
   "metadata": {},
   "source": [
    "# Data loading"
   ]
  },
  {
   "cell_type": "code",
   "execution_count": 2,
   "metadata": {
    "collapsed": true
   },
   "outputs": [],
   "source": [
    "X_train = load_images(type=\"train\")\n",
    "n_train = X_train.shape[0]\n",
    "Y_labels_train = load_labels()\n",
    "Y_train = dummy_code(Y_labels_train)\n",
    "n_classes = Y_train.shape[1]"
   ]
  },
  {
   "cell_type": "markdown",
   "metadata": {},
   "source": [
    "# Data separation"
   ]
  },
  {
   "cell_type": "code",
   "execution_count": 3,
   "metadata": {
    "collapsed": true
   },
   "outputs": [],
   "source": [
    "indices = np.random.permutation(X_train.shape[0])\n",
    "training_idx, test_idx = indices[:int(0.9*n_train)], indices[int(0.9*n_train):]"
   ]
  },
  {
   "cell_type": "markdown",
   "metadata": {},
   "source": [
    "# Visual features"
   ]
  },
  {
   "cell_type": "code",
   "execution_count": 4,
   "metadata": {
    "collapsed": false
   },
   "outputs": [
    {
     "name": "stdout",
     "output_type": "stream",
     "text": [
      "Wrongly clusterized pins: 30214\n",
      "Wrongly clusterized pins: 8023\n",
      "Wrongly clusterized pins: 3835\n",
      "Wrongly clusterized pins: 2405\n",
      "Wrongly clusterized pins: 1712\n",
      "Wrongly clusterized pins: 1417\n",
      "Wrongly clusterized pins: 1145\n",
      "Wrongly clusterized pins: 958\n",
      "Wrongly clusterized pins: 806\n",
      "Wrongly clusterized pins: 715\n",
      "Wrongly clusterized pins: 623\n",
      "Wrongly clusterized pins: 557\n",
      "Wrongly clusterized pins: 463\n",
      "Wrongly clusterized pins: 411\n",
      "Wrongly clusterized pins: 373\n",
      "Wrongly clusterized pins: 365\n",
      "Wrongly clusterized pins: 301\n",
      "Wrongly clusterized pins: 309\n",
      "Wrongly clusterized pins: 292\n",
      "Wrongly clusterized pins: 300\n",
      "Wrongly clusterized pins: 294\n",
      "Wrongly clusterized pins: 270\n",
      "Wrongly clusterized pins: 261\n",
      "Wrongly clusterized pins: 251\n",
      "Wrongly clusterized pins: 227\n",
      "Wrongly clusterized pins: 202\n",
      "Wrongly clusterized pins: 194\n",
      "Wrongly clusterized pins: 197\n",
      "Wrongly clusterized pins: 197\n",
      "Wrongly clusterized pins: 194\n",
      "Wrongly clusterized pins: 182\n",
      "Wrongly clusterized pins: 173\n",
      "Wrongly clusterized pins: 180\n",
      "Wrongly clusterized pins: 154\n",
      "Wrongly clusterized pins: 155\n",
      "Wrongly clusterized pins: 148\n",
      "Wrongly clusterized pins: 144\n",
      "Wrongly clusterized pins: 138\n",
      "Wrongly clusterized pins: 135\n",
      "Wrongly clusterized pins: 148\n",
      "Wrongly clusterized pins: 137\n",
      "Wrongly clusterized pins: 131\n",
      "Wrongly clusterized pins: 110\n",
      "Wrongly clusterized pins: 104\n",
      "Wrongly clusterized pins: 112\n",
      "Wrongly clusterized pins: 107\n",
      "Wrongly clusterized pins: 91\n",
      "Wrongly clusterized pins: 68\n",
      "Wrongly clusterized pins: 77\n",
      "Wrongly clusterized pins: 70\n",
      "Wrongly clusterized pins: 53\n",
      "Wrongly clusterized pins: 46\n",
      "Wrongly clusterized pins: 39\n",
      "Wrongly clusterized pins: 44\n",
      "Wrongly clusterized pins: 31\n",
      "Wrongly clusterized pins: 34\n",
      "Wrongly clusterized pins: 36\n",
      "Wrongly clusterized pins: 38\n",
      "Wrongly clusterized pins: 34\n",
      "Wrongly clusterized pins: 27\n",
      "Wrongly clusterized pins: 23\n",
      "Wrongly clusterized pins: 24\n",
      "Wrongly clusterized pins: 17\n",
      "Wrongly clusterized pins: 13\n",
      "Wrongly clusterized pins: 12\n",
      "Wrongly clusterized pins: 13\n",
      "Wrongly clusterized pins: 13\n",
      "Wrongly clusterized pins: 18\n",
      "Wrongly clusterized pins: 13\n",
      "Wrongly clusterized pins: 9\n",
      "Wrongly clusterized pins: 11\n",
      "Wrongly clusterized pins: 10\n",
      "Wrongly clusterized pins: 15\n",
      "Wrongly clusterized pins: 10\n",
      "Wrongly clusterized pins: 10\n",
      "Wrongly clusterized pins: 7\n",
      "Wrongly clusterized pins: 6\n",
      "Wrongly clusterized pins: 8\n",
      "Wrongly clusterized pins: 7\n",
      "Wrongly clusterized pins: 9\n",
      "Wrongly clusterized pins: 15\n",
      "Wrongly clusterized pins: 14\n",
      "Wrongly clusterized pins: 18\n",
      "Wrongly clusterized pins: 16\n",
      "Wrongly clusterized pins: 18\n",
      "Wrongly clusterized pins: 19\n",
      "Wrongly clusterized pins: 17\n",
      "Wrongly clusterized pins: 12\n",
      "Wrongly clusterized pins: 11\n",
      "Wrongly clusterized pins: 18\n",
      "Wrongly clusterized pins: 23\n",
      "Wrongly clusterized pins: 26\n",
      "Wrongly clusterized pins: 34\n",
      "Wrongly clusterized pins: 31\n",
      "Wrongly clusterized pins: 29\n",
      "Wrongly clusterized pins: 29\n",
      "Wrongly clusterized pins: 29\n",
      "Wrongly clusterized pins: 40\n",
      "Wrongly clusterized pins: 38\n",
      "Wrongly clusterized pins: 40\n",
      "Wrongly clusterized pins: 39\n",
      "Wrongly clusterized pins: 46\n",
      "Wrongly clusterized pins: 46\n",
      "Wrongly clusterized pins: 42\n",
      "Wrongly clusterized pins: 39\n",
      "Wrongly clusterized pins: 37\n",
      "Wrongly clusterized pins: 44\n",
      "Wrongly clusterized pins: 41\n",
      "Wrongly clusterized pins: 45\n",
      "Wrongly clusterized pins: 44\n",
      "Wrongly clusterized pins: 34\n",
      "Wrongly clusterized pins: 45\n",
      "Wrongly clusterized pins: 23\n",
      "Wrongly clusterized pins: 19\n",
      "Wrongly clusterized pins: 17\n",
      "Wrongly clusterized pins: 11\n",
      "Wrongly clusterized pins: 7\n",
      "Wrongly clusterized pins: 7\n",
      "Wrongly clusterized pins: 5\n",
      "Wrongly clusterized pins: 2\n",
      "Wrongly clusterized pins: 4\n",
      "Wrongly clusterized pins: 4\n",
      "Wrongly clusterized pins: 4\n",
      "Wrongly clusterized pins: 1\n",
      "Wrongly clusterized pins: 0\n"
     ]
    }
   ],
   "source": [
    "pins_dict_train = pins_generation(training_idx=training_idx, ratio_pins_per_image=33, patch_size=16)\n",
    "pins_train = pins_dict_train[\"pins\"]\n",
    "train_pins = pins_dict_train[\"train_pins\"]\n",
    "pin_to_im_train = pins_dict_train[\"pin_to_im\"]\n",
    "pins_mat = np.vstack(train_pins)\n",
    "visual_features = kmeans(pins_mat[np.random.choice(pins_mat.shape[0], pins_mat.shape[0]//4)], 100)"
   ]
  },
  {
   "cell_type": "markdown",
   "metadata": {},
   "source": [
    "# Data processing"
   ]
  },
  {
   "cell_type": "code",
   "execution_count": 5,
   "metadata": {
    "collapsed": false
   },
   "outputs": [],
   "source": [
    "X_train = process_images(n_train, visual_features, pins_train, pin_to_im_train)\n",
    "n_train, n_var = X_train.shape"
   ]
  },
  {
   "cell_type": "markdown",
   "metadata": {},
   "source": [
    "# Data separation (bis)"
   ]
  },
  {
   "cell_type": "code",
   "execution_count": 6,
   "metadata": {
    "collapsed": true
   },
   "outputs": [],
   "source": [
    "X_sample = X_train[training_idx, :]\n",
    "n_sample = X_sample.shape[0]\n",
    "X_test = X_train[test_idx, :]\n",
    "n_test = X_test.shape[0]\n",
    "Y_sample = Y_train[training_idx, :]\n"
   ]
  },
  {
   "cell_type": "markdown",
   "metadata": {},
   "source": [
    "# Normalization"
   ]
  },
  {
   "cell_type": "code",
   "execution_count": 7,
   "metadata": {
    "collapsed": false
   },
   "outputs": [],
   "source": [
    "#X_sample = np.sqrt(X_sample)\n",
    "#X_test = np.sqrt(X_test)\n",
    "\n",
    "#X_sample = X_sample / np.linalg.norm(X_sample, axis=1)[:, None]\n",
    "#X_test = X_test / np.linalg.norm(X_test, axis=1)[:, None]\n"
   ]
  },
  {
   "cell_type": "markdown",
   "metadata": {},
   "source": [
    "# Training"
   ]
  },
  {
   "cell_type": "markdown",
   "metadata": {},
   "source": [
    "## Kernel choice"
   ]
  },
  {
   "cell_type": "code",
   "execution_count": 8,
   "metadata": {
    "collapsed": true
   },
   "outputs": [],
   "source": [
    "kernel_type = \"hellinger\"\n",
    "K_sample = kernel_matrix(X_sample, kernel_type=kernel_type)"
   ]
  },
  {
   "cell_type": "markdown",
   "metadata": {},
   "source": [
    "## Classifier choice"
   ]
  },
  {
   "cell_type": "code",
   "execution_count": 9,
   "metadata": {
    "collapsed": true
   },
   "outputs": [],
   "source": [
    "classifier_type = \"linear regression\"\n",
    "alpha = np.zeros((n_classes, n_sample))\n",
    "for dig in range(n_classes):\n",
    "    alpha[dig, :] = find_f(K_sample, Y_sample[:, dig],\n",
    "                           prob_type=classifier_type, lamb=1.)"
   ]
  },
  {
   "cell_type": "markdown",
   "metadata": {},
   "source": [
    "# Evaluation"
   ]
  },
  {
   "cell_type": "code",
   "execution_count": 10,
   "metadata": {
    "collapsed": false
   },
   "outputs": [
    {
     "name": "stdout",
     "output_type": "stream",
     "text": [
      "The precision on the test set is of 0.312\n"
     ]
    }
   ],
   "source": [
    "Y_pred = np.zeros((X_test.shape[0], n_classes))\n",
    "for dig in range(n_classes):\n",
    "    Y_pred[:, dig] = pred(X_sample, X_test, alpha[dig, :],\n",
    "                          kernel_type=kernel_type)\n",
    "\n",
    "\n",
    "Y_labels_pred = np.argmax(Y_pred, axis=1)\n",
    "prec = np.mean(Y_labels_pred == Y_labels_train[test_idx])\n",
    "print(\"The precision on the test set is of {}\".format(prec))"
   ]
  },
  {
   "cell_type": "code",
   "execution_count": null,
   "metadata": {
    "collapsed": true
   },
   "outputs": [],
   "source": []
  },
  {
   "cell_type": "markdown",
   "metadata": {},
   "source": [
    "# Prediction"
   ]
  },
  {
   "cell_type": "code",
   "execution_count": 11,
   "metadata": {
    "collapsed": false
   },
   "outputs": [
    {
     "ename": "NameError",
     "evalue": "name 'os' is not defined",
     "output_type": "error",
     "traceback": [
      "\u001b[0;31m---------------------------------------------------------------------------\u001b[0m",
      "\u001b[0;31mNameError\u001b[0m                                 Traceback (most recent call last)",
      "\u001b[0;32m<ipython-input-11-8e94499be72b>\u001b[0m in \u001b[0;36m<module>\u001b[0;34m()\u001b[0m\n\u001b[1;32m     22\u001b[0m \u001b[0;34m\u001b[0m\u001b[0m\n\u001b[1;32m     23\u001b[0m \u001b[0;31m# Submission\u001b[0m\u001b[0;34m\u001b[0m\u001b[0;34m\u001b[0m\u001b[0m\n\u001b[0;32m---> 24\u001b[0;31m \u001b[0mlabels_to_csv\u001b[0m\u001b[0;34m(\u001b[0m\u001b[0mY_labels_eval\u001b[0m\u001b[0;34m,\u001b[0m \u001b[0mkernel\u001b[0m\u001b[0;34m=\u001b[0m\u001b[0mkernel_type\u001b[0m\u001b[0;34m,\u001b[0m \u001b[0malgo\u001b[0m\u001b[0;34m=\u001b[0m\u001b[0mclassifier_type\u001b[0m\u001b[0;34m,\u001b[0m \u001b[0muser\u001b[0m\u001b[0;34m=\u001b[0m\u001b[0;34m'PdT'\u001b[0m\u001b[0;34m)\u001b[0m\u001b[0;34m\u001b[0m\u001b[0m\n\u001b[0m",
      "\u001b[0;32m/home/pierre/MVA/kernel-digits-challenge/tools/submission.py\u001b[0m in \u001b[0;36mlabels_to_csv\u001b[0;34m(Y, kernel, algo, user, file_name)\u001b[0m\n\u001b[1;32m     26\u001b[0m         )\n\u001b[1;32m     27\u001b[0m     \u001b[0moutfolder_path\u001b[0m \u001b[0;34m=\u001b[0m \u001b[0;34m\"submissions\"\u001b[0m\u001b[0;34m\u001b[0m\u001b[0m\n\u001b[0;32m---> 28\u001b[0;31m     \u001b[0;32mif\u001b[0m \u001b[0;32mnot\u001b[0m \u001b[0mos\u001b[0m\u001b[0;34m.\u001b[0m\u001b[0mpath\u001b[0m\u001b[0;34m.\u001b[0m\u001b[0misdir\u001b[0m\u001b[0;34m(\u001b[0m\u001b[0moutfolder_path\u001b[0m\u001b[0;34m)\u001b[0m\u001b[0;34m:\u001b[0m\u001b[0;34m\u001b[0m\u001b[0m\n\u001b[0m\u001b[1;32m     29\u001b[0m         \u001b[0mos\u001b[0m\u001b[0;34m.\u001b[0m\u001b[0mmkdir\u001b[0m\u001b[0;34m(\u001b[0m\u001b[0moutfolder_path\u001b[0m\u001b[0;34m)\u001b[0m\u001b[0;34m\u001b[0m\u001b[0m\n\u001b[1;32m     30\u001b[0m \u001b[0;34m\u001b[0m\u001b[0m\n",
      "\u001b[0;31mNameError\u001b[0m: name 'os' is not defined"
     ]
    }
   ],
   "source": [
    "X_eval = load_images(type=\"test\")\n",
    "n_eval = X_eval.shape[0]\n",
    "\n",
    "# Visual features for submission\n",
    "pins_dict_eval = pins_generation(data_type=\"test\")\n",
    "pins_eval = pins_dict_eval[\"pins\"]\n",
    "pin_to_im_eval = pins_dict_eval[\"pin_to_im\"]\n",
    "\n",
    "\n",
    "# Data processing\n",
    "X_eval = process_images(n_eval, visual_features, pins_eval, pin_to_im_eval)\n",
    "n_eval, n_var = X_eval.shape\n",
    "\n",
    "Y_eval = np.zeros((n_eval, n_classes))\n",
    "for dig in range(n_classes):\n",
    "    Y_eval[:, dig] = pred(X_sample, X_eval, alpha[dig, :],\n",
    "                          kernel_type=kernel_type)\n",
    "\n",
    "\n",
    "Y_labels_eval = np.argmax(Y_eval, axis=1)\n",
    "\n",
    "\n",
    "# Submission\n",
    "labels_to_csv(Y_labels_eval, kernel=kernel_type, algo=classifier_type, user='PdT')"
   ]
  },
  {
   "cell_type": "code",
   "execution_count": null,
   "metadata": {
    "collapsed": true
   },
   "outputs": [],
   "source": []
  }
 ],
 "metadata": {
  "kernelspec": {
   "display_name": "Python 3",
   "language": "python",
   "name": "python3"
  },
  "language_info": {
   "codemirror_mode": {
    "name": "ipython",
    "version": 3
   },
   "file_extension": ".py",
   "mimetype": "text/x-python",
   "name": "python",
   "nbconvert_exporter": "python",
   "pygments_lexer": "ipython3",
   "version": "3.5.2"
  }
 },
 "nbformat": 4,
 "nbformat_minor": 2
}
