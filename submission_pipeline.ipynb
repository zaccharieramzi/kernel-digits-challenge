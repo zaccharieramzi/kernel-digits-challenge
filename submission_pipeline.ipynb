{
 "cells": [
  {
   "cell_type": "code",
   "execution_count": 1,
   "metadata": {
    "collapsed": false
   },
   "outputs": [],
   "source": [
    "import numpy as np\n",
    "\n",
    "from tools.data_loading import load_images, load_labels, dummy_code\n",
    "from tools.feature_learning import pins_generation\n",
    "from tools.kernels import kernel_matrix\n",
    "from tools.optimization import find_f\n",
    "from tools.prediction import pred\n",
    "from tools.process_images import process_images\n",
    "from tools.quantization import kmeans\n",
    "from tools.submission import labels_to_csv\n",
    "from tools.visualization import imshow, dump_as_png"
   ]
  },
  {
   "cell_type": "markdown",
   "metadata": {},
   "source": [
    "# Data loading"
   ]
  },
  {
   "cell_type": "code",
   "execution_count": 2,
   "metadata": {
    "collapsed": true
   },
   "outputs": [],
   "source": [
    "X_train = load_images(type=\"train\")\n",
    "n_train = X_train.shape[0]\n",
    "Y_labels_train = load_labels()\n",
    "Y_train = dummy_code(Y_labels_train)\n",
    "n_classes = Y_train.shape[1]"
   ]
  },
  {
   "cell_type": "markdown",
   "metadata": {},
   "source": [
    "# Data separation"
   ]
  },
  {
   "cell_type": "code",
   "execution_count": 3,
   "metadata": {
    "collapsed": true
   },
   "outputs": [],
   "source": [
    "indices = np.random.permutation(X_train.shape[0])\n",
    "training_idx, test_idx = indices[:int(0.9*n_train)], indices[int(0.9*n_train):]"
   ]
  },
  {
   "cell_type": "markdown",
   "metadata": {},
   "source": [
    "# Visual features"
   ]
  },
  {
   "cell_type": "code",
   "execution_count": 4,
   "metadata": {
    "collapsed": false
   },
   "outputs": [
    {
     "name": "stdout",
     "output_type": "stream",
     "text": [
      "Wrongly clusterized pins: 120017\n",
      "Wrongly clusterized pins: 44483\n",
      "Wrongly clusterized pins: 22165\n",
      "Wrongly clusterized pins: 14826\n",
      "Wrongly clusterized pins: 11155\n",
      "Wrongly clusterized pins: 9014\n",
      "Wrongly clusterized pins: 7503\n",
      "Wrongly clusterized pins: 6629\n",
      "Wrongly clusterized pins: 5992\n",
      "Wrongly clusterized pins: 5288\n",
      "Wrongly clusterized pins: 4924\n",
      "Wrongly clusterized pins: 4498\n",
      "Wrongly clusterized pins: 4200\n",
      "Wrongly clusterized pins: 3921\n",
      "Wrongly clusterized pins: 3585\n",
      "Wrongly clusterized pins: 3345\n",
      "Wrongly clusterized pins: 3130\n",
      "Wrongly clusterized pins: 3060\n",
      "Wrongly clusterized pins: 2885\n",
      "Wrongly clusterized pins: 2677\n",
      "Wrongly clusterized pins: 2575\n",
      "Wrongly clusterized pins: 2535\n",
      "Wrongly clusterized pins: 2364\n",
      "Wrongly clusterized pins: 2155\n",
      "Wrongly clusterized pins: 2007\n",
      "Wrongly clusterized pins: 1891\n",
      "Wrongly clusterized pins: 1822\n",
      "Wrongly clusterized pins: 1709\n",
      "Wrongly clusterized pins: 1650\n",
      "Wrongly clusterized pins: 1622\n",
      "Wrongly clusterized pins: 1537\n",
      "Wrongly clusterized pins: 1478\n",
      "Wrongly clusterized pins: 1447\n",
      "Wrongly clusterized pins: 1357\n",
      "Wrongly clusterized pins: 1392\n",
      "Wrongly clusterized pins: 1400\n",
      "Wrongly clusterized pins: 1374\n",
      "Wrongly clusterized pins: 1302\n",
      "Wrongly clusterized pins: 1212\n",
      "Wrongly clusterized pins: 1195\n",
      "Wrongly clusterized pins: 1198\n",
      "Wrongly clusterized pins: 1186\n",
      "Wrongly clusterized pins: 1151\n",
      "Wrongly clusterized pins: 1141\n",
      "Wrongly clusterized pins: 1059\n",
      "Wrongly clusterized pins: 982\n",
      "Wrongly clusterized pins: 877\n",
      "Wrongly clusterized pins: 856\n",
      "Wrongly clusterized pins: 849\n",
      "Wrongly clusterized pins: 831\n",
      "Wrongly clusterized pins: 809\n",
      "Wrongly clusterized pins: 657\n",
      "Wrongly clusterized pins: 584\n",
      "Wrongly clusterized pins: 582\n",
      "Wrongly clusterized pins: 615\n",
      "Wrongly clusterized pins: 609\n",
      "Wrongly clusterized pins: 587\n",
      "Wrongly clusterized pins: 571\n",
      "Wrongly clusterized pins: 589\n",
      "Wrongly clusterized pins: 546\n",
      "Wrongly clusterized pins: 526\n",
      "Wrongly clusterized pins: 514\n",
      "Wrongly clusterized pins: 504\n",
      "Wrongly clusterized pins: 489\n",
      "Wrongly clusterized pins: 474\n",
      "Wrongly clusterized pins: 464\n",
      "Wrongly clusterized pins: 470\n",
      "Wrongly clusterized pins: 489\n",
      "Wrongly clusterized pins: 453\n",
      "Wrongly clusterized pins: 474\n",
      "Wrongly clusterized pins: 477\n",
      "Wrongly clusterized pins: 480\n",
      "Wrongly clusterized pins: 448\n",
      "Wrongly clusterized pins: 462\n",
      "Wrongly clusterized pins: 432\n",
      "Wrongly clusterized pins: 400\n",
      "Wrongly clusterized pins: 394\n",
      "Wrongly clusterized pins: 418\n",
      "Wrongly clusterized pins: 394\n",
      "Wrongly clusterized pins: 361\n",
      "Wrongly clusterized pins: 329\n",
      "Wrongly clusterized pins: 320\n",
      "Wrongly clusterized pins: 311\n",
      "Wrongly clusterized pins: 290\n",
      "Wrongly clusterized pins: 285\n",
      "Wrongly clusterized pins: 275\n",
      "Wrongly clusterized pins: 244\n",
      "Wrongly clusterized pins: 237\n",
      "Wrongly clusterized pins: 228\n",
      "Wrongly clusterized pins: 186\n",
      "Wrongly clusterized pins: 168\n",
      "Wrongly clusterized pins: 169\n",
      "Wrongly clusterized pins: 187\n",
      "Wrongly clusterized pins: 174\n",
      "Wrongly clusterized pins: 159\n",
      "Wrongly clusterized pins: 159\n",
      "Wrongly clusterized pins: 170\n",
      "Wrongly clusterized pins: 189\n",
      "Wrongly clusterized pins: 205\n",
      "Wrongly clusterized pins: 183\n",
      "Wrongly clusterized pins: 195\n",
      "Wrongly clusterized pins: 173\n",
      "Wrongly clusterized pins: 185\n",
      "Wrongly clusterized pins: 182\n",
      "Wrongly clusterized pins: 212\n",
      "Wrongly clusterized pins: 203\n",
      "Wrongly clusterized pins: 223\n",
      "Wrongly clusterized pins: 217\n",
      "Wrongly clusterized pins: 197\n",
      "Wrongly clusterized pins: 183\n",
      "Wrongly clusterized pins: 180\n",
      "Wrongly clusterized pins: 166\n",
      "Wrongly clusterized pins: 173\n",
      "Wrongly clusterized pins: 163\n",
      "Wrongly clusterized pins: 180\n",
      "Wrongly clusterized pins: 199\n",
      "Wrongly clusterized pins: 197\n",
      "Wrongly clusterized pins: 194\n",
      "Wrongly clusterized pins: 182\n",
      "Wrongly clusterized pins: 190\n",
      "Wrongly clusterized pins: 211\n",
      "Wrongly clusterized pins: 195\n",
      "Wrongly clusterized pins: 194\n",
      "Wrongly clusterized pins: 213\n",
      "Wrongly clusterized pins: 189\n",
      "Wrongly clusterized pins: 168\n",
      "Wrongly clusterized pins: 160\n",
      "Wrongly clusterized pins: 149\n",
      "Wrongly clusterized pins: 157\n",
      "Wrongly clusterized pins: 160\n",
      "Wrongly clusterized pins: 163\n",
      "Wrongly clusterized pins: 149\n",
      "Wrongly clusterized pins: 153\n",
      "Wrongly clusterized pins: 142\n",
      "Wrongly clusterized pins: 132\n",
      "Wrongly clusterized pins: 129\n",
      "Wrongly clusterized pins: 144\n",
      "Wrongly clusterized pins: 132\n",
      "Wrongly clusterized pins: 111\n",
      "Wrongly clusterized pins: 107\n",
      "Wrongly clusterized pins: 114\n",
      "Wrongly clusterized pins: 115\n",
      "Wrongly clusterized pins: 118\n",
      "Wrongly clusterized pins: 99\n",
      "Wrongly clusterized pins: 72\n",
      "Wrongly clusterized pins: 79\n",
      "Wrongly clusterized pins: 70\n",
      "Wrongly clusterized pins: 88\n",
      "Wrongly clusterized pins: 79\n",
      "Wrongly clusterized pins: 78\n",
      "Wrongly clusterized pins: 74\n",
      "Wrongly clusterized pins: 87\n",
      "Wrongly clusterized pins: 79\n",
      "Wrongly clusterized pins: 69\n",
      "Wrongly clusterized pins: 59\n",
      "Wrongly clusterized pins: 61\n",
      "Wrongly clusterized pins: 59\n",
      "Wrongly clusterized pins: 62\n",
      "Wrongly clusterized pins: 48\n",
      "Wrongly clusterized pins: 45\n",
      "Wrongly clusterized pins: 41\n",
      "Wrongly clusterized pins: 33\n",
      "Wrongly clusterized pins: 27\n",
      "Wrongly clusterized pins: 32\n",
      "Wrongly clusterized pins: 37\n",
      "Wrongly clusterized pins: 40\n",
      "Wrongly clusterized pins: 47\n",
      "Wrongly clusterized pins: 40\n",
      "Wrongly clusterized pins: 31\n",
      "Wrongly clusterized pins: 27\n",
      "Wrongly clusterized pins: 28\n",
      "Wrongly clusterized pins: 25\n",
      "Wrongly clusterized pins: 31\n",
      "Wrongly clusterized pins: 26\n",
      "Wrongly clusterized pins: 22\n",
      "Wrongly clusterized pins: 17\n",
      "Wrongly clusterized pins: 17\n",
      "Wrongly clusterized pins: 23\n",
      "Wrongly clusterized pins: 18\n",
      "Wrongly clusterized pins: 30\n",
      "Wrongly clusterized pins: 24\n",
      "Wrongly clusterized pins: 23\n",
      "Wrongly clusterized pins: 26\n",
      "Wrongly clusterized pins: 38\n",
      "Wrongly clusterized pins: 29\n",
      "Wrongly clusterized pins: 25\n",
      "Wrongly clusterized pins: 24\n",
      "Wrongly clusterized pins: 20\n",
      "Wrongly clusterized pins: 19\n",
      "Wrongly clusterized pins: 23\n",
      "Wrongly clusterized pins: 25\n",
      "Wrongly clusterized pins: 19\n",
      "Wrongly clusterized pins: 21\n",
      "Wrongly clusterized pins: 20\n",
      "Wrongly clusterized pins: 20\n",
      "Wrongly clusterized pins: 15\n",
      "Wrongly clusterized pins: 20\n",
      "Wrongly clusterized pins: 23\n",
      "Wrongly clusterized pins: 32\n",
      "Wrongly clusterized pins: 30\n",
      "Wrongly clusterized pins: 26\n",
      "Wrongly clusterized pins: 31\n",
      "Wrongly clusterized pins: 25\n",
      "Wrongly clusterized pins: 24\n",
      "Wrongly clusterized pins: 28\n",
      "Wrongly clusterized pins: 30\n",
      "Wrongly clusterized pins: 29\n",
      "Wrongly clusterized pins: 27\n",
      "Wrongly clusterized pins: 40\n",
      "Wrongly clusterized pins: 33\n",
      "Wrongly clusterized pins: 24\n",
      "Wrongly clusterized pins: 20\n",
      "Wrongly clusterized pins: 25\n",
      "Wrongly clusterized pins: 16\n",
      "Wrongly clusterized pins: 18\n",
      "Wrongly clusterized pins: 20\n",
      "Wrongly clusterized pins: 17\n",
      "Wrongly clusterized pins: 16\n",
      "Wrongly clusterized pins: 18\n",
      "Wrongly clusterized pins: 24\n",
      "Wrongly clusterized pins: 21\n",
      "Wrongly clusterized pins: 16\n",
      "Wrongly clusterized pins: 16\n",
      "Wrongly clusterized pins: 20\n",
      "Wrongly clusterized pins: 16\n",
      "Wrongly clusterized pins: 16\n",
      "Wrongly clusterized pins: 16\n",
      "Wrongly clusterized pins: 22\n",
      "Wrongly clusterized pins: 23\n",
      "Wrongly clusterized pins: 28\n",
      "Wrongly clusterized pins: 38\n",
      "Wrongly clusterized pins: 26\n",
      "Wrongly clusterized pins: 23\n",
      "Wrongly clusterized pins: 15\n",
      "Wrongly clusterized pins: 16\n",
      "Wrongly clusterized pins: 13\n",
      "Wrongly clusterized pins: 13\n",
      "Wrongly clusterized pins: 9\n",
      "Wrongly clusterized pins: 14\n",
      "Wrongly clusterized pins: 17\n",
      "Wrongly clusterized pins: 15\n",
      "Wrongly clusterized pins: 13\n",
      "Wrongly clusterized pins: 19\n",
      "Wrongly clusterized pins: 21\n",
      "Wrongly clusterized pins: 24\n",
      "Wrongly clusterized pins: 28\n",
      "Wrongly clusterized pins: 29\n",
      "Wrongly clusterized pins: 21\n",
      "Wrongly clusterized pins: 24\n",
      "Wrongly clusterized pins: 21\n",
      "Wrongly clusterized pins: 12\n",
      "Wrongly clusterized pins: 11\n",
      "Wrongly clusterized pins: 13\n",
      "Wrongly clusterized pins: 11\n",
      "Wrongly clusterized pins: 8\n",
      "Wrongly clusterized pins: 8\n",
      "Wrongly clusterized pins: 4\n",
      "Wrongly clusterized pins: 6\n",
      "Wrongly clusterized pins: 3\n",
      "Wrongly clusterized pins: 4\n",
      "Wrongly clusterized pins: 2\n",
      "Wrongly clusterized pins: 2\n",
      "Wrongly clusterized pins: 2\n",
      "Wrongly clusterized pins: 2\n",
      "Wrongly clusterized pins: 1\n",
      "Wrongly clusterized pins: 4\n",
      "Wrongly clusterized pins: 2\n",
      "Wrongly clusterized pins: 0\n"
     ]
    }
   ],
   "source": [
    "pins_dict_train = pins_generation(training_idx=training_idx, ratio_pins_per_image=33)\n",
    "pins_train = pins_dict_train[\"pins\"]\n",
    "train_pins = pins_dict_train[\"train_pins\"]\n",
    "pin_to_im_train = pins_dict_train[\"pin_to_im\"]\n",
    "pins_mat = np.vstack(train_pins)\n",
    "visual_features = kmeans(pins_mat, 100)"
   ]
  },
  {
   "cell_type": "markdown",
   "metadata": {},
   "source": [
    "# Data processing"
   ]
  },
  {
   "cell_type": "code",
   "execution_count": 5,
   "metadata": {
    "collapsed": true
   },
   "outputs": [],
   "source": [
    "X_train = process_images(n_train, visual_features, pins_train, pin_to_im_train)\n",
    "n_train, n_var = X_train.shape"
   ]
  },
  {
   "cell_type": "markdown",
   "metadata": {},
   "source": [
    "# Data separation (bis)"
   ]
  },
  {
   "cell_type": "code",
   "execution_count": 6,
   "metadata": {
    "collapsed": true
   },
   "outputs": [],
   "source": [
    "X_sample = X_train[training_idx, :]\n",
    "n_sample = X_sample.shape[0]\n",
    "X_test = X_train[test_idx, :]\n",
    "n_test = X_test.shape[0]\n",
    "Y_sample = Y_train[training_idx, :]\n"
   ]
  },
  {
   "cell_type": "markdown",
   "metadata": {},
   "source": [
    "# Normalization"
   ]
  },
  {
   "cell_type": "code",
   "execution_count": 7,
   "metadata": {
    "collapsed": false
   },
   "outputs": [],
   "source": [
    "#X_sample = np.sqrt(X_sample)\n",
    "#X_test = np.sqrt(X_test)\n",
    "\n",
    "#X_sample = X_sample / np.linalg.norm(X_sample, axis=1)[:, None]\n",
    "#X_test = X_test / np.linalg.norm(X_test, axis=1)[:, None]\n"
   ]
  },
  {
   "cell_type": "markdown",
   "metadata": {},
   "source": [
    "# Training"
   ]
  },
  {
   "cell_type": "markdown",
   "metadata": {},
   "source": [
    "## Kernel choice"
   ]
  },
  {
   "cell_type": "code",
   "execution_count": 8,
   "metadata": {
    "collapsed": true
   },
   "outputs": [],
   "source": [
    "kernel_type = \"hellinger\"\n",
    "K_sample = kernel_matrix(X_sample, kernel_type=kernel_type)"
   ]
  },
  {
   "cell_type": "markdown",
   "metadata": {},
   "source": [
    "## Classifier choice"
   ]
  },
  {
   "cell_type": "code",
   "execution_count": 9,
   "metadata": {
    "collapsed": true
   },
   "outputs": [],
   "source": [
    "classifier_type = \"linear regression\"\n",
    "alpha = np.zeros((n_classes, n_sample))\n",
    "for dig in range(n_classes):\n",
    "    alpha[dig, :] = find_f(K_sample, Y_sample[:, dig],\n",
    "                           prob_type=classifier_type, lamb=1.)"
   ]
  },
  {
   "cell_type": "markdown",
   "metadata": {},
   "source": [
    "# Evaluation"
   ]
  },
  {
   "cell_type": "code",
   "execution_count": 10,
   "metadata": {
    "collapsed": false
   },
   "outputs": [
    {
     "name": "stdout",
     "output_type": "stream",
     "text": [
      "The precision on the test set is of 0.27\n"
     ]
    }
   ],
   "source": [
    "Y_pred = np.zeros((X_test.shape[0], n_classes))\n",
    "for dig in range(n_classes):\n",
    "    Y_pred[:, dig] = pred(X_sample, X_test, alpha[dig, :],\n",
    "                          kernel_type=kernel_type)\n",
    "\n",
    "\n",
    "Y_labels_pred = np.argmax(Y_pred, axis=1)\n",
    "prec = np.mean(Y_labels_pred == Y_labels_train[test_idx])\n",
    "print(\"The precision on the test set is of {}\".format(prec))"
   ]
  },
  {
   "cell_type": "markdown",
   "metadata": {},
   "source": [
    "# Prediction"
   ]
  },
  {
   "cell_type": "code",
   "execution_count": null,
   "metadata": {
    "collapsed": false
   },
   "outputs": [],
   "source": [
    "X_eval = load_images(type=\"test\")\n",
    "n_eval = X_eval.shape[0]\n",
    "\n",
    "# Visual features for submission\n",
    "pins_dict_eval = pins_generation(data_type=\"test\")\n",
    "pins_eval = pins_dict_eval[\"pins\"]\n",
    "pin_to_im_eval = pins_dict_eval[\"pin_to_im\"]\n",
    "\n",
    "\n",
    "# Data processing\n",
    "X_eval = process_images(n_eval, visual_features, pins_eval, pin_to_im_eval)\n",
    "n_eval, n_var = X_eval.shape\n",
    "\n",
    "Y_eval = np.zeros((n_eval, n_classes))\n",
    "for dig in range(n_classes):\n",
    "    Y_eval[:, dig] = pred(X_sample, X_eval, alpha[dig, :],\n",
    "                          kernel_type=kernel_type)\n",
    "\n",
    "\n",
    "Y_labels_eval = np.argmax(Y_eval, axis=1)\n",
    "\n",
    "\n",
    "# Submission\n",
    "labels_to_csv(Y_labels_eval, kernel=kernel_type, algo=classifier_type, user='PdT')"
   ]
  },
  {
   "cell_type": "code",
   "execution_count": 12,
   "metadata": {
    "collapsed": true
   },
   "outputs": [],
   "source": []
  }
 ],
 "metadata": {
  "kernelspec": {
   "display_name": "Python 3",
   "language": "python",
   "name": "python3"
  },
  "language_info": {
   "codemirror_mode": {
    "name": "ipython",
    "version": 3
   },
   "file_extension": ".py",
   "mimetype": "text/x-python",
   "name": "python",
   "nbconvert_exporter": "python",
   "pygments_lexer": "ipython3",
   "version": "3.5.2"
  }
 },
 "nbformat": 4,
 "nbformat_minor": 2
}
