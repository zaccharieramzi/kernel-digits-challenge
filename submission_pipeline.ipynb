{
 "cells": [
  {
   "cell_type": "code",
   "execution_count": 1,
   "metadata": {
    "collapsed": false
   },
   "outputs": [],
   "source": [
    "import numpy as np\n",
    "\n",
    "from tools.data_loading import load_images, load_labels, dummy_code\n",
    "from tools.feature_learning import pins_generation\n",
    "from tools.kernels import kernel_matrix\n",
    "from tools.optimization import find_f\n",
    "from tools.prediction import pred\n",
    "from tools.process_images import process_images\n",
    "from tools.quantization import kmeans\n",
    "from tools.submission import labels_to_csv\n",
    "from tools.visualization import imshow, dump_as_png"
   ]
  },
  {
   "cell_type": "markdown",
   "metadata": {},
   "source": [
    "# Data loading"
   ]
  },
  {
   "cell_type": "code",
   "execution_count": 2,
   "metadata": {
    "collapsed": true
   },
   "outputs": [],
   "source": [
    "X_train = load_images(type=\"train\")\n",
    "n_train = X_train.shape[0]\n",
    "Y_labels_train = load_labels()\n",
    "Y_train = dummy_code(Y_labels_train)\n",
    "n_classes = Y_train.shape[1]"
   ]
  },
  {
   "cell_type": "markdown",
   "metadata": {},
   "source": [
    "# Data separation"
   ]
  },
  {
   "cell_type": "code",
   "execution_count": 3,
   "metadata": {
    "collapsed": true
   },
   "outputs": [],
   "source": [
    "indices = np.random.permutation(X_train.shape[0])\n",
    "training_idx, test_idx = indices[:int(0.9*n_train)], indices[int(0.9*n_train):]"
   ]
  },
  {
   "cell_type": "markdown",
   "metadata": {},
   "source": [
    "# Visual features"
   ]
  },
  {
   "cell_type": "code",
   "execution_count": 4,
   "metadata": {
    "collapsed": false
   },
   "outputs": [
    {
     "name": "stdout",
     "output_type": "stream",
     "text": [
      "Wrongly clusterized pins: 121258\n",
      "Wrongly clusterized pins: 44688\n",
      "Wrongly clusterized pins: 21222\n",
      "Wrongly clusterized pins: 14562\n",
      "Wrongly clusterized pins: 11232\n",
      "Wrongly clusterized pins: 9140\n",
      "Wrongly clusterized pins: 7536\n",
      "Wrongly clusterized pins: 6549\n",
      "Wrongly clusterized pins: 5722\n",
      "Wrongly clusterized pins: 5026\n",
      "Wrongly clusterized pins: 4617\n",
      "Wrongly clusterized pins: 4331\n",
      "Wrongly clusterized pins: 3965\n",
      "Wrongly clusterized pins: 3661\n",
      "Wrongly clusterized pins: 3448\n",
      "Wrongly clusterized pins: 3169\n",
      "Wrongly clusterized pins: 2973\n",
      "Wrongly clusterized pins: 2805\n",
      "Wrongly clusterized pins: 2636\n",
      "Wrongly clusterized pins: 2493\n",
      "Wrongly clusterized pins: 2399\n",
      "Wrongly clusterized pins: 2246\n",
      "Wrongly clusterized pins: 2179\n",
      "Wrongly clusterized pins: 2136\n",
      "Wrongly clusterized pins: 2105\n",
      "Wrongly clusterized pins: 2002\n",
      "Wrongly clusterized pins: 2062\n",
      "Wrongly clusterized pins: 1906\n",
      "Wrongly clusterized pins: 1914\n",
      "Wrongly clusterized pins: 1839\n",
      "Wrongly clusterized pins: 1774\n",
      "Wrongly clusterized pins: 1664\n",
      "Wrongly clusterized pins: 1610\n",
      "Wrongly clusterized pins: 1479\n",
      "Wrongly clusterized pins: 1387\n",
      "Wrongly clusterized pins: 1310\n",
      "Wrongly clusterized pins: 1225\n",
      "Wrongly clusterized pins: 1224\n",
      "Wrongly clusterized pins: 1214\n",
      "Wrongly clusterized pins: 1193\n",
      "Wrongly clusterized pins: 1161\n",
      "Wrongly clusterized pins: 1056\n",
      "Wrongly clusterized pins: 1033\n",
      "Wrongly clusterized pins: 1024\n",
      "Wrongly clusterized pins: 1050\n",
      "Wrongly clusterized pins: 1119\n",
      "Wrongly clusterized pins: 1109\n",
      "Wrongly clusterized pins: 1079\n",
      "Wrongly clusterized pins: 1097\n",
      "Wrongly clusterized pins: 1088\n",
      "Wrongly clusterized pins: 1072\n",
      "Wrongly clusterized pins: 1063\n",
      "Wrongly clusterized pins: 1012\n",
      "Wrongly clusterized pins: 984\n",
      "Wrongly clusterized pins: 924\n",
      "Wrongly clusterized pins: 917\n",
      "Wrongly clusterized pins: 927\n",
      "Wrongly clusterized pins: 887\n",
      "Wrongly clusterized pins: 862\n",
      "Wrongly clusterized pins: 832\n",
      "Wrongly clusterized pins: 776\n",
      "Wrongly clusterized pins: 810\n",
      "Wrongly clusterized pins: 797\n",
      "Wrongly clusterized pins: 726\n",
      "Wrongly clusterized pins: 625\n",
      "Wrongly clusterized pins: 611\n",
      "Wrongly clusterized pins: 554\n",
      "Wrongly clusterized pins: 528\n",
      "Wrongly clusterized pins: 561\n",
      "Wrongly clusterized pins: 529\n",
      "Wrongly clusterized pins: 471\n",
      "Wrongly clusterized pins: 487\n",
      "Wrongly clusterized pins: 496\n",
      "Wrongly clusterized pins: 473\n",
      "Wrongly clusterized pins: 481\n",
      "Wrongly clusterized pins: 481\n",
      "Wrongly clusterized pins: 432\n",
      "Wrongly clusterized pins: 407\n",
      "Wrongly clusterized pins: 426\n",
      "Wrongly clusterized pins: 409\n",
      "Wrongly clusterized pins: 415\n",
      "Wrongly clusterized pins: 452\n",
      "Wrongly clusterized pins: 437\n",
      "Wrongly clusterized pins: 438\n",
      "Wrongly clusterized pins: 414\n",
      "Wrongly clusterized pins: 426\n",
      "Wrongly clusterized pins: 438\n",
      "Wrongly clusterized pins: 399\n",
      "Wrongly clusterized pins: 458\n",
      "Wrongly clusterized pins: 453\n",
      "Wrongly clusterized pins: 474\n",
      "Wrongly clusterized pins: 476\n",
      "Wrongly clusterized pins: 505\n",
      "Wrongly clusterized pins: 490\n",
      "Wrongly clusterized pins: 502\n",
      "Wrongly clusterized pins: 499\n",
      "Wrongly clusterized pins: 515\n",
      "Wrongly clusterized pins: 457\n",
      "Wrongly clusterized pins: 429\n",
      "Wrongly clusterized pins: 402\n",
      "Wrongly clusterized pins: 385\n",
      "Wrongly clusterized pins: 427\n",
      "Wrongly clusterized pins: 442\n",
      "Wrongly clusterized pins: 429\n",
      "Wrongly clusterized pins: 404\n",
      "Wrongly clusterized pins: 369\n",
      "Wrongly clusterized pins: 350\n",
      "Wrongly clusterized pins: 376\n",
      "Wrongly clusterized pins: 357\n",
      "Wrongly clusterized pins: 381\n",
      "Wrongly clusterized pins: 375\n",
      "Wrongly clusterized pins: 349\n",
      "Wrongly clusterized pins: 331\n",
      "Wrongly clusterized pins: 287\n",
      "Wrongly clusterized pins: 274\n",
      "Wrongly clusterized pins: 304\n",
      "Wrongly clusterized pins: 283\n",
      "Wrongly clusterized pins: 306\n",
      "Wrongly clusterized pins: 308\n",
      "Wrongly clusterized pins: 276\n",
      "Wrongly clusterized pins: 268\n",
      "Wrongly clusterized pins: 260\n",
      "Wrongly clusterized pins: 276\n",
      "Wrongly clusterized pins: 264\n",
      "Wrongly clusterized pins: 256\n",
      "Wrongly clusterized pins: 241\n",
      "Wrongly clusterized pins: 231\n",
      "Wrongly clusterized pins: 241\n",
      "Wrongly clusterized pins: 258\n",
      "Wrongly clusterized pins: 255\n",
      "Wrongly clusterized pins: 296\n",
      "Wrongly clusterized pins: 288\n",
      "Wrongly clusterized pins: 264\n",
      "Wrongly clusterized pins: 223\n",
      "Wrongly clusterized pins: 202\n",
      "Wrongly clusterized pins: 199\n",
      "Wrongly clusterized pins: 216\n",
      "Wrongly clusterized pins: 222\n",
      "Wrongly clusterized pins: 216\n",
      "Wrongly clusterized pins: 197\n",
      "Wrongly clusterized pins: 201\n",
      "Wrongly clusterized pins: 192\n",
      "Wrongly clusterized pins: 198\n",
      "Wrongly clusterized pins: 164\n",
      "Wrongly clusterized pins: 169\n",
      "Wrongly clusterized pins: 143\n",
      "Wrongly clusterized pins: 145\n",
      "Wrongly clusterized pins: 134\n",
      "Wrongly clusterized pins: 143\n",
      "Wrongly clusterized pins: 121\n",
      "Wrongly clusterized pins: 154\n",
      "Wrongly clusterized pins: 159\n",
      "Wrongly clusterized pins: 152\n",
      "Wrongly clusterized pins: 146\n",
      "Wrongly clusterized pins: 143\n",
      "Wrongly clusterized pins: 140\n",
      "Wrongly clusterized pins: 129\n",
      "Wrongly clusterized pins: 94\n",
      "Wrongly clusterized pins: 89\n",
      "Wrongly clusterized pins: 101\n",
      "Wrongly clusterized pins: 96\n",
      "Wrongly clusterized pins: 82\n",
      "Wrongly clusterized pins: 77\n",
      "Wrongly clusterized pins: 74\n",
      "Wrongly clusterized pins: 89\n",
      "Wrongly clusterized pins: 83\n",
      "Wrongly clusterized pins: 84\n",
      "Wrongly clusterized pins: 94\n",
      "Wrongly clusterized pins: 77\n",
      "Wrongly clusterized pins: 78\n",
      "Wrongly clusterized pins: 81\n",
      "Wrongly clusterized pins: 85\n",
      "Wrongly clusterized pins: 66\n",
      "Wrongly clusterized pins: 58\n",
      "Wrongly clusterized pins: 80\n",
      "Wrongly clusterized pins: 70\n",
      "Wrongly clusterized pins: 59\n",
      "Wrongly clusterized pins: 57\n",
      "Wrongly clusterized pins: 53\n",
      "Wrongly clusterized pins: 57\n",
      "Wrongly clusterized pins: 56\n",
      "Wrongly clusterized pins: 55\n",
      "Wrongly clusterized pins: 52\n",
      "Wrongly clusterized pins: 61\n",
      "Wrongly clusterized pins: 50\n",
      "Wrongly clusterized pins: 34\n",
      "Wrongly clusterized pins: 43\n",
      "Wrongly clusterized pins: 47\n",
      "Wrongly clusterized pins: 47\n",
      "Wrongly clusterized pins: 49\n",
      "Wrongly clusterized pins: 41\n",
      "Wrongly clusterized pins: 36\n",
      "Wrongly clusterized pins: 27\n",
      "Wrongly clusterized pins: 30\n",
      "Wrongly clusterized pins: 28\n",
      "Wrongly clusterized pins: 30\n",
      "Wrongly clusterized pins: 21\n",
      "Wrongly clusterized pins: 13\n",
      "Wrongly clusterized pins: 9\n",
      "Wrongly clusterized pins: 7\n",
      "Wrongly clusterized pins: 2\n",
      "Wrongly clusterized pins: 1\n",
      "Wrongly clusterized pins: 1\n",
      "Wrongly clusterized pins: 0\n"
     ]
    }
   ],
   "source": [
    "pins_dict_train = pins_generation(training_idx=training_idx, ratio_pins_per_image=33)\n",
    "pins_train = pins_dict_train[\"pins\"]\n",
    "train_pins = pins_dict_train[\"train_pins\"]\n",
    "pin_to_im_train = pins_dict_train[\"pin_to_im\"]\n",
    "pins_mat = np.vstack(train_pins)\n",
    "visual_features = kmeans(pins_mat, 100)"
   ]
  },
  {
   "cell_type": "markdown",
   "metadata": {},
   "source": [
    "# Data processing"
   ]
  },
  {
   "cell_type": "code",
   "execution_count": 5,
   "metadata": {
    "collapsed": true
   },
   "outputs": [],
   "source": [
    "X_train = process_images(n_train, visual_features, pins_train, pin_to_im_train)\n",
    "n_train, n_var = X_train.shape"
   ]
  },
  {
   "cell_type": "markdown",
   "metadata": {},
   "source": [
    "# Data separation (bis)"
   ]
  },
  {
   "cell_type": "code",
   "execution_count": 6,
   "metadata": {
    "collapsed": true
   },
   "outputs": [],
   "source": [
    "X_sample = X_train[training_idx, :]\n",
    "n_sample = X_sample.shape[0]\n",
    "X_test = X_train[test_idx, :]\n",
    "n_test = X_test.shape[0]\n",
    "Y_sample = Y_train[training_idx, :]\n"
   ]
  },
  {
   "cell_type": "markdown",
   "metadata": {},
   "source": [
    "# Normalization"
   ]
  },
  {
   "cell_type": "code",
   "execution_count": 18,
   "metadata": {
    "collapsed": false
   },
   "outputs": [],
   "source": [
    "#X_sample = np.sqrt(X_sample)\n",
    "#X_test = np.sqrt(X_test)\n",
    "\n",
    "#X_sample = X_sample / np.linalg.norm(X_sample, axis=1)[:, None]\n",
    "#X_test = X_test / np.linalg.norm(X_test, axis=1)[:, None]\n"
   ]
  },
  {
   "cell_type": "markdown",
   "metadata": {},
   "source": [
    "# Training"
   ]
  },
  {
   "cell_type": "markdown",
   "metadata": {},
   "source": [
    "## Kernel choice"
   ]
  },
  {
   "cell_type": "code",
   "execution_count": 19,
   "metadata": {
    "collapsed": true
   },
   "outputs": [],
   "source": [
    "kernel_type = \"hellinger\"\n",
    "K_sample = kernel_matrix(X_sample, kernel_type=kernel_type)"
   ]
  },
  {
   "cell_type": "markdown",
   "metadata": {},
   "source": [
    "## Classifier choice"
   ]
  },
  {
   "cell_type": "code",
   "execution_count": 21,
   "metadata": {
    "collapsed": true
   },
   "outputs": [],
   "source": [
    "classifier_type = \"linear regression\"\n",
    "alpha = np.zeros((n_classes, n_sample))\n",
    "for dig in range(n_classes):\n",
    "    alpha[dig, :] = find_f(K_sample, Y_sample[:, dig],\n",
    "                           prob_type=classifier_type, lamb=1.)"
   ]
  },
  {
   "cell_type": "markdown",
   "metadata": {},
   "source": [
    "# Evaluation"
   ]
  },
  {
   "cell_type": "code",
   "execution_count": 22,
   "metadata": {
    "collapsed": false
   },
   "outputs": [
    {
     "name": "stdout",
     "output_type": "stream",
     "text": [
      "The precision on the test set is of 0.25\n"
     ]
    }
   ],
   "source": [
    "Y_pred = np.zeros((X_test.shape[0], n_classes))\n",
    "for dig in range(n_classes):\n",
    "    Y_pred[:, dig] = pred(X_sample, X_test, alpha[dig, :],\n",
    "                          kernel_type=kernel_type)\n",
    "\n",
    "\n",
    "Y_labels_pred = np.argmax(Y_pred, axis=1)\n",
    "prec = np.mean(Y_labels_pred == Y_labels_train[test_idx])\n",
    "print(\"The precision on the test set is of {}\".format(prec))"
   ]
  },
  {
   "cell_type": "markdown",
   "metadata": {},
   "source": [
    "# Prediction"
   ]
  },
  {
   "cell_type": "code",
   "execution_count": 11,
   "metadata": {
    "collapsed": false
   },
   "outputs": [
    {
     "ename": "KeyboardInterrupt",
     "evalue": "",
     "output_type": "error",
     "traceback": [
      "\u001b[0;31m---------------------------------------------------------------------------\u001b[0m",
      "\u001b[0;31mKeyboardInterrupt\u001b[0m                         Traceback (most recent call last)",
      "\u001b[0;32m<ipython-input-11-a340dffe5887>\u001b[0m in \u001b[0;36m<module>\u001b[0;34m()\u001b[0m\n\u001b[1;32m     15\u001b[0m \u001b[0;32mfor\u001b[0m \u001b[0mdig\u001b[0m \u001b[0;32min\u001b[0m \u001b[0mrange\u001b[0m\u001b[0;34m(\u001b[0m\u001b[0mn_classes\u001b[0m\u001b[0;34m)\u001b[0m\u001b[0;34m:\u001b[0m\u001b[0;34m\u001b[0m\u001b[0m\n\u001b[1;32m     16\u001b[0m     Y_eval[:, dig] = pred(X_sample, X_eval, alpha[dig, :],\n\u001b[0;32m---> 17\u001b[0;31m                           kernel_type=kernel_type)\n\u001b[0m\u001b[1;32m     18\u001b[0m \u001b[0;34m\u001b[0m\u001b[0m\n\u001b[1;32m     19\u001b[0m \u001b[0;34m\u001b[0m\u001b[0m\n",
      "\u001b[0;32m/home/pierre/MVA/kernel-digits-challenge/tools/prediction.py\u001b[0m in \u001b[0;36mpred\u001b[0;34m(X_train, X_pred, alpha, kernel_type, **kwargs)\u001b[0m\n\u001b[1;32m     24\u001b[0m         \u001b[0;32mfor\u001b[0m \u001b[0mj\u001b[0m \u001b[0;32min\u001b[0m \u001b[0mrange\u001b[0m\u001b[0;34m(\u001b[0m\u001b[0mn_train\u001b[0m\u001b[0;34m)\u001b[0m\u001b[0;34m:\u001b[0m\u001b[0;34m\u001b[0m\u001b[0m\n\u001b[1;32m     25\u001b[0m             K[i, j] = kernel(X_pred[i], X_train[j], kernel_type=kernel_type,\n\u001b[0;32m---> 26\u001b[0;31m                              **kwargs)\n\u001b[0m\u001b[1;32m     27\u001b[0m     \u001b[0;32mreturn\u001b[0m \u001b[0mK\u001b[0m\u001b[0;34m.\u001b[0m\u001b[0mdot\u001b[0m\u001b[0;34m(\u001b[0m\u001b[0malpha\u001b[0m\u001b[0;34m)\u001b[0m\u001b[0;34m\u001b[0m\u001b[0m\n",
      "\u001b[0;32m/home/pierre/MVA/kernel-digits-challenge/tools/kernels.py\u001b[0m in \u001b[0;36mkernel\u001b[0;34m(x, y, kernel_type, **kwargs)\u001b[0m\n\u001b[1;32m     15\u001b[0m         \u001b[0;32mreturn\u001b[0m \u001b[0mnp\u001b[0m\u001b[0;34m.\u001b[0m\u001b[0mdot\u001b[0m\u001b[0;34m(\u001b[0m\u001b[0mx\u001b[0m\u001b[0;34m,\u001b[0m \u001b[0my\u001b[0m\u001b[0;34m)\u001b[0m\u001b[0;34m\u001b[0m\u001b[0m\n\u001b[1;32m     16\u001b[0m     \u001b[0;32melif\u001b[0m \u001b[0mkernel_type\u001b[0m \u001b[0;34m==\u001b[0m \u001b[0;34m\"hellinger\"\u001b[0m\u001b[0;34m:\u001b[0m\u001b[0;34m\u001b[0m\u001b[0m\n\u001b[0;32m---> 17\u001b[0;31m         \u001b[0;32mreturn\u001b[0m \u001b[0mnp\u001b[0m\u001b[0;34m.\u001b[0m\u001b[0mdot\u001b[0m\u001b[0;34m(\u001b[0m\u001b[0mnp\u001b[0m\u001b[0;34m.\u001b[0m\u001b[0msqrt\u001b[0m\u001b[0;34m(\u001b[0m\u001b[0mx\u001b[0m\u001b[0;34m)\u001b[0m\u001b[0;34m,\u001b[0m \u001b[0mnp\u001b[0m\u001b[0;34m.\u001b[0m\u001b[0msqrt\u001b[0m\u001b[0;34m(\u001b[0m\u001b[0my\u001b[0m\u001b[0;34m)\u001b[0m\u001b[0;34m)\u001b[0m\u001b[0;34m\u001b[0m\u001b[0m\n\u001b[0m\u001b[1;32m     18\u001b[0m     \u001b[0;32melse\u001b[0m\u001b[0;34m:\u001b[0m\u001b[0;34m\u001b[0m\u001b[0m\n\u001b[1;32m     19\u001b[0m         raise ValueError(\"The {} kernel is not implemented\".format(\n",
      "\u001b[0;31mKeyboardInterrupt\u001b[0m: "
     ]
    }
   ],
   "source": [
    "X_eval = load_images(type=\"test\")\n",
    "n_eval = X_eval.shape[0]\n",
    "\n",
    "# Visual features for submission\n",
    "pins_dict_eval = pins_generation(data_type=\"test\")\n",
    "pins_eval = pins_dict_eval[\"pins\"]\n",
    "pin_to_im_eval = pins_dict_eval[\"pin_to_im\"]\n",
    "\n",
    "\n",
    "# Data processing\n",
    "X_eval = process_images(n_eval, visual_features, pins_eval, pin_to_im_eval)\n",
    "n_eval, n_var = X_eval.shape\n",
    "\n",
    "Y_eval = np.zeros((n_eval, n_classes))\n",
    "for dig in range(n_classes):\n",
    "    Y_eval[:, dig] = pred(X_sample, X_eval, alpha[dig, :],\n",
    "                          kernel_type=kernel_type)\n",
    "\n",
    "\n",
    "Y_labels_eval = np.argmax(Y_eval, axis=1)\n",
    "\n",
    "\n",
    "# Submission\n",
    "labels_to_csv(Y_labels_eval, kernel=kernel_type, algo=classifier_type)"
   ]
  },
  {
   "cell_type": "code",
   "execution_count": null,
   "metadata": {
    "collapsed": true
   },
   "outputs": [],
   "source": []
  }
 ],
 "metadata": {
  "kernelspec": {
   "display_name": "Python 3",
   "language": "python",
   "name": "python3"
  },
  "language_info": {
   "codemirror_mode": {
    "name": "ipython",
    "version": 3
   },
   "file_extension": ".py",
   "mimetype": "text/x-python",
   "name": "python",
   "nbconvert_exporter": "python",
   "pygments_lexer": "ipython3",
   "version": "3.5.2"
  }
 },
 "nbformat": 4,
 "nbformat_minor": 2
}
