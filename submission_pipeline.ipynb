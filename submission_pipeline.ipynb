{
 "cells": [
  {
   "cell_type": "code",
   "execution_count": 26,
   "metadata": {
    "collapsed": false,
    "deletable": true,
    "editable": true
   },
   "outputs": [],
   "source": [
    "import numpy as np\n",
    "\n",
    "from tools.data_loading import load_images, load_labels, dummy_code\n",
    "from tools.feature_learning import pins_generation\n",
    "from tools.kernels import kernel_matrix\n",
    "from tools.optimization import find_f\n",
    "from tools.prediction import pred\n",
    "from tools.process_images import process_images\n",
    "from tools.quantization import kmeans\n",
    "from tools.submission import labels_to_csv\n",
    "from tools.visualization import imshow, dump_as_png"
   ]
  },
  {
   "cell_type": "markdown",
   "metadata": {
    "deletable": true,
    "editable": true
   },
   "source": [
    "# Data loading"
   ]
  },
  {
   "cell_type": "code",
   "execution_count": 27,
   "metadata": {
    "collapsed": true,
    "deletable": true,
    "editable": true
   },
   "outputs": [],
   "source": [
    "#X_train = load_images(type=\"train\")\n",
    "n_train = 5000#X_train.shape[0]\n",
    "Y_labels_train = load_labels()\n",
    "Y_train = dummy_code(Y_labels_train)\n",
    "n_classes = Y_train.shape[1]"
   ]
  },
  {
   "cell_type": "markdown",
   "metadata": {
    "deletable": true,
    "editable": true
   },
   "source": [
    "# Data separation"
   ]
  },
  {
   "cell_type": "code",
   "execution_count": 28,
   "metadata": {
    "collapsed": false,
    "deletable": true,
    "editable": true
   },
   "outputs": [],
   "source": [
    "indices = np.random.permutation(n_train)\n",
    "training_idx, test_idx = indices[:int(0.9*n_train)], indices[int(0.9*n_train):]"
   ]
  },
  {
   "cell_type": "markdown",
   "metadata": {
    "deletable": true,
    "editable": true
   },
   "source": [
    "# Visual features"
   ]
  },
  {
   "cell_type": "code",
   "execution_count": 29,
   "metadata": {
    "collapsed": false,
    "deletable": true,
    "editable": true
   },
   "outputs": [],
   "source": [
    "ratio = 10\n",
    "patch = 16\n",
    "filter_s = 1\n",
    "resized = True\n",
    "\n",
    "pins_dict_train = pins_generation(training_idx=training_idx, ratio_pins_per_image=ratio, patch_size=patch, filter_sigma=filter_s, resized=resized)\n",
    "pins_train = pins_dict_train[\"pins\"]\n",
    "train_pins = pins_dict_train[\"train_pins\"]\n",
    "pin_to_im_train = pins_dict_train[\"pin_to_im\"]\n",
    "pins_mat = np.vstack(train_pins)"
   ]
  },
  {
   "cell_type": "code",
   "execution_count": 30,
   "metadata": {
    "collapsed": false
   },
   "outputs": [
    {
     "name": "stdout",
     "output_type": "stream",
     "text": [
      "Wrongly clusterized pins: 40409\n",
      "Wrongly clusterized pins: 16809\n",
      "Wrongly clusterized pins: 8417\n",
      "Wrongly clusterized pins: 5248\n",
      "Wrongly clusterized pins: 3731\n",
      "Wrongly clusterized pins: 2937\n",
      "Wrongly clusterized pins: 2456\n",
      "Wrongly clusterized pins: 2019\n",
      "Wrongly clusterized pins: 1647\n",
      "Wrongly clusterized pins: 1298\n",
      "Wrongly clusterized pins: 1102\n",
      "Wrongly clusterized pins: 931\n",
      "Wrongly clusterized pins: 812\n",
      "Wrongly clusterized pins: 708\n",
      "Wrongly clusterized pins: 612\n",
      "Wrongly clusterized pins: 540\n",
      "Wrongly clusterized pins: 468\n",
      "Wrongly clusterized pins: 382\n",
      "Wrongly clusterized pins: 318\n",
      "Wrongly clusterized pins: 290\n",
      "Wrongly clusterized pins: 257\n",
      "Wrongly clusterized pins: 224\n",
      "Wrongly clusterized pins: 217\n",
      "Wrongly clusterized pins: 192\n",
      "Wrongly clusterized pins: 213\n",
      "Wrongly clusterized pins: 215\n",
      "Wrongly clusterized pins: 214\n",
      "Wrongly clusterized pins: 226\n",
      "Wrongly clusterized pins: 209\n",
      "Wrongly clusterized pins: 225\n",
      "Wrongly clusterized pins: 201\n",
      "Wrongly clusterized pins: 183\n",
      "Wrongly clusterized pins: 165\n",
      "Wrongly clusterized pins: 127\n",
      "Wrongly clusterized pins: 115\n",
      "Wrongly clusterized pins: 106\n",
      "Wrongly clusterized pins: 97\n",
      "Wrongly clusterized pins: 84\n",
      "Wrongly clusterized pins: 54\n",
      "Wrongly clusterized pins: 51\n",
      "Wrongly clusterized pins: 47\n",
      "Wrongly clusterized pins: 43\n",
      "Wrongly clusterized pins: 44\n",
      "Wrongly clusterized pins: 43\n",
      "Wrongly clusterized pins: 44\n",
      "Wrongly clusterized pins: 35\n",
      "Wrongly clusterized pins: 30\n",
      "Wrongly clusterized pins: 33\n",
      "Wrongly clusterized pins: 39\n",
      "Wrongly clusterized pins: 47\n",
      "Wrongly clusterized pins: 42\n",
      "Wrongly clusterized pins: 45\n",
      "Wrongly clusterized pins: 46\n",
      "Wrongly clusterized pins: 37\n",
      "Wrongly clusterized pins: 29\n",
      "Wrongly clusterized pins: 19\n",
      "Wrongly clusterized pins: 14\n",
      "Wrongly clusterized pins: 20\n",
      "Wrongly clusterized pins: 26\n",
      "Wrongly clusterized pins: 33\n",
      "Wrongly clusterized pins: 43\n",
      "Wrongly clusterized pins: 38\n",
      "Wrongly clusterized pins: 36\n",
      "Wrongly clusterized pins: 30\n",
      "Wrongly clusterized pins: 30\n",
      "Wrongly clusterized pins: 27\n",
      "Wrongly clusterized pins: 26\n",
      "Wrongly clusterized pins: 15\n",
      "Wrongly clusterized pins: 10\n",
      "Wrongly clusterized pins: 4\n",
      "Wrongly clusterized pins: 0\n"
     ]
    }
   ],
   "source": [
    "n_pins = pins_mat.shape[0]\n",
    "sample_indices = np.random.choice(n_pins, n_pins//4)\n",
    "visual_features = kmeans(pins_mat[sample_indices], 100)"
   ]
  },
  {
   "cell_type": "markdown",
   "metadata": {
    "deletable": true,
    "editable": true
   },
   "source": [
    "# Data processing"
   ]
  },
  {
   "cell_type": "code",
   "execution_count": 31,
   "metadata": {
    "collapsed": false,
    "deletable": true,
    "editable": true
   },
   "outputs": [],
   "source": [
    "X_train = process_images(n_train, visual_features, pins_train, pin_to_im_train)\n",
    "n_train, n_var = X_train.shape"
   ]
  },
  {
   "cell_type": "markdown",
   "metadata": {
    "deletable": true,
    "editable": true
   },
   "source": [
    "# Data separation (bis)"
   ]
  },
  {
   "cell_type": "code",
   "execution_count": 41,
   "metadata": {
    "collapsed": true,
    "deletable": true,
    "editable": true
   },
   "outputs": [],
   "source": [
    "X_sample = X_train[training_idx, :]\n",
    "n_sample = X_sample.shape[0]\n",
    "X_test = X_train[test_idx, :]\n",
    "n_test = X_test.shape[0]\n",
    "Y_sample = Y_train[training_idx, :]\n"
   ]
  },
  {
   "cell_type": "markdown",
   "metadata": {
    "deletable": true,
    "editable": true
   },
   "source": [
    "# Normalization"
   ]
  },
  {
   "cell_type": "code",
   "execution_count": 37,
   "metadata": {
    "collapsed": false,
    "deletable": true,
    "editable": true
   },
   "outputs": [],
   "source": [
    "X_sample = np.sqrt(X_sample)\n",
    "X_test = np.sqrt(X_test)\n",
    "\n",
    "X_sample = X_sample / np.linalg.norm(X_sample, axis=1)[:, None]\n",
    "X_test = X_test / np.linalg.norm(X_test, axis=1)[:, None]\n"
   ]
  },
  {
   "cell_type": "markdown",
   "metadata": {
    "deletable": true,
    "editable": true
   },
   "source": [
    "# Training"
   ]
  },
  {
   "cell_type": "markdown",
   "metadata": {
    "deletable": true,
    "editable": true
   },
   "source": [
    "## Kernel choice"
   ]
  },
  {
   "cell_type": "code",
   "execution_count": 50,
   "metadata": {
    "collapsed": true,
    "deletable": true,
    "editable": true
   },
   "outputs": [],
   "source": [
    "kernel_type = \"rbf\"\n",
    "sig = 0.1\n",
    "K_sample = kernel_matrix(X_sample, kernel_type=kernel_type,sigma=sig)"
   ]
  },
  {
   "cell_type": "markdown",
   "metadata": {
    "deletable": true,
    "editable": true
   },
   "source": [
    "## Classifier choice"
   ]
  },
  {
   "cell_type": "code",
   "execution_count": 51,
   "metadata": {
    "collapsed": false,
    "deletable": true,
    "editable": true
   },
   "outputs": [],
   "source": [
    "classifier_type = \"svm\"\n",
    "alpha = np.zeros((n_classes, n_sample))\n",
    "for dig in range(n_classes):\n",
    "    alpha[dig, :] = find_f(K_sample, Y_sample[:, dig],\n",
    "                           prob_type=classifier_type, lamb=10)"
   ]
  },
  {
   "cell_type": "markdown",
   "metadata": {
    "deletable": true,
    "editable": true
   },
   "source": [
    "# Evaluation"
   ]
  },
  {
   "cell_type": "code",
   "execution_count": 52,
   "metadata": {
    "collapsed": false,
    "deletable": true,
    "editable": true
   },
   "outputs": [
    {
     "name": "stdout",
     "output_type": "stream",
     "text": [
      "The precision on the test set is of 0.11\n"
     ]
    }
   ],
   "source": [
    "Y_pred = np.zeros((X_test.shape[0], n_classes))\n",
    "for dig in range(n_classes):\n",
    "    Y_pred[:, dig] = pred(X_sample, X_test, alpha[dig, :],\n",
    "                          kernel_type=kernel_type, sigma=sig)\n",
    "\n",
    "\n",
    "Y_labels_pred = np.argmax(Y_pred, axis=1)\n",
    "prec = np.mean(Y_labels_pred == Y_labels_train[test_idx])\n",
    "print(\"The precision on the test set is of {}\".format(prec))"
   ]
  },
  {
   "cell_type": "markdown",
   "metadata": {
    "deletable": true,
    "editable": true
   },
   "source": [
    "# Prediction"
   ]
  },
  {
   "cell_type": "code",
   "execution_count": 12,
   "metadata": {
    "collapsed": false,
    "deletable": true,
    "editable": true
   },
   "outputs": [],
   "source": [
    "X_eval = load_images(type=\"test\")\n",
    "n_eval = X_eval.shape[0]\n",
    "\n",
    "# Visual features for submission\n",
    "pins_dict_eval = pins_generation(data_type=\"test\",ratio_pins_per_image=ratio, patch_size=patch, filter_ssigma= filter_s, resized=resized)\n",
    "pins_eval = pins_dict_eval[\"pins\"]\n",
    "pin_to_im_eval = pins_dict_eval[\"pin_to_im\"]\n",
    "\n",
    "\n",
    "# Data processing\n",
    "X_eval = process_images(n_eval, visual_features, pins_eval, pin_to_im_eval)\n",
    "n_eval, n_var = X_eval.shape\n",
    "\n",
    "Y_eval = np.zeros((n_eval, n_classes))\n",
    "for dig in range(n_classes):\n",
    "    Y_eval[:, dig] = pred(X_sample, X_eval, alpha[dig, :],\n",
    "                          kernel_type=kernel_type)\n",
    "\n",
    "\n",
    "Y_labels_eval = np.argmax(Y_eval, axis=1)\n",
    "\n",
    "\n",
    "# Submission\n",
    "labels_to_csv(Y_labels_eval, kernel=kernel_type, algo=classifier_type, user='PdT')"
   ]
  },
  {
   "cell_type": "code",
   "execution_count": null,
   "metadata": {
    "collapsed": true
   },
   "outputs": [],
   "source": []
  }
 ],
 "metadata": {
  "kernelspec": {
   "display_name": "Python 3",
   "language": "python",
   "name": "python3"
  },
  "language_info": {
   "codemirror_mode": {
    "name": "ipython",
    "version": 3
   },
   "file_extension": ".py",
   "mimetype": "text/x-python",
   "name": "python",
   "nbconvert_exporter": "python",
   "pygments_lexer": "ipython3",
   "version": "3.5.2"
  }
 },
 "nbformat": 4,
 "nbformat_minor": 2
}
