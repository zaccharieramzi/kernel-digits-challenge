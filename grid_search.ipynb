{
 "cells": [
  {
   "cell_type": "code",
   "execution_count": 1,
   "metadata": {
    "collapsed": false,
    "deletable": true,
    "editable": true
   },
   "outputs": [],
   "source": [
    "import numpy as np\n",
    "from tqdm import tqdm_notebook\n",
    "\n",
    "from tools.data_loading import load_images, load_labels, dummy_code, load_images_resized\n",
    "from tools.feature_learning import pins_generation\n",
    "from tools.hog import hog\n",
    "from tools.kernels import kernel_matrix\n",
    "from tools.optimization import find_f\n",
    "from tools.prediction import pred\n",
    "from tools.process_images import process_images\n",
    "from tools.quantization import kmeans\n",
    "from tools.submission import labels_to_csv\n",
    "from tools.visualization import imshow, dump_as_png, reshape_as_images"
   ]
  },
  {
   "cell_type": "markdown",
   "metadata": {
    "deletable": true,
    "editable": true
   },
   "source": [
    "# Data loading"
   ]
  },
  {
   "cell_type": "code",
   "execution_count": 3,
   "metadata": {
    "collapsed": true,
    "deletable": true,
    "editable": true
   },
   "outputs": [],
   "source": [
    "X_train = load_images_resized(type=\"train\")\n",
    "n_train = X_train.shape[0]\n",
    "Y_labels_train = load_labels()\n",
    "Y_train = dummy_code(Y_labels_train)\n",
    "n_classes = Y_train.shape[1]\n",
    "X_train = X_train - X_train.min(axis=0)\n",
    "X_train = X_train / X_train.max(axis=0)"
   ]
  },
  {
   "cell_type": "code",
   "execution_count": 4,
   "metadata": {
    "collapsed": false,
    "deletable": true,
    "editable": true
   },
   "outputs": [],
   "source": [
    "X_train2 = np.zeros((5000,63,63,3))\n",
    "for i in range(3):\n",
    "    X_train2[:,:,:,i] = X_train\n",
    "image_list = X_train2"
   ]
  },
  {
   "cell_type": "markdown",
   "metadata": {
    "deletable": true,
    "editable": true
   },
   "source": [
    "# Visual features"
   ]
  },
  {
   "cell_type": "code",
   "execution_count": 5,
   "metadata": {
    "collapsed": true,
    "deletable": true,
    "editable": true
   },
   "outputs": [],
   "source": [
    "filter_sigma=0.1\n",
    "filter_shape=5\n",
    "hog_cell_size=8\n",
    "disc_grid=16"
   ]
  },
  {
   "cell_type": "code",
   "execution_count": 6,
   "metadata": {
    "collapsed": true,
    "deletable": true,
    "editable": true
   },
   "outputs": [],
   "source": [
    "n_images = image_list.shape[0]"
   ]
  },
  {
   "cell_type": "code",
   "execution_count": 7,
   "metadata": {
    "collapsed": false,
    "deletable": true,
    "editable": true
   },
   "outputs": [
    {
     "data": {
      "application/vnd.jupyter.widget-view+json": {
       "model_id": "a32f15bbae964d18b65c96ce30bb7f79"
      }
     },
     "metadata": {},
     "output_type": "display_data"
    },
    {
     "name": "stdout",
     "output_type": "stream",
     "text": [
      "\n"
     ]
    }
   ],
   "source": [
    "hog_list = []\n",
    "for i in tqdm_notebook(range(n_images), desc=\"Images\"):\n",
    "    image = image_list[i,:,:,:]\n",
    "    hog_list.append(\n",
    "        hog(\n",
    "            image,\n",
    "            filter_sigma=filter_sigma,\n",
    "            filter_shape=filter_shape,\n",
    "            hog_cell_size=hog_cell_size,\n",
    "            disc_grid=disc_grid))\n",
    "    \n",
    "n_features = hog_list[0].size\n",
    "X_hog = np.array(hog_list).reshape((n_images, n_features)) \n"
   ]
  },
  {
   "cell_type": "markdown",
   "metadata": {
    "deletable": true,
    "editable": true
   },
   "source": [
    "# Data separation"
   ]
  },
  {
   "cell_type": "code",
   "execution_count": 8,
   "metadata": {
    "collapsed": false,
    "deletable": true,
    "editable": true
   },
   "outputs": [],
   "source": [
    "indices = np.random.permutation(X_hog.shape[0])\n",
    "training_idx, test_idx = indices[:int(0.8*n_train)], indices[int(0.8*n_train):]\n",
    "\n",
    "X_sample = X_hog[training_idx, :]\n",
    "n_sample = X_sample.shape[0]\n",
    "Y_sample = Y_train[training_idx,:]\n",
    "Y_labels_sample = Y_labels_train[training_idx]\n",
    "\n",
    "X_test = X_hog[test_idx, :]\n",
    "n_test = X_test.shape[0]\n",
    "Y_labels_test = Y_labels_train[test_idx]"
   ]
  },
  {
   "cell_type": "markdown",
   "metadata": {
    "deletable": true,
    "editable": true
   },
   "source": [
    "# Training"
   ]
  },
  {
   "cell_type": "code",
   "execution_count": 9,
   "metadata": {
    "collapsed": true
   },
   "outputs": [],
   "source": [
    "kernel_type = \"polynomial\"\n",
    "classifier_type = \"svm\"\n",
    "degree = 6\n",
    "constant = 0.1\n",
    "lamb = 1"
   ]
  },
  {
   "cell_type": "markdown",
   "metadata": {
    "deletable": true,
    "editable": true
   },
   "source": [
    "## Kernel choice"
   ]
  },
  {
   "cell_type": "code",
   "execution_count": 10,
   "metadata": {
    "collapsed": false,
    "deletable": true,
    "editable": true
   },
   "outputs": [],
   "source": [
    "K_sample = kernel_matrix(X_sample, kernel_type=kernel_type, degree=degree, constant=constant)"
   ]
  },
  {
   "cell_type": "code",
   "execution_count": 11,
   "metadata": {
    "collapsed": false,
    "deletable": true,
    "editable": true
   },
   "outputs": [
    {
     "data": {
      "text/plain": [
       "(4000, 4000)"
      ]
     },
     "execution_count": 11,
     "metadata": {},
     "output_type": "execute_result"
    }
   ],
   "source": [
    "K_sample.shape"
   ]
  },
  {
   "cell_type": "markdown",
   "metadata": {
    "deletable": true,
    "editable": true
   },
   "source": [
    "## Classifier choice"
   ]
  },
  {
   "cell_type": "code",
   "execution_count": 12,
   "metadata": {
    "collapsed": false,
    "deletable": true,
    "editable": true
   },
   "outputs": [
    {
     "data": {
      "application/vnd.jupyter.widget-view+json": {
       "model_id": "efd467a033eb45bb8ba79c0dd3ead96d"
      }
     },
     "metadata": {},
     "output_type": "display_data"
    },
    {
     "name": "stdout",
     "output_type": "stream",
     "text": [
      "\n"
     ]
    }
   ],
   "source": [
    "alpha = np.zeros((n_classes, n_sample))\n",
    "for dig in tqdm_notebook(range(n_classes), desc=\"Classes\"):\n",
    "    alpha[dig, :] = find_f(K_sample, Y_sample[:, dig],\n",
    "                           prob_type=classifier_type, lamb=lamb, n_iter=50000)"
   ]
  },
  {
   "cell_type": "markdown",
   "metadata": {
    "deletable": true,
    "editable": true
   },
   "source": [
    "# Evaluation"
   ]
  },
  {
   "cell_type": "markdown",
   "metadata": {
    "deletable": true,
    "editable": true
   },
   "source": [
    "### Training error"
   ]
  },
  {
   "cell_type": "code",
   "execution_count": 13,
   "metadata": {
    "collapsed": false,
    "deletable": true,
    "editable": true,
    "scrolled": true
   },
   "outputs": [
    {
     "data": {
      "application/vnd.jupyter.widget-view+json": {
       "model_id": "0d397174ab0f43c8abef505d17f3c78e"
      }
     },
     "metadata": {},
     "output_type": "display_data"
    },
    {
     "name": "stdout",
     "output_type": "stream",
     "text": [
      "\n",
      "The precision on the train set is of 1.0\n"
     ]
    }
   ],
   "source": [
    "Y_pred_train = np.zeros((X_sample[:500].shape[0], n_classes))\n",
    "for dig in tqdm_notebook(range(n_classes), desc=\"Classes\"):\n",
    "    Y_pred_train[:, dig] = pred(X_sample, X_sample[:500], alpha[dig, :],\n",
    "                          kernel_type=kernel_type, degree=degree, constant=constant)\n",
    "\n",
    "\n",
    "Y_labels_pred_train = np.argmax(Y_pred_train, axis=1)\n",
    "prec = np.mean(Y_labels_pred_train == Y_labels_sample[:500])\n",
    "print(\"The precision on the train set is of {}\".format(prec))"
   ]
  },
  {
   "cell_type": "markdown",
   "metadata": {
    "deletable": true,
    "editable": true
   },
   "source": [
    "### Testing error"
   ]
  },
  {
   "cell_type": "code",
   "execution_count": null,
   "metadata": {
    "collapsed": false,
    "deletable": true,
    "editable": true,
    "scrolled": false
   },
   "outputs": [
    {
     "data": {
      "application/vnd.jupyter.widget-view+json": {
       "model_id": "49c649913006471986df6e4c308af9e7"
      }
     },
     "metadata": {},
     "output_type": "display_data"
    },
    {
     "name": "stdout",
     "output_type": "stream",
     "text": [
      "\n",
      "The precision on the test set is of 0.559\n"
     ]
    }
   ],
   "source": [
    "Y_pred = np.zeros((X_test.shape[0], n_classes))\n",
    "for dig in tqdm_notebook(range(n_classes), desc=\"Classes\"):\n",
    "    Y_pred[:, dig] = pred(X_sample, X_test, alpha[dig, :],\n",
    "                          kernel_type=kernel_type, degree=degree, constant=constant)\n",
    "\n",
    "\n",
    "Y_labels_pred = np.argmax(Y_pred, axis=1)\n",
    "prec = np.mean(Y_labels_pred == Y_labels_test)\n",
    "print(\"The precision on the test set is of {}\".format(prec))"
   ]
  },
  {
   "cell_type": "markdown",
   "metadata": {
    "deletable": true,
    "editable": true
   },
   "source": [
    "## Grid search from hell"
   ]
  },
  {
   "cell_type": "markdown",
   "metadata": {},
   "source": [
    "### For polynomial"
   ]
  },
  {
   "cell_type": "code",
   "execution_count": null,
   "metadata": {
    "collapsed": false,
    "deletable": true,
    "editable": true
   },
   "outputs": [
    {
     "data": {
      "application/vnd.jupyter.widget-view+json": {
       "model_id": "518316373a6d45f28f39eb703ac88a2b"
      }
     },
     "metadata": {},
     "output_type": "display_data"
    },
    {
     "data": {
      "application/vnd.jupyter.widget-view+json": {
       "model_id": "1e0e9f9d0a294ad88f2fe666b534826a"
      }
     },
     "metadata": {},
     "output_type": "display_data"
    },
    {
     "data": {
      "application/vnd.jupyter.widget-view+json": {
       "model_id": "d95c2e7864d649779090b194fc7d9f84"
      }
     },
     "metadata": {},
     "output_type": "display_data"
    },
    {
     "data": {
      "application/vnd.jupyter.widget-view+json": {
       "model_id": "98d9fd811e43424896408ff5e2028ca2"
      }
     },
     "metadata": {},
     "output_type": "display_data"
    }
   ],
   "source": [
    "degrees = [2, 3, 4, 5, 6]\n",
    "n_degrees = len(degrees)\n",
    "constants = [0.1, 1, 5, 50, 100]\n",
    "n_constants = len(constants)\n",
    "lambs = [0.01, 0.1, 1, 10, 100]\n",
    "n_lambs = len(lambs)\n",
    "train_prec = np.zeros((n_degrees, n_constants, n_lambs))\n",
    "test_prec = np.zeros((n_degrees, n_constants, n_lambs))\n",
    "for d in tqdm_notebook(range(n_degrees), desc=\"Degrees\"):\n",
    "    for c in tqdm_notebook(range(n_constants), desc=\"Constants\"):\n",
    "        # Kernel matrix computation\n",
    "        K_sample = kernel_matrix(X_sample, kernel_type=kernel_type, degree=degrees[d], constant=constants[c])\n",
    "        for l in tqdm_notebook(range(n_lambs), desc=\"Lambdas\"):\n",
    "            # Gradient descent\n",
    "            alpha = np.zeros((n_classes, n_sample))\n",
    "            for dig in range(n_classes):\n",
    "                alpha[dig, :] = find_f(K_sample, Y_sample[:, dig],\n",
    "                                       prob_type=classifier_type, lamb=lambs[l], n_iter=50000)\n",
    "            # Precision on train set\n",
    "            Y_pred_train = np.zeros((X_sample[:500].shape[0], n_classes))\n",
    "            for dig in range(n_classes):\n",
    "                Y_pred_train[:, dig] = pred(X_sample, X_sample[:500], alpha[dig, :],\n",
    "                                      kernel_type=kernel_type, degree=degrees[d], constant=constants[c])\n",
    "\n",
    "\n",
    "            Y_labels_pred_train = np.argmax(Y_pred_train, axis=1)\n",
    "            train_prec[d, c, l] = np.mean(Y_labels_pred_train == Y_labels_sample[:500])\n",
    "            # Precision on test set\n",
    "            Y_pred = np.zeros((X_test.shape[0], n_classes))\n",
    "            for dig in range(n_classes):\n",
    "                Y_pred[:, dig] = pred(X_sample, X_test, alpha[dig, :],\n",
    "                                      kernel_type=kernel_type, degree=degrees[d], constant=constants[c])\n",
    "\n",
    "\n",
    "            Y_labels_pred = np.argmax(Y_pred, axis=1)\n",
    "            test_prec[d, c, l] = np.mean(Y_labels_pred == Y_labels_test)"
   ]
  },
  {
   "cell_type": "markdown",
   "metadata": {},
   "source": [
    "### For RBF"
   ]
  },
  {
   "cell_type": "code",
   "execution_count": null,
   "metadata": {
    "collapsed": false,
    "deletable": true,
    "editable": true
   },
   "outputs": [],
   "source": [
    "sigmas = [0.001, 0.01, 0.1, 0.5, 1, 5, 10, 100, 500, 1000]\n",
    "n_sigmas = len(sigmas)\n",
    "lambs = [0.0001, 0.001, 0.01, 0.1, 1, 10, 100, 1000]\n",
    "n_lambs = len(lambs)\n",
    "train_prec = np.zeros((n_sigmas, n_lambs))\n",
    "test_prec = np.zeros((n_sigmas, n_lambs))\n",
    "for s in tqdm_notebook(range(n_sigmas), desc=\"Sigmas\"):\n",
    "    # Kernel matrix computation\n",
    "    K_sample = kernel_matrix(X_sample, kernel_type=kernel_type, sigma=sigmas[s])\n",
    "    for l in tqdm_notebook(range(n_lambs), desc=\"Lambdas\"):\n",
    "        # Gradient descent\n",
    "        alpha = np.zeros((n_classes, n_sample))\n",
    "        for dig in range(n_classes):\n",
    "            alpha[dig, :] = find_f(K_sample, Y_sample[:, dig],\n",
    "                                   prob_type=classifier_type, lamb=lambs[l], n_iter=50000)\n",
    "        # Precision on train set\n",
    "        Y_pred_train = np.zeros((X_sample[:500].shape[0], n_classes))\n",
    "        for dig in range(n_classes):\n",
    "            Y_pred_train[:, dig] = pred(X_sample, X_sample[:500], alpha[dig, :],\n",
    "                                  kernel_type=kernel_type, sigma=sigmas[s])\n",
    "\n",
    "\n",
    "        Y_labels_pred_train = np.argmax(Y_pred_train, axis=1)\n",
    "        train_prec[s, l] = np.mean(Y_labels_pred_train == Y_labels_sample[:500])\n",
    "        # Precision on test set\n",
    "        Y_pred = np.zeros((X_test.shape[0], n_classes))\n",
    "        for dig in range(n_classes):\n",
    "            Y_pred[:, dig] = pred(X_sample, X_test, alpha[dig, :],\n",
    "                                  kernel_type=kernel_type, sigma=sigmas[s])\n",
    "\n",
    "\n",
    "        Y_labels_pred = np.argmax(Y_pred, axis=1)\n",
    "        test_prec[s, l] = np.mean(Y_labels_pred == Y_labels_test)"
   ]
  },
  {
   "cell_type": "code",
   "execution_count": null,
   "metadata": {
    "collapsed": false
   },
   "outputs": [],
   "source": [
    "test_prec"
   ]
  },
  {
   "cell_type": "code",
   "execution_count": null,
   "metadata": {
    "collapsed": false
   },
   "outputs": [],
   "source": [
    "train_prec"
   ]
  },
  {
   "cell_type": "markdown",
   "metadata": {
    "deletable": true,
    "editable": true
   },
   "source": [
    "# Prediction"
   ]
  },
  {
   "cell_type": "code",
   "execution_count": null,
   "metadata": {
    "collapsed": false,
    "deletable": true,
    "editable": true
   },
   "outputs": [],
   "source": [
    "X_eval = load_images_resized(type=\"test\")\n",
    "X_eval = X_eval - X_eval.min(axis=0)\n",
    "X_eval = X_eval / X_eval.max(axis=0)\n",
    "n_eval = X_eval.shape[0]\n",
    "X_eval2 = np.zeros((2000,63,63,3))\n",
    "for i in range(3):\n",
    "    X_eval2[:,:,:,i] = X_eval\n",
    "image_list_eval = X_eval2\n",
    "\n",
    "# Visual features for submission\n",
    "hog_list_eval = []\n",
    "for i in tqdm_notebook(range(n_eval), desc=\"Submission images\"):\n",
    "    image = image_list_eval[i,:,:,:]\n",
    "    hog_list_eval.append(\n",
    "        hog(\n",
    "            image,\n",
    "            filter_sigma=filter_sigma,\n",
    "            filter_shape=filter_shape,\n",
    "            hog_cell_size=hog_cell_size,\n",
    "            disc_grid=disc_grid))\n",
    "    \n",
    "n_features = hog_list_eval[0].size\n",
    "X_hog_eval = np.array(hog_list_eval).reshape((n_eval, n_features)) "
   ]
  },
  {
   "cell_type": "code",
   "execution_count": null,
   "metadata": {
    "collapsed": false,
    "deletable": true,
    "editable": true
   },
   "outputs": [],
   "source": [
    "Y_eval = np.zeros((n_eval, n_classes))\n",
    "for dig in tqdm_notebook(range(n_classes), desc=\"Classes\"):\n",
    "    Y_eval[:, dig] = pred(X_sample, X_hog_eval, alpha[dig, :],\n",
    "                          kernel_type=kernel_type, degree=degree, constant=constant)\n",
    "\n",
    "\n",
    "Y_labels_eval = np.argmax(Y_eval, axis=1)\n",
    "\n",
    "\n",
    "# Submission\n",
    "labels_to_csv(Y_labels_eval, kernel=kernel_type, algo=\"svm_hog\",user=\"Zac_big_images\")"
   ]
  },
  {
   "cell_type": "code",
   "execution_count": null,
   "metadata": {
    "collapsed": true,
    "deletable": true,
    "editable": true
   },
   "outputs": [],
   "source": []
  }
 ],
 "metadata": {
  "kernelspec": {
   "display_name": "Python 3",
   "language": "python",
   "name": "python3"
  },
  "language_info": {
   "codemirror_mode": {
    "name": "ipython",
    "version": 3
   },
   "file_extension": ".py",
   "mimetype": "text/x-python",
   "name": "python",
   "nbconvert_exporter": "python",
   "pygments_lexer": "ipython3",
   "version": "3.5.2"
  }
 },
 "nbformat": 4,
 "nbformat_minor": 2
}
