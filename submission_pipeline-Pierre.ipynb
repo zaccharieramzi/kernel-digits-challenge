{
 "cells": [
  {
   "cell_type": "code",
   "execution_count": 1,
   "metadata": {
    "collapsed": false,
    "deletable": true,
    "editable": true
   },
   "outputs": [],
   "source": [
    "import numpy as np\n",
    "\n",
    "from sklearn import linear_model\n",
    "from tools.data_loading import load_images, load_labels, dummy_code\n",
    "from tools.feature_learning import pins_generation\n",
    "from tools.kernels import kernel_matrix\n",
    "from tools.optimization import find_f\n",
    "from tools.prediction import pred\n",
    "from tools.process_images import process_images\n",
    "from tools.quantization import kmeans\n",
    "from tools.submission import labels_to_csv\n",
    "from tools.visualization import imshow, dump_as_png"
   ]
  },
  {
   "cell_type": "markdown",
   "metadata": {
    "deletable": true,
    "editable": true
   },
   "source": [
    "# Data loading"
   ]
  },
  {
   "cell_type": "code",
   "execution_count": 2,
   "metadata": {
    "collapsed": true,
    "deletable": true,
    "editable": true
   },
   "outputs": [],
   "source": [
    "X_train = load_images(type=\"train\")\n",
    "n_train = X_train.shape[0]\n",
    "Y_labels_train = load_labels()\n",
    "Y_train = dummy_code(Y_labels_train)\n",
    "n_classes = Y_train.shape[1]"
   ]
  },
  {
   "cell_type": "markdown",
   "metadata": {
    "deletable": true,
    "editable": true
   },
   "source": [
    "# Data separation"
   ]
  },
  {
   "cell_type": "code",
   "execution_count": 3,
   "metadata": {
    "collapsed": true,
    "deletable": true,
    "editable": true
   },
   "outputs": [],
   "source": [
    "indices = np.random.permutation(X_train.shape[0])\n",
    "training_idx, test_idx = indices[:int(0.9*n_train)], indices[int(0.9*n_train):]"
   ]
  },
  {
   "cell_type": "markdown",
   "metadata": {
    "deletable": true,
    "editable": true
   },
   "source": [
    "# Visual features"
   ]
  },
  {
   "cell_type": "code",
   "execution_count": 4,
   "metadata": {
    "collapsed": false,
    "deletable": true,
    "editable": true
   },
   "outputs": [],
   "source": [
    "pins_dict_train = pins_generation(training_idx=training_idx)\n",
    "pins_train = pins_dict_train[\"pins\"]\n",
    "train_pins = pins_dict_train[\"train_pins\"]\n",
    "pin_to_im_train = pins_dict_train[\"pin_to_im\"]\n",
    "pins_mat = np.vstack(train_pins)"
   ]
  },
  {
   "cell_type": "code",
   "execution_count": 5,
   "metadata": {
    "collapsed": false,
    "deletable": true,
    "editable": true
   },
   "outputs": [
    {
     "name": "stdout",
     "output_type": "stream",
     "text": [
      "(9000, 16)\n",
      "Wrongly clusterized pins: 8893\n",
      "Wrongly clusterized pins: 2936\n",
      "Wrongly clusterized pins: 1604\n",
      "Wrongly clusterized pins: 1075\n",
      "Wrongly clusterized pins: 824\n",
      "Wrongly clusterized pins: 597\n",
      "Wrongly clusterized pins: 441\n",
      "Wrongly clusterized pins: 352\n",
      "Wrongly clusterized pins: 290\n",
      "Wrongly clusterized pins: 265\n",
      "Wrongly clusterized pins: 239\n",
      "Wrongly clusterized pins: 217\n",
      "Wrongly clusterized pins: 201\n",
      "Wrongly clusterized pins: 173\n",
      "Wrongly clusterized pins: 154\n",
      "Wrongly clusterized pins: 157\n",
      "Wrongly clusterized pins: 136\n",
      "Wrongly clusterized pins: 126\n",
      "Wrongly clusterized pins: 104\n",
      "Wrongly clusterized pins: 108\n",
      "Wrongly clusterized pins: 80\n",
      "Wrongly clusterized pins: 77\n",
      "Wrongly clusterized pins: 69\n",
      "Wrongly clusterized pins: 87\n",
      "Wrongly clusterized pins: 89\n",
      "Wrongly clusterized pins: 71\n",
      "Wrongly clusterized pins: 61\n",
      "Wrongly clusterized pins: 54\n",
      "Wrongly clusterized pins: 39\n",
      "Wrongly clusterized pins: 49\n",
      "Wrongly clusterized pins: 52\n",
      "Wrongly clusterized pins: 38\n",
      "Wrongly clusterized pins: 49\n",
      "Wrongly clusterized pins: 41\n",
      "Wrongly clusterized pins: 45\n",
      "Wrongly clusterized pins: 36\n",
      "Wrongly clusterized pins: 30\n",
      "Wrongly clusterized pins: 38\n",
      "Wrongly clusterized pins: 30\n",
      "Wrongly clusterized pins: 31\n",
      "Wrongly clusterized pins: 28\n",
      "Wrongly clusterized pins: 25\n",
      "Wrongly clusterized pins: 23\n",
      "Wrongly clusterized pins: 18\n",
      "Wrongly clusterized pins: 15\n",
      "Wrongly clusterized pins: 22\n",
      "Wrongly clusterized pins: 22\n",
      "Wrongly clusterized pins: 14\n",
      "Wrongly clusterized pins: 18\n",
      "Wrongly clusterized pins: 12\n",
      "Wrongly clusterized pins: 10\n",
      "Wrongly clusterized pins: 7\n",
      "Wrongly clusterized pins: 5\n",
      "Wrongly clusterized pins: 1\n",
      "Wrongly clusterized pins: 0\n"
     ]
    }
   ],
   "source": [
    "indices_pins = np.random.permutation(pins_mat.shape[0])\n",
    "training_idx_pins, test_idx_pins = indices_pins[:int(0.10*pins_mat.shape[0])], indices_pins[int(0.10*pins_mat.shape[0]):]\n",
    "pins_mat_sample = pins_mat[training_idx_pins,:]\n",
    "print(pins_mat_sample.shape)\n",
    "visual_features = kmeans(pins_mat_sample, 70)"
   ]
  },
  {
   "cell_type": "code",
   "execution_count": 6,
   "metadata": {
    "collapsed": false,
    "deletable": true,
    "editable": true
   },
   "outputs": [
    {
     "data": {
      "text/plain": [
       "(70, 16)"
      ]
     },
     "execution_count": 6,
     "metadata": {},
     "output_type": "execute_result"
    }
   ],
   "source": [
    "visual_features.shape"
   ]
  },
  {
   "cell_type": "markdown",
   "metadata": {
    "deletable": true,
    "editable": true
   },
   "source": [
    "# Data processing"
   ]
  },
  {
   "cell_type": "code",
   "execution_count": 7,
   "metadata": {
    "collapsed": true,
    "deletable": true,
    "editable": true
   },
   "outputs": [],
   "source": [
    "X_train = process_images(n_train, visual_features, pins_train, pin_to_im_train)\n",
    "n_train, n_var = X_train.shape"
   ]
  },
  {
   "cell_type": "markdown",
   "metadata": {
    "deletable": true,
    "editable": true
   },
   "source": [
    "# Data separation (bis)"
   ]
  },
  {
   "cell_type": "code",
   "execution_count": 8,
   "metadata": {
    "collapsed": true,
    "deletable": true,
    "editable": true
   },
   "outputs": [],
   "source": [
    "X_sample = X_train[training_idx, :]\n",
    "n_sample = X_sample.shape[0]\n",
    "X_test = X_train[test_idx, :]\n",
    "n_test = X_test.shape[0]\n",
    "Y_sample = Y_train[training_idx, :]\n"
   ]
  },
  {
   "cell_type": "markdown",
   "metadata": {
    "deletable": true,
    "editable": true
   },
   "source": [
    "# Training"
   ]
  },
  {
   "cell_type": "markdown",
   "metadata": {
    "deletable": true,
    "editable": true
   },
   "source": [
    "## Kernel choice"
   ]
  },
  {
   "cell_type": "code",
   "execution_count": 9,
   "metadata": {
    "collapsed": true,
    "deletable": true,
    "editable": true
   },
   "outputs": [],
   "source": [
    "kernel_type = \"hellinger\"\n",
    "K_sample = kernel_matrix(X_sample, kernel_type=kernel_type)"
   ]
  },
  {
   "cell_type": "markdown",
   "metadata": {
    "deletable": true,
    "editable": true
   },
   "source": [
    "## Classifier choice"
   ]
  },
  {
   "cell_type": "code",
   "execution_count": null,
   "metadata": {
    "collapsed": false,
    "deletable": true,
    "editable": true
   },
   "outputs": [],
   "source": [
    "classifier_type = \"logistic regression\"\n",
    "alpha = np.zeros((n_classes, n_sample))\n",
    "for dig in range(n_classes):\n",
    "    alpha[dig, :] = find_f(K_sample, Y_sample[:, dig],\n",
    "                           prob_type=classifier_type, lamb=70, n_iter=10)"
   ]
  },
  {
   "cell_type": "markdown",
   "metadata": {
    "deletable": true,
    "editable": true
   },
   "source": [
    "# Evaluation"
   ]
  },
  {
   "cell_type": "code",
   "execution_count": null,
   "metadata": {
    "collapsed": false,
    "deletable": true,
    "editable": true
   },
   "outputs": [],
   "source": [
    "Y_pred_test = np.zeros((X_sample.shape[0][:500], n_classes))\n",
    "for dig in range(n_classes):\n",
    "    Y_pred_test[:, dig] = pred(X_sample, X_sample[:500], alpha[dig, :],\n",
    "                          kernel_type=kernel_type)\n",
    "\n",
    "\n",
    "Y_labels_pred_test = np.argmax(Y_pred_test, axis=1)\n",
    "prec = np.mean(Y_labels_pred_test == Y_labels_train[training_idx][:500])\n",
    "print(\"The precision on the train set is of {}\".format(prec))"
   ]
  },
  {
   "cell_type": "code",
   "execution_count": null,
   "metadata": {
    "collapsed": false,
    "deletable": true,
    "editable": true,
    "scrolled": false
   },
   "outputs": [],
   "source": [
    "Y_pred = np.zeros((X_test.shape[0], n_classes))\n",
    "for dig in range(n_classes):\n",
    "    Y_pred[:, dig] = pred(X_sample, X_test, alpha[dig, :],\n",
    "                          kernel_type=kernel_type)\n",
    "\n",
    "\n",
    "Y_labels_pred = np.argmax(Y_pred, axis=1)\n",
    "prec = np.mean(Y_labels_pred == Y_labels_train[test_idx])\n",
    "print(\"The precision on the test set is of {}\".format(prec))"
   ]
  },
  {
   "cell_type": "markdown",
   "metadata": {
    "deletable": true,
    "editable": true
   },
   "source": [
    "# Prediction"
   ]
  },
  {
   "cell_type": "code",
   "execution_count": null,
   "metadata": {
    "collapsed": true,
    "deletable": true,
    "editable": true
   },
   "outputs": [],
   "source": [
    "X_eval = load_images(type=\"test\")\n",
    "n_eval = X_eval.shape[0]\n",
    "\n",
    "# Visual features for submission\n",
    "pins_dict_eval = pins_generation(data_type=\"test\")\n",
    "pins_eval = pins_dict_eval[\"pins\"]\n",
    "pin_to_im_eval = pins_dict_eval[\"pin_to_im\"]\n",
    "\n",
    "\n",
    "# Data processing\n",
    "X_eval = process_images(n_eval, visual_features, pins_eval, pin_to_im_eval)\n",
    "n_eval, n_var = X_eval.shape\n",
    "\n",
    "Y_eval = np.zeros((n_eval, n_classes))\n",
    "for dig in range(n_classes):\n",
    "    Y_eval[:, dig] = pred(X_sample, X_eval, alpha[dig, :],\n",
    "                          kernel_type=kernel_type)\n",
    "\n",
    "\n",
    "Y_labels_eval = np.argmax(Y_eval, axis=1)\n",
    "\n",
    "\n",
    "# Submission\n",
    "labels_to_csv(Y_labels_eval, kernel=kernel_type, algo=classifier_type)"
   ]
  },
  {
   "cell_type": "code",
   "execution_count": null,
   "metadata": {
    "collapsed": true,
    "deletable": true,
    "editable": true
   },
   "outputs": [],
   "source": []
  }
 ],
 "metadata": {
  "kernelspec": {
   "display_name": "Python 3",
   "language": "python",
   "name": "python3"
  },
  "language_info": {
   "codemirror_mode": {
    "name": "ipython",
    "version": 3
   },
   "file_extension": ".py",
   "mimetype": "text/x-python",
   "name": "python",
   "nbconvert_exporter": "python",
   "pygments_lexer": "ipython3",
   "version": "3.5.2"
  }
 },
 "nbformat": 4,
 "nbformat_minor": 2
}
