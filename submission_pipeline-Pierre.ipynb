{
 "cells": [
  {
   "cell_type": "code",
   "execution_count": 25,
   "metadata": {
    "collapsed": false,
    "deletable": true,
    "editable": true
   },
   "outputs": [],
   "source": [
    "import numpy as np\n",
    "\n",
    "from sklearn import linear_model\n",
    "from tools.data_loading import load_images, load_labels, dummy_code\n",
    "from tools.feature_learning import pins_generation\n",
    "from tools.kernels import kernel_matrix\n",
    "from tools.optimization import find_f\n",
    "from tools.prediction import pred\n",
    "from tools.process_images import process_images\n",
    "from tools.quantization import kmeans\n",
    "from tools.submission import labels_to_csv\n",
    "from tools.visualization import imshow, dump_as_png"
   ]
  },
  {
   "cell_type": "markdown",
   "metadata": {
    "deletable": true,
    "editable": true
   },
   "source": [
    "# Data loading"
   ]
  },
  {
   "cell_type": "code",
   "execution_count": 2,
   "metadata": {
    "collapsed": true,
    "deletable": true,
    "editable": true
   },
   "outputs": [],
   "source": [
    "X_train = load_images(type=\"train\")\n",
    "n_train = X_train.shape[0]\n",
    "Y_labels_train = load_labels()\n",
    "Y_train = dummy_code(Y_labels_train)\n",
    "n_classes = Y_train.shape[1]"
   ]
  },
  {
   "cell_type": "markdown",
   "metadata": {
    "deletable": true,
    "editable": true
   },
   "source": [
    "# Data separation"
   ]
  },
  {
   "cell_type": "code",
   "execution_count": 3,
   "metadata": {
    "collapsed": true,
    "deletable": true,
    "editable": true
   },
   "outputs": [],
   "source": [
    "indices = np.random.permutation(X_train.shape[0])\n",
    "training_idx, test_idx = indices[:int(0.9*n_train)], indices[int(0.9*n_train):]"
   ]
  },
  {
   "cell_type": "markdown",
   "metadata": {
    "deletable": true,
    "editable": true
   },
   "source": [
    "# Visual features"
   ]
  },
  {
   "cell_type": "code",
   "execution_count": 4,
   "metadata": {
    "collapsed": false,
    "deletable": true,
    "editable": true
   },
   "outputs": [],
   "source": [
    "pins_dict_train = pins_generation(training_idx=training_idx)\n",
    "pins_train = pins_dict_train[\"pins\"]\n",
    "train_pins = pins_dict_train[\"train_pins\"]\n",
    "pin_to_im_train = pins_dict_train[\"pin_to_im\"]\n",
    "pins_mat = np.vstack(train_pins)"
   ]
  },
  {
   "cell_type": "code",
   "execution_count": 5,
   "metadata": {
    "collapsed": false,
    "deletable": true,
    "editable": true
   },
   "outputs": [
    {
     "name": "stdout",
     "output_type": "stream",
     "text": [
      "(9000, 16)\n",
      "Wrongly clusterized pins: 8865\n",
      "Wrongly clusterized pins: 3254\n",
      "Wrongly clusterized pins: 1567\n",
      "Wrongly clusterized pins: 1013\n",
      "Wrongly clusterized pins: 747\n",
      "Wrongly clusterized pins: 591\n",
      "Wrongly clusterized pins: 481\n",
      "Wrongly clusterized pins: 437\n",
      "Wrongly clusterized pins: 352\n",
      "Wrongly clusterized pins: 290\n",
      "Wrongly clusterized pins: 282\n",
      "Wrongly clusterized pins: 272\n",
      "Wrongly clusterized pins: 213\n",
      "Wrongly clusterized pins: 169\n",
      "Wrongly clusterized pins: 166\n",
      "Wrongly clusterized pins: 153\n",
      "Wrongly clusterized pins: 148\n",
      "Wrongly clusterized pins: 146\n",
      "Wrongly clusterized pins: 124\n",
      "Wrongly clusterized pins: 119\n",
      "Wrongly clusterized pins: 104\n",
      "Wrongly clusterized pins: 95\n",
      "Wrongly clusterized pins: 82\n",
      "Wrongly clusterized pins: 72\n",
      "Wrongly clusterized pins: 74\n",
      "Wrongly clusterized pins: 70\n",
      "Wrongly clusterized pins: 58\n",
      "Wrongly clusterized pins: 59\n",
      "Wrongly clusterized pins: 47\n",
      "Wrongly clusterized pins: 33\n",
      "Wrongly clusterized pins: 36\n",
      "Wrongly clusterized pins: 40\n",
      "Wrongly clusterized pins: 37\n",
      "Wrongly clusterized pins: 31\n",
      "Wrongly clusterized pins: 29\n",
      "Wrongly clusterized pins: 21\n",
      "Wrongly clusterized pins: 21\n",
      "Wrongly clusterized pins: 21\n",
      "Wrongly clusterized pins: 21\n",
      "Wrongly clusterized pins: 28\n",
      "Wrongly clusterized pins: 30\n",
      "Wrongly clusterized pins: 34\n",
      "Wrongly clusterized pins: 26\n",
      "Wrongly clusterized pins: 26\n",
      "Wrongly clusterized pins: 20\n",
      "Wrongly clusterized pins: 20\n",
      "Wrongly clusterized pins: 15\n",
      "Wrongly clusterized pins: 15\n",
      "Wrongly clusterized pins: 19\n",
      "Wrongly clusterized pins: 13\n",
      "Wrongly clusterized pins: 10\n",
      "Wrongly clusterized pins: 7\n",
      "Wrongly clusterized pins: 7\n",
      "Wrongly clusterized pins: 4\n",
      "Wrongly clusterized pins: 3\n",
      "Wrongly clusterized pins: 1\n",
      "Wrongly clusterized pins: 3\n",
      "Wrongly clusterized pins: 2\n",
      "Wrongly clusterized pins: 4\n",
      "Wrongly clusterized pins: 2\n",
      "Wrongly clusterized pins: 1\n",
      "Wrongly clusterized pins: 0\n"
     ]
    }
   ],
   "source": [
    "indices_pins = np.random.permutation(pins_mat.shape[0])\n",
    "training_idx_pins, test_idx_pins = indices_pins[:int(0.10*pins_mat.shape[0])], indices_pins[int(0.10*pins_mat.shape[0]):]\n",
    "pins_mat_sample = pins_mat[training_idx_pins,:]\n",
    "print(pins_mat_sample.shape)\n",
    "visual_features = kmeans(pins_mat_sample, 70)"
   ]
  },
  {
   "cell_type": "code",
   "execution_count": 6,
   "metadata": {
    "collapsed": false,
    "deletable": true,
    "editable": true
   },
   "outputs": [
    {
     "data": {
      "text/plain": [
       "(70, 16)"
      ]
     },
     "execution_count": 6,
     "metadata": {},
     "output_type": "execute_result"
    }
   ],
   "source": [
    "visual_features.shape"
   ]
  },
  {
   "cell_type": "markdown",
   "metadata": {
    "deletable": true,
    "editable": true
   },
   "source": [
    "# Data processing"
   ]
  },
  {
   "cell_type": "code",
   "execution_count": 7,
   "metadata": {
    "collapsed": true,
    "deletable": true,
    "editable": true
   },
   "outputs": [],
   "source": [
    "X_train = process_images(n_train, visual_features, pins_train, pin_to_im_train)\n",
    "n_train, n_var = X_train.shape"
   ]
  },
  {
   "cell_type": "markdown",
   "metadata": {
    "deletable": true,
    "editable": true
   },
   "source": [
    "# Data separation (bis)"
   ]
  },
  {
   "cell_type": "code",
   "execution_count": 8,
   "metadata": {
    "collapsed": true,
    "deletable": true,
    "editable": true
   },
   "outputs": [],
   "source": [
    "X_sample = X_train[training_idx, :]\n",
    "n_sample = X_sample.shape[0]\n",
    "X_test = X_train[test_idx, :]\n",
    "n_test = X_test.shape[0]\n",
    "Y_sample = Y_train[training_idx, :]\n"
   ]
  },
  {
   "cell_type": "markdown",
   "metadata": {
    "deletable": true,
    "editable": true
   },
   "source": [
    "# Training"
   ]
  },
  {
   "cell_type": "markdown",
   "metadata": {
    "deletable": true,
    "editable": true
   },
   "source": [
    "## Kernel choice"
   ]
  },
  {
   "cell_type": "code",
   "execution_count": 9,
   "metadata": {
    "collapsed": true,
    "deletable": true,
    "editable": true
   },
   "outputs": [],
   "source": [
    "kernel_type = \"hellinger\"\n",
    "K_sample = kernel_matrix(X_sample, kernel_type=kernel_type)"
   ]
  },
  {
   "cell_type": "markdown",
   "metadata": {
    "deletable": true,
    "editable": true
   },
   "source": [
    "## Classifier choice"
   ]
  },
  {
   "cell_type": "code",
   "execution_count": 39,
   "metadata": {
    "collapsed": false,
    "deletable": true,
    "editable": true
   },
   "outputs": [],
   "source": [
    "classifier_type = \"logistic regression\"\n",
    "alpha = np.zeros((n_classes, n_sample))\n",
    "for dig in range(n_classes):\n",
    "    alpha[dig, :] = find_f(K_sample, Y_sample[:, dig],\n",
    "                           prob_type=classifier_type, lamb=70, n_iter=100)"
   ]
  },
  {
   "cell_type": "markdown",
   "metadata": {},
   "source": [
    "### SVM test"
   ]
  },
  {
   "cell_type": "code",
   "execution_count": 23,
   "metadata": {
    "collapsed": false
   },
   "outputs": [],
   "source": [
    "from sklearn.svm import SVC\n",
    "SVC_dict = {}\n",
    "for dig in range(n_classes):\n",
    "    clf = SVC( kernel='linear')\n",
    "    clf.fit(X_sample, Y_sample[:,dig]) \n",
    "    SVC_dict[dig] = clf"
   ]
  },
  {
   "cell_type": "code",
   "execution_count": 24,
   "metadata": {
    "collapsed": false
   },
   "outputs": [
    {
     "name": "stdout",
     "output_type": "stream",
     "text": [
      "The precision on the test set is of 0.1\n"
     ]
    }
   ],
   "source": [
    "Y_pred = np.zeros((X_test.shape[0], n_classes))\n",
    "for dig in range(n_classes):\n",
    "    Y_pred[:, dig] = SVC_dict[dig].predict(X_test)\n",
    "Y_labels_pred = np.argmax(Y_pred, axis=1)\n",
    "prec = np.mean(Y_labels_pred == Y_labels_train[test_idx])\n",
    "print(\"The precision on the test set is of {}\".format(prec))"
   ]
  },
  {
   "cell_type": "code",
   "execution_count": 22,
   "metadata": {
    "collapsed": false
   },
   "outputs": [
    {
     "data": {
      "text/plain": [
       "6.0"
      ]
     },
     "execution_count": 22,
     "metadata": {},
     "output_type": "execute_result"
    }
   ],
   "source": [
    "Y_pred.sum()"
   ]
  },
  {
   "cell_type": "markdown",
   "metadata": {
    "deletable": true,
    "editable": true
   },
   "source": [
    "# Evaluation"
   ]
  },
  {
   "cell_type": "code",
   "execution_count": 40,
   "metadata": {
    "collapsed": false,
    "deletable": true,
    "editable": true
   },
   "outputs": [
    {
     "name": "stdout",
     "output_type": "stream",
     "text": [
      "The precision on the train set is of 0.246\n"
     ]
    }
   ],
   "source": [
    "Y_pred_test = np.zeros((X_sample[:500].shape[0], n_classes))\n",
    "for dig in range(n_classes):\n",
    "    Y_pred_test[:, dig] = pred(X_sample, X_sample[:500], alpha[dig, :],\n",
    "                          kernel_type=kernel_type)\n",
    "\n",
    "\n",
    "Y_labels_pred_test = np.argmax(Y_pred_test, axis=1)\n",
    "prec = np.mean(Y_labels_pred_test == Y_labels_train[training_idx][:500])\n",
    "print(\"The precision on the train set is of {}\".format(prec))"
   ]
  },
  {
   "cell_type": "code",
   "execution_count": 41,
   "metadata": {
    "collapsed": false,
    "deletable": true,
    "editable": true,
    "scrolled": false
   },
   "outputs": [
    {
     "name": "stdout",
     "output_type": "stream",
     "text": [
      "The precision on the test set is of 0.182\n"
     ]
    }
   ],
   "source": [
    "Y_pred = np.zeros((X_test.shape[0], n_classes))\n",
    "for dig in range(n_classes):\n",
    "    Y_pred[:, dig] = pred(X_sample, X_test, alpha[dig, :],\n",
    "                          kernel_type=kernel_type)\n",
    "\n",
    "\n",
    "Y_labels_pred = np.argmax(Y_pred, axis=1)\n",
    "prec = np.mean(Y_labels_pred == Y_labels_train[test_idx])\n",
    "print(\"The precision on the test set is of {}\".format(prec))"
   ]
  },
  {
   "cell_type": "markdown",
   "metadata": {
    "deletable": true,
    "editable": true
   },
   "source": [
    "# Prediction"
   ]
  },
  {
   "cell_type": "code",
   "execution_count": 38,
   "metadata": {
    "collapsed": false,
    "deletable": true,
    "editable": true
   },
   "outputs": [],
   "source": [
    "X_eval = load_images(type=\"test\")\n",
    "n_eval = X_eval.shape[0]\n",
    "\n",
    "# Visual features for submission\n",
    "pins_dict_eval = pins_generation(data_type=\"test\")\n",
    "pins_eval = pins_dict_eval[\"pins\"]\n",
    "pin_to_im_eval = pins_dict_eval[\"pin_to_im\"]\n",
    "\n",
    "\n",
    "# Data processing\n",
    "X_eval = process_images(n_eval, visual_features, pins_eval, pin_to_im_eval)\n",
    "n_eval, n_var = X_eval.shape\n",
    "\n",
    "Y_eval = np.zeros((n_eval, n_classes))\n",
    "for dig in range(n_classes):\n",
    "    Y_eval[:, dig] = pred(X_sample, X_eval, alpha[dig, :],\n",
    "                          kernel_type=kernel_type)\n",
    "\n",
    "\n",
    "Y_labels_eval = np.argmax(Y_eval, axis=1)\n",
    "\n",
    "\n",
    "# Submission\n",
    "labels_to_csv(Y_labels_eval, kernel=kernel_type, algo=classifier_type)"
   ]
  },
  {
   "cell_type": "code",
   "execution_count": null,
   "metadata": {
    "collapsed": true,
    "deletable": true,
    "editable": true
   },
   "outputs": [],
   "source": []
  }
 ],
 "metadata": {
  "kernelspec": {
   "display_name": "Python 3",
   "language": "python",
   "name": "python3"
  },
  "language_info": {
   "codemirror_mode": {
    "name": "ipython",
    "version": 3
   },
   "file_extension": ".py",
   "mimetype": "text/x-python",
   "name": "python",
   "nbconvert_exporter": "python",
   "pygments_lexer": "ipython3",
   "version": "3.5.2"
  }
 },
 "nbformat": 4,
 "nbformat_minor": 2
}
