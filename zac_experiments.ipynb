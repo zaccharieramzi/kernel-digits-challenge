{
 "cells": [
  {
   "cell_type": "code",
   "execution_count": 1,
   "metadata": {
    "collapsed": false,
    "deletable": true,
    "editable": true
   },
   "outputs": [],
   "source": [
    "%matplotlib inline\n",
    "import math\n",
    "\n",
    "import numpy as np\n",
    "import time\n",
    "import matplotlib.pyplot as plt\n",
    "\n",
    "from tools.corner_response_function import convolve, compute_corner_response, difference_of_Gaussian_filters\n",
    "from tools.visualization import reshape_as_images, imshow\n",
    "from tools.data_loading import load_images\n",
    "from tools.discretization import discretize_orientation, pin_as_vect\n",
    "from tools.quantization import kmeans, vf_vector"
   ]
  },
  {
   "cell_type": "code",
   "execution_count": 2,
   "metadata": {
    "collapsed": true,
    "deletable": true,
    "editable": true
   },
   "outputs": [],
   "source": [
    "filter_size = 3"
   ]
  },
  {
   "cell_type": "code",
   "execution_count": 3,
   "metadata": {
    "collapsed": false,
    "deletable": true,
    "editable": true
   },
   "outputs": [],
   "source": [
    "X = load_images(type=\"train\")\n",
    "X = reshape_as_images(X) # 5000 x 32 x 32 x 3\n",
    "images = X.mean(axis=3) # 5000 x 32 x 32\n",
    "window_size = 5\n",
    "stride = 3\n",
    "patch_size = 5\n",
    "\n",
    "filterx, filtery = difference_of_Gaussian_filters()\n",
    "\n",
    "R_size = (images.shape[1] - window_size - filter_size)//stride + 1\n",
    "R = np.zeros((images.shape[0], R_size, R_size))\n",
    "grads = list()"
   ]
  },
  {
   "cell_type": "code",
   "execution_count": 4,
   "metadata": {
    "collapsed": false,
    "deletable": true,
    "editable": true
   },
   "outputs": [],
   "source": [
    "for image_idx in range(images.shape[0]):\n",
    "        image_mat = images[image_idx]\n",
    "        im_size = image_mat.shape[0]  # normally 32\n",
    "        image_grad_x, image_grad_y = convolve(image_mat, filterx, filtery)\n",
    "        grads.append((image_grad_x, image_grad_y))\n",
    "        for i in range(R_size):\n",
    "            for j in range(R_size):\n",
    "                I_x = image_grad_x[i*stride:i*stride+window_size,\n",
    "                                   j*stride:j*stride+window_size]\n",
    "                I_y = image_grad_y[i*stride:i*stride+window_size,\n",
    "                                   j*stride:j*stride+window_size]\n",
    "\n",
    "                R[image_idx, i, j] = compute_corner_response(I_x, I_y)\n",
    "        # thresholding of R\n",
    "        R[image_idx] = np.abs(R[image_idx])"
   ]
  },
  {
   "cell_type": "code",
   "execution_count": 5,
   "metadata": {
    "collapsed": true,
    "deletable": true,
    "editable": true
   },
   "outputs": [],
   "source": [
    "def from_R_to_im(x, y, window_size, stride):\n",
    "    x = x * stride + (window_size - 1)//2 + (filter_size - 1)//2\n",
    "    y = y * stride + (window_size - 1)//2 + (filter_size - 1)//2\n",
    "\n",
    "    return (x, y)\n",
    "\n",
    "\n",
    "def R_to_heatmap(R, window_size, stride, im_size):\n",
    "    R_size = R.shape[0]\n",
    "    # create heatmap\n",
    "    heatmap = np.zeros((im_size, im_size))\n",
    "    for i in range(R_size):\n",
    "        for j in range(R_size):\n",
    "            ix, iy = from_R_to_im(i, j, window_size, stride)\n",
    "            heatmap[ix:ix+window_size,\n",
    "                    iy:iy+window_size] = R[i, j]\n",
    "    heatmap /= heatmap.max()\n",
    "    return heatmap"
   ]
  },
  {
   "cell_type": "code",
   "execution_count": 6,
   "metadata": {
    "collapsed": true,
    "deletable": true,
    "editable": true
   },
   "outputs": [],
   "source": [
    "ind = 0"
   ]
  },
  {
   "cell_type": "code",
   "execution_count": 7,
   "metadata": {
    "collapsed": false,
    "deletable": true,
    "editable": true
   },
   "outputs": [
    {
     "data": {
      "image/png": "[encoded data removed]",
      "text/plain": [
       "<matplotlib.figure.Figure at 0x1072b2438>"
      ]
     },
     "metadata": {},
     "output_type": "display_data"
    }
   ],
   "source": [
    "i, j = np.where(R[ind] > np.percentile(R[ind], 75))\n",
    "i, j = from_R_to_im(i, j, window_size, stride)\n",
    "\n",
    "x, y = j, i\n",
    "\n",
    "heatmap = R_to_heatmap(R[ind], window_size, stride, im_size)\n",
    "imshow(images[ind], points_of_interest=(x, y), heatmap=heatmap)\n",
    "ind +=1"
   ]
  },
  {
   "cell_type": "markdown",
   "metadata": {
    "deletable": true,
    "editable": true
   },
   "source": [
    "# Dataset separation"
   ]
  },
  {
   "cell_type": "code",
   "execution_count": 8,
   "metadata": {
    "collapsed": true,
    "deletable": true,
    "editable": true
   },
   "outputs": [],
   "source": [
    "n_train = X.shape[0]\n",
    "sep_indices = np.random.permutation(X.shape[0])\n",
    "training_idx, test_idx = sep_indices[:int(0.9*n_train)], sep_indices[int(0.9*n_train):]"
   ]
  },
  {
   "cell_type": "code",
   "execution_count": 9,
   "metadata": {
    "collapsed": false,
    "deletable": true,
    "editable": true
   },
   "outputs": [],
   "source": [
    "pins_img_ids = []\n",
    "pins_coords = []\n",
    "train_pins = list()\n",
    "im_to_pins = dict.fromkeys(range(images.shape[0]), [])\n",
    "pin_to_im = dict() # size is preallocated with the actual number of pin per img \n",
    "pins = list()\n",
    "for image_idx in range(images.shape[0]):\n",
    "    image_mat = images[image_idx]\n",
    "    i_s, j_s = np.where(\n",
    "        R[image_idx] > np.percentile(R[image_idx], 75))\n",
    "    i_s, j_s = from_R_to_im(i_s, j_s, window_size, stride)\n",
    "    image_grad_x, image_grad_y = grads[image_idx]\n",
    "    for i, j in zip(i_s, j_s):  # i, j are the coordinates in R of POI\n",
    "        patch_x = image_grad_x[i-patch_size//2:i+patch_size//2+1,\n",
    "                               j-patch_size//2:j+patch_size//2+1]\n",
    "        patch_y = image_grad_y[i-patch_size//2:i+patch_size//2+1,\n",
    "                               j-patch_size//2:j+patch_size//2+1]\n",
    "        pin_as_matrix = discretize_orientation(patch_x, patch_y)\n",
    "        pin = pin_as_vect(pin_as_matrix)\n",
    "        pins.append(pin) # pins is list of all pins for all images\n",
    "        # for visualization purposes\n",
    "        pins_img_ids.append(image_idx)\n",
    "        pins_coords.append((i,j))\n",
    "        im_to_pins[image_idx].append(pin)\n",
    "        pin_to_im[len(pins)-1] = image_idx\n",
    "        if image_idx in training_idx:\n",
    "            train_pins.append(pin)"
   ]
  },
  {
   "cell_type": "code",
   "execution_count": 10,
   "metadata": {
    "collapsed": true,
    "deletable": true,
    "editable": true
   },
   "outputs": [],
   "source": [
    "pins_mat = np.vstack(train_pins)"
   ]
  },
  {
   "cell_type": "code",
   "execution_count": 11,
   "metadata": {
    "collapsed": false,
    "deletable": true,
    "editable": true,
    "scrolled": false
   },
   "outputs": [
    {
     "name": "stdout",
     "output_type": "stream",
     "text": [
      "88497\n",
      "32773\n",
      "16830\n",
      "11343\n",
      "8596\n",
      "6849\n",
      "5728\n",
      "5021\n",
      "4405\n",
      "3826\n",
      "3471\n",
      "3222\n",
      "3035\n",
      "2895\n",
      "2757\n",
      "2548\n",
      "2460\n",
      "2191\n",
      "2102\n",
      "1920\n",
      "1747\n",
      "1597\n",
      "1461\n",
      "1342\n",
      "1282\n",
      "1287\n",
      "1157\n",
      "1143\n",
      "1102\n",
      "975\n",
      "916\n",
      "930\n",
      "887\n",
      "843\n",
      "831\n",
      "797\n",
      "814\n",
      "817\n",
      "781\n",
      "721\n",
      "719\n",
      "705\n",
      "698\n",
      "668\n",
      "680\n",
      "646\n",
      "560\n",
      "555\n",
      "554\n",
      "551\n",
      "547\n",
      "537\n",
      "522\n",
      "543\n",
      "499\n",
      "514\n",
      "480\n",
      "507\n",
      "493\n",
      "468\n",
      "462\n",
      "476\n",
      "496\n",
      "459\n",
      "441\n",
      "409\n",
      "399\n",
      "388\n",
      "370\n",
      "334\n",
      "325\n",
      "310\n",
      "288\n",
      "303\n",
      "302\n",
      "325\n",
      "258\n",
      "263\n",
      "263\n",
      "223\n",
      "257\n",
      "237\n",
      "247\n",
      "227\n",
      "248\n",
      "226\n",
      "209\n",
      "219\n",
      "192\n",
      "170\n",
      "185\n",
      "188\n",
      "192\n",
      "183\n",
      "204\n",
      "227\n",
      "239\n",
      "237\n",
      "242\n",
      "272\n",
      "250\n",
      "244\n",
      "241\n",
      "230\n",
      "231\n",
      "234\n",
      "230\n",
      "223\n",
      "218\n",
      "224\n",
      "245\n",
      "245\n",
      "214\n",
      "197\n",
      "176\n",
      "170\n",
      "180\n",
      "178\n",
      "178\n",
      "177\n",
      "163\n",
      "155\n",
      "165\n",
      "160\n",
      "134\n",
      "133\n",
      "140\n",
      "161\n",
      "163\n",
      "174\n",
      "165\n",
      "181\n",
      "173\n",
      "160\n",
      "157\n",
      "156\n",
      "168\n",
      "160\n",
      "152\n",
      "118\n",
      "132\n",
      "143\n",
      "152\n",
      "143\n",
      "170\n",
      "179\n",
      "177\n",
      "170\n",
      "177\n",
      "200\n",
      "182\n",
      "183\n",
      "167\n",
      "177\n",
      "162\n",
      "154\n",
      "152\n",
      "153\n",
      "158\n",
      "159\n",
      "160\n",
      "163\n",
      "164\n",
      "179\n",
      "194\n",
      "204\n",
      "215\n",
      "192\n",
      "145\n",
      "152\n",
      "128\n",
      "111\n",
      "123\n",
      "135\n",
      "131\n",
      "117\n",
      "119\n",
      "120\n",
      "114\n",
      "119\n",
      "119\n",
      "112\n",
      "115\n",
      "102\n",
      "119\n",
      "126\n",
      "121\n",
      "119\n",
      "109\n",
      "127\n",
      "115\n",
      "111\n",
      "103\n",
      "109\n",
      "110\n",
      "115\n",
      "125\n",
      "122\n",
      "131\n",
      "107\n",
      "103\n",
      "103\n",
      "97\n",
      "87\n",
      "77\n",
      "68\n",
      "63\n",
      "59\n",
      "64\n",
      "74\n",
      "74\n",
      "94\n",
      "117\n",
      "130\n",
      "120\n",
      "127\n",
      "120\n",
      "99\n",
      "92\n",
      "103\n",
      "93\n",
      "75\n",
      "68\n",
      "68\n",
      "74\n",
      "80\n",
      "87\n",
      "84\n",
      "77\n",
      "91\n",
      "112\n",
      "112\n",
      "113\n",
      "116\n",
      "114\n",
      "97\n",
      "97\n",
      "119\n",
      "96\n",
      "127\n",
      "128\n",
      "115\n",
      "137\n",
      "114\n",
      "118\n",
      "153\n",
      "124\n",
      "116\n",
      "115\n",
      "122\n",
      "136\n",
      "151\n",
      "150\n",
      "147\n",
      "157\n",
      "158\n",
      "162\n",
      "156\n",
      "159\n",
      "172\n",
      "179\n",
      "175\n",
      "173\n",
      "178\n",
      "168\n",
      "182\n",
      "200\n",
      "192\n",
      "195\n",
      "189\n",
      "170\n",
      "196\n",
      "190\n",
      "219\n",
      "193\n",
      "188\n",
      "189\n",
      "183\n",
      "177\n",
      "180\n",
      "175\n",
      "187\n",
      "183\n",
      "211\n",
      "216\n",
      "238\n",
      "248\n",
      "230\n",
      "229\n",
      "188\n",
      "212\n",
      "195\n",
      "174\n",
      "148\n",
      "145\n",
      "129\n",
      "119\n",
      "101\n",
      "97\n",
      "96\n",
      "84\n",
      "77\n",
      "76\n",
      "88\n",
      "98\n",
      "105\n",
      "101\n",
      "103\n",
      "89\n",
      "86\n",
      "90\n",
      "59\n",
      "47\n",
      "49\n",
      "38\n",
      "37\n",
      "32\n",
      "21\n",
      "29\n",
      "28\n",
      "34\n",
      "38\n",
      "32\n",
      "34\n",
      "35\n",
      "26\n",
      "22\n",
      "23\n",
      "20\n",
      "10\n",
      "11\n",
      "10\n",
      "14\n",
      "12\n",
      "15\n",
      "14\n",
      "18\n",
      "17\n",
      "10\n",
      "16\n",
      "14\n",
      "11\n",
      "12\n",
      "14\n",
      "13\n",
      "11\n",
      "9\n",
      "11\n",
      "16\n",
      "15\n",
      "18\n",
      "17\n",
      "15\n",
      "16\n",
      "22\n",
      "21\n",
      "17\n",
      "16\n",
      "20\n",
      "25\n",
      "34\n",
      "26\n",
      "20\n",
      "12\n",
      "12\n",
      "11\n",
      "11\n",
      "5\n",
      "2\n",
      "2\n",
      "1\n",
      "0\n"
     ]
    }
   ],
   "source": [
    "visual_features = kmeans(pins_mat, 70)"
   ]
  },
  {
   "cell_type": "code",
   "execution_count": 12,
   "metadata": {
    "collapsed": false,
    "deletable": true,
    "editable": true
   },
   "outputs": [
    {
     "data": {
      "text/plain": [
       "array([ 1312.,  1239.,  1520.,  1258.,  1471.,  1336.,   741.,  1240.,\n",
       "        1272.,  1258.,  1486.,  1276.,  1403.,  1498.,  1342.,  1276.,\n",
       "        1441.,  1367.,  1172.,  1586.,  1296.,  1362.,   794.,  1284.,\n",
       "        1482.,  1494.,  1182.,  1551.,  1366.,  1509.,  1313.,  1307.,\n",
       "        1021.,  1310.,  1259.,  1464.,  1252.,  1372.,  1405.,  1315.,\n",
       "        1373.,  1290.,  1527.,  1141.,   995.,  1361.,  1458.,  1269.,\n",
       "        1311.,  1110.,  1094.,   687.,   978.,   983.,  1347.,  1439.,\n",
       "        1377.,  1286.,  1407.,  1305.,  1338.,  1281.,  1107.,  1236.,\n",
       "        1457.,  1413.,  1093.,  1200.,  1107.,  1198.])"
      ]
     },
     "execution_count": 12,
     "metadata": {},
     "output_type": "execute_result"
    }
   ],
   "source": [
    "vf_vector(train_pins, visual_features)"
   ]
  },
  {
   "cell_type": "code",
   "execution_count": 13,
   "metadata": {
    "collapsed": false,
    "deletable": true,
    "editable": true
   },
   "outputs": [
    {
     "data": {
      "image/png": "[encoded data removed]",
      "text/plain": [
       "<matplotlib.figure.Figure at 0x1055174a8>"
      ]
     },
     "metadata": {},
     "output_type": "display_data"
    },
    {
     "data": {
      "image/png": "[encoded data removed]",
      "text/plain": [
       "<matplotlib.figure.Figure at 0x106f955f8>"
      ]
     },
     "metadata": {},
     "output_type": "display_data"
    },
    {
     "data": {
      "image/png": "[encoded data removed]",
      "text/plain": [
       "<matplotlib.figure.Figure at 0x10ed2f6d8>"
      ]
     },
     "metadata": {},
     "output_type": "display_data"
    }
   ],
   "source": [
    "y = np.argmin(np.linalg.norm(pins_mat[:, None, :] - visual_features, axis=2), axis=1)\n",
    "\n",
    "\n",
    "nb_features = 3\n",
    "for i in range(nb_features): # first three visual features\n",
    "    indices = np.where(y == i)[0][:9]\n",
    "    f, axarr = plt.subplots(3, 3)\n",
    "    \n",
    "    for aa in range(9):\n",
    "        r = aa // 3\n",
    "        s = aa - r * 3\n",
    "        ii, jj = pins_coords[indices[aa]]\n",
    "        image = X[pins_img_ids[indices[aa]]][ii-patch_size//2:ii+patch_size//2+1,\n",
    "                               jj-patch_size//2:jj+patch_size//2+1]\n",
    "        image -= X[pins_img_ids].min()\n",
    "        image /= X[pins_img_ids].max()\n",
    "        axarr[r,s].imshow(image, interpolation=\"nearest\")"
   ]
  },
  {
   "cell_type": "markdown",
   "metadata": {
    "deletable": true,
    "editable": true
   },
   "source": [
    "# Actual pipeline"
   ]
  },
  {
   "cell_type": "code",
   "execution_count": 14,
   "metadata": {
    "collapsed": false
   },
   "outputs": [],
   "source": [
    "from tools.data_loading import load_images, load_labels, dummy_code\n",
    "from tools.visualization import imshow, dump_as_png\n",
    "from tools.submission import labels_to_csv\n",
    "from tools.kernels import kernel_matrix\n",
    "from tools.process_images import process_images\n",
    "from tools.optimization import find_f\n",
    "from tools.prediction import pred"
   ]
  },
  {
   "cell_type": "code",
   "execution_count": 15,
   "metadata": {
    "collapsed": false
   },
   "outputs": [],
   "source": [
    "def vf_vector_note(pins, centroids, pin_to_im,n_train):\n",
    "    '''Assigns each element of pins (points of interest for one image) to the\n",
    "    closest centroid (VF).\n",
    "        Args:\n",
    "            - pins (list): the points of interest\n",
    "            - centroids (ndarray): the visual features\n",
    "            - pin_to_im: dict\n",
    "        Output:\n",
    "            - ndarray: the visual features vector\n",
    "    '''\n",
    "    k = centroids.shape[0]\n",
    "    vf_vector = np.zeros((n_train, k))\n",
    "    pins = np.vstack(pins)\n",
    "\n",
    "    y = np.argmin(np.linalg.norm(pins[:, None, :] - centroids, axis=2), axis=1)\n",
    "\n",
    "    for idx, pin in enumerate(pins):\n",
    "        y_pin = y[idx]\n",
    "        vf_vector[pin_to_im[idx], y_pin] += 1\n",
    "    return vf_vector"
   ]
  },
  {
   "cell_type": "code",
   "execution_count": 31,
   "metadata": {
    "collapsed": true
   },
   "outputs": [],
   "source": [
    "#from tools.quantization import vf_vector\n",
    "\n",
    "\n",
    "def process_images_note(X, proc_type=\"identity\", **kwargs):\n",
    "    '''Vectorize the features of each images contained in the rows of X.\n",
    "    '''\n",
    "    if proc_type == \"identity\":\n",
    "        return X\n",
    "    elif proc_type == \"bovf\":\n",
    "        try:\n",
    "            centroids = kwargs[\"centroids\"]\n",
    "        except KeyError:\n",
    "            raise KeyError(\"You need centroids for bovf\")\n",
    "        else:\n",
    "            try:\n",
    "                im_to_pins = kwargs[\"im_to_pins\"]\n",
    "            except KeyError:\n",
    "                raise KeyError(\"You need im_to_pins for bovf\")\n",
    "            else:\n",
    "                try:\n",
    "                    pin_to_im = kwargs[\"pin_to_im\"]\n",
    "                except KeyError:\n",
    "                    raise KeyError(\"You need pin_to_im for bovf\")\n",
    "                else:\n",
    "                    n = X.shape[0]\n",
    "                    X_proc = np.zeros((n, centroids.shape[0]))\n",
    "                    X_proc = vf_vector_note(pins_test, centroids,pin_to_im,n)\n",
    "                    return X_proc\n",
    "    else:\n",
    "        raise ValueError(\"{} is not an image processing\".format(proc_type))"
   ]
  },
  {
   "cell_type": "code",
   "execution_count": 17,
   "metadata": {
    "collapsed": false,
    "deletable": true,
    "editable": true
   },
   "outputs": [],
   "source": [
    "Y_labels_train = load_labels()\n",
    "Y_train = dummy_code(Y_labels_train)\n",
    "n_classes = Y_train.shape[1]\n",
    "\n",
    "X_proc = process_images_note(X, proc_type=\"bovf\", centroids=visual_features, im_to_pins=im_to_pins,pin_to_im=pin_to_im)\n",
    "n_train, n_var = X_proc.shape\n",
    "X_sample = X_proc[training_idx, :]\n",
    "n_sample = X_sample.shape[0]\n",
    "X_test = X_proc[test_idx, :]\n",
    "n_test = X_test.shape[0]\n",
    "Y_sample = Y_train[training_idx, :]"
   ]
  },
  {
   "cell_type": "code",
   "execution_count": 18,
   "metadata": {
    "collapsed": false,
    "deletable": true,
    "editable": true
   },
   "outputs": [
    {
     "name": "stdout",
     "output_type": "stream",
     "text": [
      "0.252\n"
     ]
    }
   ],
   "source": [
    "# Training\n",
    "kernel_type = \"linear\"\n",
    "K_sample = kernel_matrix(X_sample, kernel_type=kernel_type)\n",
    "\n",
    "classifier_type = \"linear regression\"\n",
    "alpha = np.zeros((n_classes, n_sample))\n",
    "for dig in range(n_classes):\n",
    "    alpha[dig, :] = find_f(K_sample, Y_sample[:, dig],\n",
    "                           prob_type=classifier_type, lamb=1.0)\n",
    "\n",
    "# Evaluation\n",
    "Y_pred = np.zeros((X_test.shape[0], n_classes))\n",
    "for dig in range(n_classes):\n",
    "    Y_pred[:, dig] = pred(X_sample, X_test, alpha[dig, :],\n",
    "                          kernel_type=kernel_type)\n",
    "\n",
    "\n",
    "Y_labels_pred = np.argmax(Y_pred, axis=1)\n",
    "prec = np.mean(Y_labels_pred == Y_labels_train[test_idx])\n",
    "print(prec)"
   ]
  },
  {
   "cell_type": "markdown",
   "metadata": {},
   "source": [
    "# Submission"
   ]
  },
  {
   "cell_type": "code",
   "execution_count": 19,
   "metadata": {
    "collapsed": false,
    "deletable": true,
    "editable": true
   },
   "outputs": [],
   "source": [
    "X_test = load_images(type=\"test\")\n",
    "X_test = reshape_as_images(X_test) # 5000 x 32 x 32 x 3\n",
    "images_test = X_test.mean(axis=3) # 5000 x 32 x 32\n",
    "\n",
    "R_test = np.zeros((images_test.shape[0], R_size, R_size))"
   ]
  },
  {
   "cell_type": "code",
   "execution_count": 20,
   "metadata": {
    "collapsed": false,
    "deletable": true,
    "editable": true
   },
   "outputs": [],
   "source": [
    "for image_idx in range(images_test.shape[0]):\n",
    "        image_mat = images_test[image_idx]\n",
    "        im_size = image_mat.shape[0]  # normally 32\n",
    "        image_grad_x, image_grad_y = compute_gaussian_grad(image_mat)\n",
    "        for i in range(R_size):\n",
    "            for j in range(R_size):\n",
    "                I_x = image_grad_x[i*stride:i*stride+window_size,\n",
    "                                   j*stride:j*stride+window_size]\n",
    "                I_y = image_grad_y[i*stride:i*stride+window_size,\n",
    "                                   j*stride:j*stride+window_size]\n",
    "\n",
    "                R_test[image_idx, i, j] = compute_corner_response(I_x, I_y)\n",
    "        # thresholding of R\n",
    "        R_test[image_idx] = np.abs(R_test[image_idx])"
   ]
  },
  {
   "cell_type": "code",
   "execution_count": 26,
   "metadata": {
    "collapsed": false,
    "deletable": true,
    "editable": true
   },
   "outputs": [],
   "source": [
    "im_to_pins_test = dict.fromkeys(range(images_test.shape[0]), [])\n",
    "pin_to_im_test = dict() # size is preallocated with the actual number of pin per img \n",
    "pins_test = list()\n",
    "for image_idx in range(images_test.shape[0]):\n",
    "    image_mat = images_test[image_idx]\n",
    "    i_s, j_s = np.where(\n",
    "        R_test[image_idx] > np.percentile(R_test[image_idx], 75))\n",
    "    i_s, j_s = from_R_to_im(i_s, j_s, window_size, stride)\n",
    "    image_grad_x, image_grad_y = compute_gaussian_grad(image_mat) # added with Pierre ????\n",
    "    for i, j in zip(i_s, j_s):  # i, j are the coordinates in R of POI\n",
    "        patch_x = image_grad_x[i-patch_size//2:i+patch_size//2+1,\n",
    "                               j-patch_size//2:j+patch_size//2+1]\n",
    "        patch_y = image_grad_y[i-patch_size//2:i+patch_size//2+1,\n",
    "                               j-patch_size//2:j+patch_size//2+1]\n",
    "        pin_as_matrix = discretize_orientation(patch_x, patch_y)\n",
    "        pin = pin_as_vect(pin_as_matrix)\n",
    "        pins_test.append(pin) # pins is list of all pins for all images\n",
    "        im_to_pins_test[image_idx].append(pin)\n",
    "        pin_to_im_test[len(pins_test)-1] = image_idx"
   ]
  },
  {
   "cell_type": "code",
   "execution_count": 30,
   "metadata": {
    "collapsed": false
   },
   "outputs": [
    {
     "data": {
      "text/plain": [
       "40000"
      ]
     },
     "execution_count": 30,
     "metadata": {},
     "output_type": "execute_result"
    }
   ],
   "source": [
    "len(pins_test)"
   ]
  },
  {
   "cell_type": "code",
   "execution_count": 32,
   "metadata": {
    "collapsed": false
   },
   "outputs": [
    {
     "ename": "FileNotFoundError",
     "evalue": "[Errno 2] No such file or directory: 'submissions/Yte_linear_linear regression_Zac.csv'",
     "output_type": "error",
     "traceback": [
      "\u001b[0;31m---------------------------------------------------------------------------\u001b[0m",
      "\u001b[0;31mFileNotFoundError\u001b[0m                         Traceback (most recent call last)",
      "\u001b[0;32m<ipython-input-32-00ef455202ee>\u001b[0m in \u001b[0;36m<module>\u001b[0;34m()\u001b[0m\n\u001b[1;32m     12\u001b[0m \u001b[0;34m\u001b[0m\u001b[0m\n\u001b[1;32m     13\u001b[0m \u001b[0;31m# Submission\u001b[0m\u001b[0;34m\u001b[0m\u001b[0;34m\u001b[0m\u001b[0m\n\u001b[0;32m---> 14\u001b[0;31m \u001b[0mlabels_to_csv\u001b[0m\u001b[0;34m(\u001b[0m\u001b[0mY_labels_eval\u001b[0m\u001b[0;34m)\u001b[0m\u001b[0;34m\u001b[0m\u001b[0m\n\u001b[0m",
      "\u001b[0;32m/Users/Mazz/Documents/MVA/S2-kernelmethods/kernel-digits-challenge/tools/submission.py\u001b[0m in \u001b[0;36mlabels_to_csv\u001b[0;34m(Y, kernel, algo, user, file_name)\u001b[0m\n\u001b[1;32m     25\u001b[0m             \u001b[0muser\u001b[0m\u001b[0;34m=\u001b[0m\u001b[0muser\u001b[0m\u001b[0;34m\u001b[0m\u001b[0m\n\u001b[1;32m     26\u001b[0m         )\n\u001b[0;32m---> 27\u001b[0;31m     \u001b[0mdf_labels\u001b[0m\u001b[0;34m.\u001b[0m\u001b[0mto_csv\u001b[0m\u001b[0;34m(\u001b[0m\u001b[0mop\u001b[0m\u001b[0;34m.\u001b[0m\u001b[0mjoin\u001b[0m\u001b[0;34m(\u001b[0m\u001b[0;34m\"submissions\"\u001b[0m\u001b[0;34m,\u001b[0m \u001b[0mfile_name\u001b[0m\u001b[0;34m)\u001b[0m\u001b[0;34m)\u001b[0m\u001b[0;34m\u001b[0m\u001b[0m\n\u001b[0m",
      "\u001b[0;32m/Users/Mazz/Documents/MVA/S2-kernelmethods/kernel-digits-challenge/venv/lib/python3.5/site-packages/pandas/core/frame.py\u001b[0m in \u001b[0;36mto_csv\u001b[0;34m(self, path_or_buf, sep, na_rep, float_format, columns, header, index, index_label, mode, encoding, compression, quoting, quotechar, line_terminator, chunksize, tupleize_cols, date_format, doublequote, escapechar, decimal)\u001b[0m\n\u001b[1;32m   1381\u001b[0m                                      \u001b[0mdoublequote\u001b[0m\u001b[0;34m=\u001b[0m\u001b[0mdoublequote\u001b[0m\u001b[0;34m,\u001b[0m\u001b[0;34m\u001b[0m\u001b[0m\n\u001b[1;32m   1382\u001b[0m                                      escapechar=escapechar, decimal=decimal)\n\u001b[0;32m-> 1383\u001b[0;31m         \u001b[0mformatter\u001b[0m\u001b[0;34m.\u001b[0m\u001b[0msave\u001b[0m\u001b[0;34m(\u001b[0m\u001b[0;34m)\u001b[0m\u001b[0;34m\u001b[0m\u001b[0m\n\u001b[0m\u001b[1;32m   1384\u001b[0m \u001b[0;34m\u001b[0m\u001b[0m\n\u001b[1;32m   1385\u001b[0m         \u001b[0;32mif\u001b[0m \u001b[0mpath_or_buf\u001b[0m \u001b[0;32mis\u001b[0m \u001b[0;32mNone\u001b[0m\u001b[0;34m:\u001b[0m\u001b[0;34m\u001b[0m\u001b[0m\n",
      "\u001b[0;32m/Users/Mazz/Documents/MVA/S2-kernelmethods/kernel-digits-challenge/venv/lib/python3.5/site-packages/pandas/formats/format.py\u001b[0m in \u001b[0;36msave\u001b[0;34m(self)\u001b[0m\n\u001b[1;32m   1458\u001b[0m             f = _get_handle(self.path_or_buf, self.mode,\n\u001b[1;32m   1459\u001b[0m                             \u001b[0mencoding\u001b[0m\u001b[0;34m=\u001b[0m\u001b[0mself\u001b[0m\u001b[0;34m.\u001b[0m\u001b[0mencoding\u001b[0m\u001b[0;34m,\u001b[0m\u001b[0;34m\u001b[0m\u001b[0m\n\u001b[0;32m-> 1460\u001b[0;31m                             compression=self.compression)\n\u001b[0m\u001b[1;32m   1461\u001b[0m             \u001b[0mclose\u001b[0m \u001b[0;34m=\u001b[0m \u001b[0;32mTrue\u001b[0m\u001b[0;34m\u001b[0m\u001b[0m\n\u001b[1;32m   1462\u001b[0m \u001b[0;34m\u001b[0m\u001b[0m\n",
      "\u001b[0;32m/Users/Mazz/Documents/MVA/S2-kernelmethods/kernel-digits-challenge/venv/lib/python3.5/site-packages/pandas/io/common.py\u001b[0m in \u001b[0;36m_get_handle\u001b[0;34m(path, mode, encoding, compression, memory_map)\u001b[0m\n\u001b[1;32m    330\u001b[0m                 \u001b[0mf\u001b[0m \u001b[0;34m=\u001b[0m \u001b[0mopen\u001b[0m\u001b[0;34m(\u001b[0m\u001b[0mpath\u001b[0m\u001b[0;34m,\u001b[0m \u001b[0mmode\u001b[0m\u001b[0;34m,\u001b[0m \u001b[0mencoding\u001b[0m\u001b[0;34m=\u001b[0m\u001b[0mencoding\u001b[0m\u001b[0;34m)\u001b[0m\u001b[0;34m\u001b[0m\u001b[0m\n\u001b[1;32m    331\u001b[0m             \u001b[0;32melse\u001b[0m\u001b[0;34m:\u001b[0m\u001b[0;34m\u001b[0m\u001b[0m\n\u001b[0;32m--> 332\u001b[0;31m                 \u001b[0mf\u001b[0m \u001b[0;34m=\u001b[0m \u001b[0mopen\u001b[0m\u001b[0;34m(\u001b[0m\u001b[0mpath\u001b[0m\u001b[0;34m,\u001b[0m \u001b[0mmode\u001b[0m\u001b[0;34m,\u001b[0m \u001b[0merrors\u001b[0m\u001b[0;34m=\u001b[0m\u001b[0;34m'replace'\u001b[0m\u001b[0;34m)\u001b[0m\u001b[0;34m\u001b[0m\u001b[0m\n\u001b[0m\u001b[1;32m    333\u001b[0m         \u001b[0;32melse\u001b[0m\u001b[0;34m:\u001b[0m\u001b[0;34m\u001b[0m\u001b[0m\n\u001b[1;32m    334\u001b[0m             \u001b[0mf\u001b[0m \u001b[0;34m=\u001b[0m \u001b[0mopen\u001b[0m\u001b[0;34m(\u001b[0m\u001b[0mpath\u001b[0m\u001b[0;34m,\u001b[0m \u001b[0mmode\u001b[0m\u001b[0;34m)\u001b[0m\u001b[0;34m\u001b[0m\u001b[0m\n",
      "\u001b[0;31mFileNotFoundError\u001b[0m: [Errno 2] No such file or directory: 'submissions/Yte_linear_linear regression_Zac.csv'"
     ]
    }
   ],
   "source": [
    "X_test_proc = process_images_note(X_test, proc_type=\"bovf\",\n",
    "                                  centroids=visual_features, im_to_pins=im_to_pins_test,pin_to_im=pin_to_im_test)\n",
    "n_eval = X_test_proc.shape[0]\n",
    "Y_eval = np.zeros((n_eval, n_classes))\n",
    "for dig in range(n_classes):\n",
    "    Y_eval[:, dig] = pred(X_sample, X_test_proc, alpha[dig, :],\n",
    "                          kernel_type=kernel_type)\n",
    "\n",
    "\n",
    "Y_labels_eval = np.argmax(Y_eval, axis=1)\n",
    "\n",
    "\n"
   ]
  },
  {
   "cell_type": "code",
   "execution_count": 33,
   "metadata": {
    "collapsed": true
   },
   "outputs": [],
   "source": [
    "# Submission\n",
    "labels_to_csv(Y_labels_eval, user=\"Pierre\")"
   ]
  },
  {
   "cell_type": "code",
   "execution_count": 24,
   "metadata": {
    "collapsed": false
   },
   "outputs": [
    {
     "data": {
      "text/plain": [
       "(2000, 32, 32, 3)"
      ]
     },
     "execution_count": 24,
     "metadata": {},
     "output_type": "execute_result"
    }
   ],
   "source": [
    "X_test_proc.shape"
   ]
  },
  {
   "cell_type": "code",
   "execution_count": null,
   "metadata": {
    "collapsed": true
   },
   "outputs": [],
   "source": []
  }
 ],
 "metadata": {
  "kernelspec": {
   "display_name": "Python 3",
   "language": "python",
   "name": "python3"
  },
  "language_info": {
   "codemirror_mode": {
    "name": "ipython",
    "version": 3
   },
   "file_extension": ".py",
   "mimetype": "text/x-python",
   "name": "python",
   "nbconvert_exporter": "python",
   "pygments_lexer": "ipython3",
   "version": "3.5.2"
  }
 },
 "nbformat": 4,
 "nbformat_minor": 2
}
