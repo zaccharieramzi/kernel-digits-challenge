{
 "cells": [
  {
   "cell_type": "code",
   "execution_count": null,
   "metadata": {
    "collapsed": false,
    "deletable": true,
    "editable": true
   },
   "outputs": [],
   "source": [
    "from multiprocessing import Process, Queue\n",
    "\n",
    "import numpy as np\n",
    "from scipy.spatial.distance import cdist, pdist, squareform\n",
    "from tqdm import tqdm_notebook\n",
    "\n",
    "from tools.data_loading import load_images, load_labels, dummy_code, load_images_resized\n",
    "from tools.feature_learning import pins_generation\n",
    "from tools.hog import hog\n",
    "from tools.kernels import kernel_matrix\n",
    "from tools.optimization import find_f\n",
    "from tools.prediction import pred\n",
    "from tools.process_images import process_images\n",
    "from tools.quantization import kmeans\n",
    "from tools.submission import labels_to_csv\n",
    "from tools.visualization import imshow, dump_as_png, reshape_as_images"
   ]
  },
  {
   "cell_type": "markdown",
   "metadata": {
    "deletable": true,
    "editable": true
   },
   "source": [
    "# Data loading"
   ]
  },
  {
   "cell_type": "code",
   "execution_count": null,
   "metadata": {
    "collapsed": true,
    "deletable": true,
    "editable": true
   },
   "outputs": [],
   "source": [
    "X_train = load_images(type=\"train\")\n",
    "n_train = X_train.shape[0]\n",
    "Y_labels_train = load_labels()\n",
    "Y_train = dummy_code(Y_labels_train)\n",
    "n_classes = Y_train.shape[1]"
   ]
  },
  {
   "cell_type": "code",
   "execution_count": null,
   "metadata": {
    "collapsed": false,
    "deletable": true,
    "editable": true
   },
   "outputs": [],
   "source": [
    "image_list = reshape_as_images(X_train)"
   ]
  },
  {
   "cell_type": "markdown",
   "metadata": {
    "deletable": true,
    "editable": true
   },
   "source": [
    "# Visual features"
   ]
  },
  {
   "cell_type": "code",
   "execution_count": null,
   "metadata": {
    "collapsed": true,
    "deletable": true,
    "editable": true
   },
   "outputs": [],
   "source": [
    "filter_sigma=0.1\n",
    "filter_shape=5\n",
    "hog_cell_size=8\n",
    "disc_grid=16"
   ]
  },
  {
   "cell_type": "code",
   "execution_count": null,
   "metadata": {
    "collapsed": true,
    "deletable": true,
    "editable": true
   },
   "outputs": [],
   "source": [
    "n_images = image_list.shape[0]"
   ]
  },
  {
   "cell_type": "code",
   "execution_count": null,
   "metadata": {
    "collapsed": false,
    "deletable": true,
    "editable": true
   },
   "outputs": [],
   "source": [
    "hog_list = []\n",
    "for i in tqdm_notebook(range(n_images), desc=\"Images\"):\n",
    "    image = image_list[i,:,:,:]\n",
    "    hog_list.append(\n",
    "        hog(\n",
    "            image,\n",
    "            filter_sigma=filter_sigma,\n",
    "            filter_shape=filter_shape,\n",
    "            hog_cell_size=hog_cell_size,\n",
    "            disc_grid=disc_grid,\n",
    "            color_grad=True))\n",
    "    \n",
    "n_features = hog_list[0].size\n",
    "X_hog = np.array(hog_list).reshape((n_images, n_features)) \n"
   ]
  },
  {
   "cell_type": "markdown",
   "metadata": {
    "deletable": true,
    "editable": true
   },
   "source": [
    "# Data separation"
   ]
  },
  {
   "cell_type": "code",
   "execution_count": null,
   "metadata": {
    "collapsed": false,
    "deletable": true,
    "editable": true
   },
   "outputs": [],
   "source": [
    "training_idx = []\n",
    "test_idx = []\n",
    "train_frac = 1\n",
    "for dig in tqdm_notebook(range(n_classes), desc=\"Classes\"):\n",
    "    selected_indices = np.random.permutation(np.sum(Y_labels_train == dig))\n",
    "    n_class = len(selected_indices)\n",
    "    class_indices = np.where(Y_labels_train == dig)[0]\n",
    "    training_idx += list(map(int, class_indices[selected_indices[:int(train_frac*n_class)]]))\n",
    "    test_idx += list(map(int,class_indices[selected_indices[int(train_frac*n_class):]]))"
   ]
  },
  {
   "cell_type": "code",
   "execution_count": null,
   "metadata": {
    "collapsed": false,
    "deletable": true,
    "editable": true
   },
   "outputs": [],
   "source": [
    "X_sample = X_hog[training_idx, :]\n",
    "n_sample = X_sample.shape[0]\n",
    "Y_sample = Y_train[training_idx, :]\n",
    "Y_labels_sample = Y_labels_train[training_idx]\n",
    "\n",
    "X_test = X_hog[test_idx, :]\n",
    "n_test = X_test.shape[0]\n",
    "Y_labels_test = Y_labels_train[test_idx]"
   ]
  },
  {
   "cell_type": "markdown",
   "metadata": {
    "deletable": true,
    "editable": true
   },
   "source": [
    "## Pre-computing distances"
   ]
  },
  {
   "cell_type": "code",
   "execution_count": null,
   "metadata": {
    "collapsed": false,
    "deletable": true,
    "editable": true
   },
   "outputs": [],
   "source": [
    "train_dist = squareform(pdist(X_sample, \"euclidean\"))\n",
    "train_test_dist = cdist(X_sample[:500], X_sample, \"euclidean\")\n",
    "test_dist = cdist(X_test, X_sample, \"euclidean\")"
   ]
  },
  {
   "cell_type": "markdown",
   "metadata": {
    "deletable": true,
    "editable": true
   },
   "source": [
    "## Pre-computing inner products"
   ]
  },
  {
   "cell_type": "code",
   "execution_count": null,
   "metadata": {
    "collapsed": false,
    "deletable": true,
    "editable": true
   },
   "outputs": [],
   "source": [
    "train_inner = X_sample.dot(X_sample.T)\n",
    "train_test_inner = X_sample[:500].dot(X_sample.T)\n",
    "test_inner = X_test.dot(X_sample.T)"
   ]
  },
  {
   "cell_type": "markdown",
   "metadata": {
    "deletable": true,
    "editable": true
   },
   "source": [
    "# Training"
   ]
  },
  {
   "cell_type": "markdown",
   "metadata": {
    "deletable": true,
    "editable": true
   },
   "source": [
    "## Classifier choice"
   ]
  },
  {
   "cell_type": "code",
   "execution_count": null,
   "metadata": {
    "collapsed": true
   },
   "outputs": [],
   "source": [
    "classifier_type = \"fast_svm\"\n",
    "n_iter=60000"
   ]
  },
  {
   "cell_type": "markdown",
   "metadata": {
    "deletable": true,
    "editable": true
   },
   "source": [
    "## Kernel choice"
   ]
  },
  {
   "cell_type": "code",
   "execution_count": null,
   "metadata": {
    "collapsed": true,
    "deletable": true,
    "editable": true
   },
   "outputs": [],
   "source": [
    "kernel_type = \"polynomial\"\n",
    "degree = 4\n",
    "constant = 5\n",
    "lamb = 1"
   ]
  },
  {
   "cell_type": "code",
   "execution_count": null,
   "metadata": {
    "collapsed": true,
    "deletable": true,
    "editable": true
   },
   "outputs": [],
   "source": [
    "kernel_type=\"rbf\"\n",
    "sigma = 1\n",
    "lamb = 1e-8"
   ]
  },
  {
   "cell_type": "markdown",
   "metadata": {},
   "source": [
    "## Kernel computation"
   ]
  },
  {
   "cell_type": "code",
   "execution_count": null,
   "metadata": {
    "collapsed": false,
    "deletable": true,
    "editable": true
   },
   "outputs": [],
   "source": [
    "K_sample = kernel_matrix(\n",
    "    X_sample,\n",
    "    kernel_type=kernel_type,\n",
    "    degree=degree,\n",
    "    constant=constant,\n",
    "    sigma=sigma,\n",
    "    dist=train_dist,\n",
    "    inner=train_inner)"
   ]
  },
  {
   "cell_type": "markdown",
   "metadata": {},
   "source": [
    "## Optimization"
   ]
  },
  {
   "cell_type": "code",
   "execution_count": null,
   "metadata": {
    "collapsed": false,
    "deletable": true,
    "editable": true
   },
   "outputs": [],
   "source": [
    "alpha = np.zeros((n_classes, n_sample))\n",
    "for dig in tqdm_notebook(range(n_classes), desc=\"Classes\"):\n",
    "    alpha[dig, :] = find_f(K_sample, Y_sample[:, dig],\n",
    "                           prob_type=classifier_type, lamb=lamb, n_iter=n_iter)"
   ]
  },
  {
   "cell_type": "markdown",
   "metadata": {
    "deletable": true,
    "editable": true
   },
   "source": [
    "# Evaluation"
   ]
  },
  {
   "cell_type": "markdown",
   "metadata": {
    "deletable": true,
    "editable": true
   },
   "source": [
    "### Training error"
   ]
  },
  {
   "cell_type": "code",
   "execution_count": null,
   "metadata": {
    "collapsed": false,
    "deletable": true,
    "editable": true,
    "scrolled": true
   },
   "outputs": [],
   "source": [
    "Y_pred_train = pred(\n",
    "    X_sample, X_sample[:500], alpha,\n",
    "    kernel_type=kernel_type,\n",
    "    degree=degree,\n",
    "    constant=constant,\n",
    "    sigma=sigma,\n",
    "    dist=train_test_dist,\n",
    "    inner=train_test_inner)\n",
    "\n",
    "\n",
    "Y_labels_pred_train = np.argmax(Y_pred_train, axis=1)\n",
    "prec = np.mean(Y_labels_pred_train == Y_labels_sample[:500])\n",
    "print(\"The precision on the train set is of {}\".format(prec))"
   ]
  },
  {
   "cell_type": "markdown",
   "metadata": {
    "deletable": true,
    "editable": true
   },
   "source": [
    "### Testing error"
   ]
  },
  {
   "cell_type": "code",
   "execution_count": null,
   "metadata": {
    "collapsed": false,
    "deletable": true,
    "editable": true,
    "scrolled": false
   },
   "outputs": [],
   "source": [
    "Y_pred = pred(\n",
    "    X_sample, X_test, alpha,\n",
    "    kernel_type=kernel_type,\n",
    "    degree=degree,\n",
    "    constant=constant,\n",
    "    sigma=sigma,\n",
    "    dist=test_dist,\n",
    "    inner=test_inner)\n",
    "\n",
    "\n",
    "Y_labels_pred = np.argmax(Y_pred, axis=1)\n",
    "prec = np.mean(Y_labels_pred == Y_labels_test)\n",
    "print(\"The precision on the test set is of {}\".format(prec))"
   ]
  },
  {
   "cell_type": "markdown",
   "metadata": {
    "deletable": true,
    "editable": true
   },
   "source": [
    "## Grid search from hell"
   ]
  },
  {
   "cell_type": "code",
   "execution_count": null,
   "metadata": {
    "collapsed": false,
    "deletable": true,
    "editable": true
   },
   "outputs": [],
   "source": [
    "def coordinate_ascent(out_q, dig, **kwargs):\n",
    "    out_q.put(\n",
    "        [\n",
    "            dig,\n",
    "            find_f(**kwargs)            \n",
    "        ]\n",
    "    )"
   ]
  },
  {
   "cell_type": "markdown",
   "metadata": {
    "deletable": true,
    "editable": true
   },
   "source": [
    "### For polynomial"
   ]
  },
  {
   "cell_type": "code",
   "execution_count": null,
   "metadata": {
    "collapsed": false,
    "deletable": true,
    "editable": true
   },
   "outputs": [],
   "source": [
    "kernel_type = \"polynomial\"\n",
    "degrees = [4]\n",
    "n_degrees = len(degrees)\n",
    "constants = [1]\n",
    "n_constants = len(constants)\n",
    "lambs = [1]\n",
    "n_lambs = len(lambs)\n",
    "weights = [5, 10, 50, 1000]\n",
    "n_weights = len(weights)\n",
    "train_prec = np.zeros((n_degrees, n_constants, n_lambs, n_weights))\n",
    "test_prec = np.zeros((n_degrees, n_constants, n_lambs, n_weights))\n",
    "for d in tqdm_notebook(range(n_degrees), desc=\"Degrees\"):\n",
    "    for c in tqdm_notebook(range(n_constants), desc=\"Constants\"):\n",
    "        # Kernel matrix computation\n",
    "        K_sample = kernel_matrix(\n",
    "            X_sample, kernel_type=kernel_type, degree=degrees[d], constant=constants[c], inner=train_inner)\n",
    "        for l in tqdm_notebook(range(n_lambs), desc=\"Lambdas\"):\n",
    "            for w in tqdm_notebook(range(n_weights), desc=\"Weights\"):\n",
    "                # Coordinate ascent with multiprocessing\n",
    "                alpha = np.zeros((n_classes, n_sample))\n",
    "                out_q = Queue()\n",
    "                procs = list()\n",
    "                for dig in range(n_classes):\n",
    "                    weights = np.ones(n_sample)\n",
    "                    weights[Y_labels_sample == dig] *= weights[w]\n",
    "                    p = Process(\n",
    "                        target=coordinate_ascent,\n",
    "                        args=(out_q, dig),\n",
    "                        kwargs={\n",
    "                            \"K\":K_sample,\n",
    "                            \"Y\":Y_sample[:, dig],\n",
    "                            \"weights\": weights,\n",
    "                            \"prob_type\":classifier_type, \"lamb\":lambs[l], \"n_iter\":100000\n",
    "                        }\n",
    "                    )\n",
    "                    procs.append(p)\n",
    "                    p.start()\n",
    "                for i in range(n_classes):\n",
    "                    res = out_q.get()\n",
    "                    alpha[res[0], :] = res[1]\n",
    "\n",
    "                for p in procs:\n",
    "                    p.join()\n",
    "                # Precision on train set\n",
    "                Y_pred_train = pred(\n",
    "                    X_sample, X_sample[:500], alpha,\n",
    "                    kernel_type=kernel_type,\n",
    "                    degree=degrees[d],\n",
    "                    constant=constants[c],\n",
    "                    inner=train_test_inner)\n",
    "\n",
    "                Y_labels_pred_train = np.argmax(Y_pred_train, axis=1)\n",
    "                train_prec[d, c, l, w] = np.mean(Y_labels_pred_train == Y_labels_sample[:500])\n",
    "                # Precision on test set\n",
    "                Y_pred= pred(\n",
    "                    X_sample, X_test, alpha,\n",
    "                    kernel_type=kernel_type,\n",
    "                    degree=degrees[d],\n",
    "                    constant=constants[c],\n",
    "                    inner=test_inner)\n",
    "\n",
    "                Y_labels_pred = np.argmax(Y_pred, axis=1)\n",
    "                test_prec[d, c, l, w] = np.mean(Y_labels_pred == Y_labels_test)"
   ]
  },
  {
   "cell_type": "code",
   "execution_count": null,
   "metadata": {
    "collapsed": false,
    "deletable": true,
    "editable": true
   },
   "outputs": [],
   "source": [
    "test_prec"
   ]
  },
  {
   "cell_type": "code",
   "execution_count": null,
   "metadata": {
    "collapsed": false,
    "deletable": true,
    "editable": true
   },
   "outputs": [],
   "source": [
    "train_prec"
   ]
  },
  {
   "cell_type": "markdown",
   "metadata": {
    "deletable": true,
    "editable": true
   },
   "source": [
    "### For RBF"
   ]
  },
  {
   "cell_type": "code",
   "execution_count": null,
   "metadata": {
    "collapsed": false,
    "deletable": true,
    "editable": true
   },
   "outputs": [],
   "source": [
    "kernel_type=\"rbf\"\n",
    "sigmas = [1.5]\n",
    "n_sigmas = len(sigmas)\n",
    "weights = [10]\n",
    "n_weights = len(weights)\n",
    "lambs = [1e-8]\n",
    "n_lambs = len(lambs)\n",
    "train_prec_rbf = np.zeros((n_sigmas, n_lambs, n_weights))\n",
    "test_prec_rbf = np.zeros((n_sigmas, n_lambs, n_weights))\n",
    "for s in tqdm_notebook(range(n_sigmas), desc=\"Sigmas\"):\n",
    "    # Kernel matrix computation\n",
    "    K_sample = kernel_matrix(X_sample, kernel_type=kernel_type, sigma=sigmas[s], dist=train_dist)\n",
    "    for l in tqdm_notebook(range(n_lambs), desc=\"Lambdas\"):\n",
    "        for w in tqdm_notebook(range(n_weights), desc=\"Weights\"):\n",
    "            # Coordinate ascent with multiprocessing\n",
    "            alpha = np.zeros((n_classes, n_sample))\n",
    "            out_q = Queue()\n",
    "            procs = list()\n",
    "            for dig in range(n_classes):\n",
    "                weights = np.ones(n_sample)\n",
    "                weights[Y_labels_sample == dig] *= weights[w]\n",
    "                p = Process(\n",
    "                    target=coordinate_ascent,\n",
    "                    args=(out_q, dig),\n",
    "                    kwargs={\n",
    "                        \"K\":K_sample,\n",
    "                        \"Y\":Y_sample[:, dig],\n",
    "                        \"weights\": weights,\n",
    "                        \"prob_type\":classifier_type, \"lamb\":lambs[l], \"n_iter\":100000\n",
    "                    }\n",
    "                )\n",
    "                procs.append(p)\n",
    "                p.start()\n",
    "            for i in range(n_classes):\n",
    "                res = out_q.get()\n",
    "                alpha[res[0], :] = res[1]\n",
    "\n",
    "            for p in procs:\n",
    "                p.join()\n",
    "            # Precision on train set\n",
    "            Y_pred_train= pred(X_sample, X_sample[:500], alpha,\n",
    "                                  kernel_type=kernel_type, sigma=sigmas[s], dist=train_test_dist)\n",
    "            Y_labels_pred_train = np.argmax(Y_pred_train, axis=1)\n",
    "            train_prec_rbf[s, l, w] = np.mean(Y_labels_pred_train == Y_labels_sample[:500])\n",
    "            # Precision on test set\n",
    "            Y_pred = pred(X_sample, X_test, alpha,\n",
    "                                  kernel_type=kernel_type, sigma=sigmas[s], dist=test_dist)\n",
    "\n",
    "\n",
    "            Y_labels_pred = np.argmax(Y_pred, axis=1)\n",
    "            test_prec_rbf[s, l, w] = np.mean(Y_labels_pred == Y_labels_test)"
   ]
  },
  {
   "cell_type": "code",
   "execution_count": null,
   "metadata": {
    "collapsed": false,
    "deletable": true,
    "editable": true
   },
   "outputs": [],
   "source": [
    "test_prec_rbf"
   ]
  },
  {
   "cell_type": "code",
   "execution_count": null,
   "metadata": {
    "collapsed": false,
    "deletable": true,
    "editable": true
   },
   "outputs": [],
   "source": [
    "train_prec_rbf"
   ]
  },
  {
   "cell_type": "markdown",
   "metadata": {
    "deletable": true,
    "editable": true
   },
   "source": [
    "# Prediction"
   ]
  },
  {
   "cell_type": "code",
   "execution_count": null,
   "metadata": {
    "collapsed": false,
    "deletable": true,
    "editable": true
   },
   "outputs": [],
   "source": [
    "X_eval = load_images(type=\"test\")\n",
    "n_eval = X_eval.shape[0]\n",
    "\n",
    "image_list_eval = reshape_as_images(X_eval)\n",
    "\n",
    "# Visual features for submission\n",
    "hog_list_eval = []\n",
    "for i in tqdm_notebook(range(n_eval), desc=\"Submission images\"):\n",
    "    image = image_list_eval[i,:,:,:]\n",
    "    hog_list_eval.append(\n",
    "        hog(\n",
    "            image,\n",
    "            filter_sigma=filter_sigma,\n",
    "            filter_shape=filter_shape,\n",
    "            hog_cell_size=hog_cell_size,\n",
    "            disc_grid=disc_grid,\n",
    "            color_grad=True))\n",
    "    \n",
    "n_features = hog_list_eval[0].size\n",
    "X_hog_eval = np.array(hog_list_eval).reshape((n_eval, n_features)) "
   ]
  },
  {
   "cell_type": "code",
   "execution_count": null,
   "metadata": {
    "collapsed": false,
    "deletable": true,
    "editable": true
   },
   "outputs": [],
   "source": [
    "Y_eval = pred(X_sample, X_hog_eval, alpha,\n",
    "                      kernel_type=kernel_type, degree=degree, constant=constant, sigma=sigma)\n",
    "\n",
    "\n",
    "Y_labels_eval = np.argmax(Y_eval, axis=1)\n",
    "\n",
    "\n",
    "# Submission\n",
    "labels_to_csv(Y_labels_eval, kernel=kernel_type, algo=\"svm_hog\",user=\"Zac_color_grad\")"
   ]
  },
  {
   "cell_type": "code",
   "execution_count": null,
   "metadata": {
    "collapsed": true,
    "deletable": true,
    "editable": true
   },
   "outputs": [],
   "source": []
  }
 ],
 "metadata": {
  "kernelspec": {
   "display_name": "Python 3",
   "language": "python",
   "name": "python3"
  },
  "language_info": {
   "codemirror_mode": {
    "name": "ipython",
    "version": 3
   },
   "file_extension": ".py",
   "mimetype": "text/x-python",
   "name": "python",
   "nbconvert_exporter": "python",
   "pygments_lexer": "ipython3",
   "version": "3.5.2"
  }
 },
 "nbformat": 4,
 "nbformat_minor": 2
}
