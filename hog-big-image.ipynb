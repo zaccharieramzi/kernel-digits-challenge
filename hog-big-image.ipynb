{
 "cells": [
  {
   "cell_type": "code",
   "execution_count": 1,
   "metadata": {
    "collapsed": false,
    "deletable": true,
    "editable": true
   },
   "outputs": [],
   "source": [
    "import numpy as np\n",
    "\n",
    "from sklearn import linear_model\n",
    "from tools.data_loading import load_images, load_labels, dummy_code, load_images_resized, store_resized_images\n",
    "from tools.feature_learning import pins_generation\n",
    "from tools.hog import hog\n",
    "from tools.kernels import kernel_matrix\n",
    "from tools.optimization import find_f\n",
    "from tools.prediction import pred\n",
    "from tools.process_images import process_images\n",
    "from tools.quantization import kmeans\n",
    "from tools.submission import labels_to_csv\n",
    "from tools.visualization import imshow, dump_as_png, reshape_as_images"
   ]
  },
  {
   "cell_type": "markdown",
   "metadata": {
    "deletable": true,
    "editable": true
   },
   "source": [
    "# Data loading"
   ]
  },
  {
   "cell_type": "code",
   "execution_count": 2,
   "metadata": {
    "collapsed": false,
    "deletable": true,
    "editable": true,
    "scrolled": true
   },
   "outputs": [],
   "source": [
    "X_train = load_images_resized(type=\"train\")\n",
    "n_train = X_train.shape[0]\n",
    "Y_labels_train = load_labels()\n",
    "Y_train = dummy_code(Y_labels_train)\n",
    "n_classes = Y_train.shape[1]\n",
    "X_train = X_train - X_train.min(axis=0)\n",
    "X_train = X_train / X_train.max(axis=0)"
   ]
  },
  {
   "cell_type": "code",
   "execution_count": 3,
   "metadata": {
    "collapsed": false,
    "deletable": true,
    "editable": true
   },
   "outputs": [],
   "source": [
    "X_train2 = np.zeros((5000,63,63,3))\n",
    "for i in range(3):\n",
    "    X_train2[:,:,:,i] = X_train\n",
    "image_list = X_train2"
   ]
  },
  {
   "cell_type": "markdown",
   "metadata": {
    "deletable": true,
    "editable": true
   },
   "source": [
    "# Visual features"
   ]
  },
  {
   "cell_type": "code",
   "execution_count": 25,
   "metadata": {
    "collapsed": true,
    "deletable": true,
    "editable": true
   },
   "outputs": [],
   "source": [
    "filter_sigma=0.1\n",
    "filter_shape=5\n",
    "hog_cell_size=15\n",
    "disc_grid=16"
   ]
  },
  {
   "cell_type": "code",
   "execution_count": 26,
   "metadata": {
    "collapsed": true,
    "deletable": true,
    "editable": true
   },
   "outputs": [],
   "source": [
    "n_images = image_list.shape[0]"
   ]
  },
  {
   "cell_type": "code",
   "execution_count": null,
   "metadata": {
    "collapsed": false,
    "deletable": true,
    "editable": true
   },
   "outputs": [],
   "source": [
    "hog_list = []\n",
    "for i in range(n_images):\n",
    "    image = image_list[i,:,:,:]\n",
    "    hog_list.append(\n",
    "        hog(\n",
    "            image,\n",
    "            filter_sigma=filter_sigma,\n",
    "            filter_shape=filter_shape,\n",
    "            hog_cell_size=hog_cell_size,\n",
    "            disc_grid=disc_grid))\n",
    "    \n",
    "n_features = hog_list[0].size\n",
    "X_hog = np.array(hog_list).reshape((n_images, n_features)) \n"
   ]
  },
  {
   "cell_type": "code",
   "execution_count": null,
   "metadata": {
    "collapsed": false,
    "deletable": true,
    "editable": true
   },
   "outputs": [],
   "source": [
    "imshow(image_list[0])"
   ]
  },
  {
   "cell_type": "code",
   "execution_count": null,
   "metadata": {
    "collapsed": false,
    "deletable": true,
    "editable": true
   },
   "outputs": [],
   "source": [
    "X_hog.shape"
   ]
  },
  {
   "cell_type": "markdown",
   "metadata": {
    "deletable": true,
    "editable": true
   },
   "source": [
    "# Data separation"
   ]
  },
  {
   "cell_type": "code",
   "execution_count": 11,
   "metadata": {
    "collapsed": false,
    "deletable": true,
    "editable": true
   },
   "outputs": [],
   "source": [
    "indices = np.random.permutation(X_hog.shape[0])\n",
    "training_idx, test_idx = indices[:int(0.8*n_train)], indices[int(0.8*n_train):]\n",
    "\n",
    "X_sample = X_hog[training_idx, :]\n",
    "n_sample = X_sample.shape[0]\n",
    "Y_sample = Y_train[training_idx,:]\n",
    "Y_labels_sample = Y_labels_train[training_idx]\n",
    "\n",
    "X_test = X_hog[test_idx, :]\n",
    "n_test = X_test.shape[0]\n",
    "Y_labels_test = Y_labels_train[test_idx]"
   ]
  },
  {
   "cell_type": "markdown",
   "metadata": {
    "deletable": true,
    "editable": true
   },
   "source": [
    "# Training"
   ]
  },
  {
   "cell_type": "markdown",
   "metadata": {
    "deletable": true,
    "editable": true
   },
   "source": [
    "## Kernel choice"
   ]
  },
  {
   "cell_type": "code",
   "execution_count": null,
   "metadata": {
    "collapsed": true,
    "deletable": true,
    "editable": true
   },
   "outputs": [],
   "source": [
    "kernel_type = \"hellinger\"\n",
    "K_sample = kernel_matrix(X_sample, kernel_type=kernel_type)"
   ]
  },
  {
   "cell_type": "code",
   "execution_count": null,
   "metadata": {
    "collapsed": false,
    "deletable": true,
    "editable": true
   },
   "outputs": [],
   "source": [
    "K_sample.shape"
   ]
  },
  {
   "cell_type": "markdown",
   "metadata": {
    "deletable": true,
    "editable": true
   },
   "source": [
    "## Classifier choice"
   ]
  },
  {
   "cell_type": "code",
   "execution_count": null,
   "metadata": {
    "collapsed": false,
    "deletable": true,
    "editable": true
   },
   "outputs": [],
   "source": [
    "classifier_type = \"svm\"\n",
    "alpha = np.zeros((n_classes, n_sample))\n",
    "for dig in range(n_classes):\n",
    "    alpha[dig, :] = find_f(K_sample, Y_sample[:, dig],\n",
    "                           prob_type=classifier_type, lamb=1, n_iter=90000)"
   ]
  },
  {
   "cell_type": "markdown",
   "metadata": {
    "deletable": true,
    "editable": true
   },
   "source": [
    "# Evaluation"
   ]
  },
  {
   "cell_type": "markdown",
   "metadata": {
    "deletable": true,
    "editable": true
   },
   "source": [
    "### Training error"
   ]
  },
  {
   "cell_type": "code",
   "execution_count": null,
   "metadata": {
    "collapsed": false,
    "deletable": true,
    "editable": true,
    "scrolled": true
   },
   "outputs": [],
   "source": [
    "Y_pred_train = np.zeros((X_sample[:500].shape[0], n_classes))\n",
    "for dig in range(n_classes):\n",
    "    Y_pred_train[:, dig] = pred(X_sample, X_sample[:500], alpha[dig, :],\n",
    "                          kernel_type=kernel_type)\n",
    "\n",
    "\n",
    "Y_labels_pred_train = np.argmax(Y_pred_train, axis=1)\n",
    "prec = np.mean(Y_labels_pred_train == Y_labels_sample[:500])\n",
    "print(\"The precision on the train set is of {}\".format(prec))"
   ]
  },
  {
   "cell_type": "markdown",
   "metadata": {
    "deletable": true,
    "editable": true
   },
   "source": [
    "### Testing error"
   ]
  },
  {
   "cell_type": "code",
   "execution_count": null,
   "metadata": {
    "collapsed": false,
    "deletable": true,
    "editable": true,
    "scrolled": false
   },
   "outputs": [],
   "source": [
    "Y_pred = np.zeros((X_test.shape[0], n_classes))\n",
    "for dig in range(n_classes):\n",
    "    Y_pred[:, dig] = pred(X_sample, X_test, alpha[dig, :],\n",
    "                          kernel_type=kernel_type)\n",
    "\n",
    "\n",
    "Y_labels_pred = np.argmax(Y_pred, axis=1)\n",
    "prec = np.mean(Y_labels_pred == Y_labels_test)\n",
    "print(\"The precision on the test set is of {}\".format(prec))"
   ]
  },
  {
   "cell_type": "markdown",
   "metadata": {
    "deletable": true,
    "editable": true
   },
   "source": [
    "# Prediction"
   ]
  },
  {
   "cell_type": "code",
   "execution_count": 17,
   "metadata": {
    "collapsed": false,
    "deletable": true,
    "editable": true
   },
   "outputs": [],
   "source": [
    "#store_resized_images(\"test\")"
   ]
  },
  {
   "cell_type": "code",
   "execution_count": 18,
   "metadata": {
    "collapsed": false,
    "deletable": true,
    "editable": true
   },
   "outputs": [],
   "source": [
    "X_eval = load_images_resized(type=\"test\")"
   ]
  },
  {
   "cell_type": "code",
   "execution_count": 19,
   "metadata": {
    "collapsed": false
   },
   "outputs": [],
   "source": [
    "X_eval = X_eval - X_eval.min(axis=0)\n",
    "X_eval = X_eval / X_eval.max(axis=0)"
   ]
  },
  {
   "cell_type": "code",
   "execution_count": 20,
   "metadata": {
    "collapsed": true
   },
   "outputs": [],
   "source": [
    "n_eval = X_eval.shape[0]\n",
    "X_eval2 = np.zeros((2000,63,63,3))\n",
    "for i in range(3):\n",
    "    X_eval2[:,:,:,i] = X_eval\n",
    "image_list_eval = X_eval2\n",
    "# Visual features for submission\n",
    "hog_list_eval = []\n",
    "for i in range(n_eval):\n",
    "    image = image_list_eval[i,:,:,:]\n",
    "    hog_list_eval.append(\n",
    "        hog(\n",
    "            image,\n",
    "            filter_sigma=filter_sigma,\n",
    "            filter_shape=filter_shape,\n",
    "            hog_cell_size=hog_cell_size,\n",
    "            disc_grid=disc_grid))\n",
    "    \n",
    "n_features = hog_list_eval[0].size\n",
    "X_hog_eval = np.array(hog_list_eval).reshape((n_eval, n_features)) "
   ]
  },
  {
   "cell_type": "code",
   "execution_count": 21,
   "metadata": {
    "collapsed": false,
    "deletable": true,
    "editable": true
   },
   "outputs": [
    {
     "data": {
      "text/plain": [
       "(2000, 392)"
      ]
     },
     "execution_count": 21,
     "metadata": {},
     "output_type": "execute_result"
    }
   ],
   "source": [
    "X_hog_eval.shape"
   ]
  },
  {
   "cell_type": "code",
   "execution_count": 22,
   "metadata": {
    "collapsed": false,
    "deletable": true,
    "editable": true
   },
   "outputs": [],
   "source": [
    "Y_eval = np.zeros((n_eval, n_classes))\n",
    "for dig in range(n_classes):\n",
    "    Y_eval[:, dig] = pred(X_sample, X_hog_eval, alpha[dig, :],\n",
    "                          kernel_type=kernel_type)\n",
    "\n",
    "\n",
    "Y_labels_eval = np.argmax(Y_eval, axis=1)\n",
    "\n",
    "\n",
    "# Submission\n",
    "labels_to_csv(Y_labels_eval, kernel=kernel_type, algo=\"svm_hog_63\",user=\"Pierre\")"
   ]
  }
 ],
 "metadata": {
  "kernelspec": {
   "display_name": "Python 3",
   "language": "python",
   "name": "python3"
  },
  "language_info": {
   "codemirror_mode": {
    "name": "ipython",
    "version": 3
   },
   "file_extension": ".py",
   "mimetype": "text/x-python",
   "name": "python",
   "nbconvert_exporter": "python",
   "pygments_lexer": "ipython3",
   "version": "3.5.2"
  }
 },
 "nbformat": 4,
 "nbformat_minor": 2
}
