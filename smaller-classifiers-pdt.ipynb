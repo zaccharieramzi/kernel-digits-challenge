{
 "cells": [
  {
   "cell_type": "code",
   "execution_count": 1,
   "metadata": {
    "collapsed": false,
    "deletable": true,
    "editable": true
   },
   "outputs": [],
   "source": [
    "import numpy as np\n",
    "\n",
    "from sklearn import linear_model\n",
    "from tools.data_loading import load_images, load_labels, dummy_code, load_images_resized\n",
    "from tools.feature_learning import pins_generation\n",
    "from tools.hog import hog\n",
    "from tools.kernels import kernel_matrix\n",
    "from tools.optimization import find_f\n",
    "from tools.prediction import pred\n",
    "from tools.process_images import process_images\n",
    "from tools.quantization import kmeans\n",
    "from tools.submission import labels_to_csv\n",
    "from tools.visualization import imshow, dump_as_png, reshape_as_images"
   ]
  },
  {
   "cell_type": "markdown",
   "metadata": {
    "deletable": true,
    "editable": true
   },
   "source": [
    "# Data loading"
   ]
  },
  {
   "cell_type": "code",
   "execution_count": 2,
   "metadata": {
    "collapsed": true,
    "deletable": true,
    "editable": true
   },
   "outputs": [],
   "source": [
    "X_train = load_images(type=\"train\")\n",
    "n_train = X_train.shape[0]\n",
    "Y_labels_train = load_labels()\n",
    "Y_train = dummy_code(Y_labels_train)\n",
    "n_classes = Y_train.shape[1]"
   ]
  },
  {
   "cell_type": "code",
   "execution_count": 3,
   "metadata": {
    "collapsed": false,
    "deletable": true,
    "editable": true
   },
   "outputs": [],
   "source": [
    "image_list = reshape_as_images(X_train)"
   ]
  },
  {
   "cell_type": "markdown",
   "metadata": {
    "deletable": true,
    "editable": true
   },
   "source": [
    "# Visual features"
   ]
  },
  {
   "cell_type": "code",
   "execution_count": 4,
   "metadata": {
    "collapsed": true,
    "deletable": true,
    "editable": true
   },
   "outputs": [],
   "source": [
    "filter_sigma=0.1\n",
    "filter_shape=5\n",
    "hog_cell_size=8\n",
    "disc_grid=16"
   ]
  },
  {
   "cell_type": "code",
   "execution_count": 5,
   "metadata": {
    "collapsed": false,
    "deletable": true,
    "editable": true
   },
   "outputs": [
    {
     "data": {
      "image/png": "[encoded data removed]",
      "text/plain": [
       "<matplotlib.figure.Figure at 0x10a163b70>"
      ]
     },
     "metadata": {},
     "output_type": "display_data"
    }
   ],
   "source": [
    "image = np.zeros((32,32,3))\n",
    "image[5:27, :,:] = np.ones((22,32,3))\n",
    "imshow(image)"
   ]
  },
  {
   "cell_type": "code",
   "execution_count": 6,
   "metadata": {
    "collapsed": false,
    "deletable": true,
    "editable": true
   },
   "outputs": [
    {
     "data": {
      "text/plain": [
       "array([[ 0.,  0.,  0.,  0.,  8.,  0.,  0.,  0.],\n",
       "       [ 0.,  0.,  0.,  0.,  8.,  0.,  0.,  0.],\n",
       "       [ 0.,  0.,  0.,  0.,  8.,  0.,  0.,  0.],\n",
       "       [ 0.,  0.,  0.,  0.,  6.,  0.,  0.,  0.],\n",
       "       [ 0.,  0.,  0.,  0.,  0.,  0.,  0.,  0.],\n",
       "       [ 0.,  0.,  0.,  0.,  0.,  0.,  0.,  0.],\n",
       "       [ 0.,  0.,  0.,  0.,  0.,  0.,  0.,  0.],\n",
       "       [ 0.,  0.,  0.,  0.,  0.,  0.,  0.,  0.],\n",
       "       [ 0.,  0.,  0.,  0.,  0.,  0.,  0.,  0.],\n",
       "       [ 0.,  0.,  0.,  0.,  0.,  0.,  0.,  0.],\n",
       "       [ 0.,  0.,  0.,  0.,  0.,  0.,  0.,  0.],\n",
       "       [ 0.,  0.,  0.,  0.,  0.,  0.,  0.,  0.],\n",
       "       [ 0.,  0.,  0.,  0.,  8.,  0.,  0.,  0.],\n",
       "       [ 0.,  0.,  0.,  0.,  8.,  0.,  0.,  0.],\n",
       "       [ 0.,  0.,  0.,  0.,  8.,  0.,  0.,  0.],\n",
       "       [ 0.,  0.,  0.,  0.,  6.,  0.,  0.,  0.]])"
      ]
     },
     "execution_count": 6,
     "metadata": {},
     "output_type": "execute_result"
    }
   ],
   "source": [
    "hog(image,\n",
    "   filter_sigma=filter_sigma, filter_shape=filter_shape, hog_cell_size=hog_cell_size, disc_grid=disc_grid)"
   ]
  },
  {
   "cell_type": "code",
   "execution_count": 7,
   "metadata": {
    "collapsed": true,
    "deletable": true,
    "editable": true
   },
   "outputs": [],
   "source": [
    "n_images = image_list.shape[0]"
   ]
  },
  {
   "cell_type": "code",
   "execution_count": 8,
   "metadata": {
    "collapsed": false,
    "deletable": true,
    "editable": true
   },
   "outputs": [],
   "source": [
    "hog_list = []\n",
    "for i in range(n_images):\n",
    "    image = image_list[i,:,:,:]\n",
    "    hog_list.append(\n",
    "        hog(\n",
    "            image,\n",
    "            filter_sigma=filter_sigma,\n",
    "            filter_shape=filter_shape,\n",
    "            hog_cell_size=hog_cell_size,\n",
    "            disc_grid=disc_grid))\n",
    "    \n",
    "n_features = hog_list[0].size\n",
    "X_hog = np.array(hog_list).reshape((n_images, n_features)) \n"
   ]
  },
  {
   "cell_type": "code",
   "execution_count": 9,
   "metadata": {
    "collapsed": false,
    "deletable": true,
    "editable": true
   },
   "outputs": [
    {
     "data": {
      "image/png": "[encoded data removed]",
      "text/plain": [
       "<matplotlib.figure.Figure at 0x1085f32e8>"
      ]
     },
     "metadata": {},
     "output_type": "display_data"
    }
   ],
   "source": [
    "imshow(image_list[0])"
   ]
  },
  {
   "cell_type": "code",
   "execution_count": 10,
   "metadata": {
    "collapsed": false,
    "deletable": true,
    "editable": true
   },
   "outputs": [
    {
     "data": {
      "text/plain": [
       "array([[ 0.08,  0.01,  0.01,  0.02,  0.03,  0.02,  0.05,  0.03],\n",
       "       [ 0.02,  0.01,  0.02,  0.02,  0.02,  0.01,  0.01,  0.02],\n",
       "       [ 0.06,  0.05,  0.01,  0.05,  0.11,  0.04,  0.04,  0.02],\n",
       "       [ 0.  ,  0.  ,  0.01,  0.01,  0.08,  0.01,  0.02,  0.06],\n",
       "       [ 0.22,  0.22,  0.25,  0.34,  0.25,  0.1 ,  0.07,  0.1 ],\n",
       "       [ 0.24,  0.32,  0.18,  0.21,  0.13,  0.15,  0.15,  0.18],\n",
       "       [ 0.5 ,  0.32,  0.26,  0.34,  0.31,  0.33,  0.25,  0.12],\n",
       "       [ 0.19,  0.22,  0.14,  0.06,  0.29,  0.16,  0.18,  0.22],\n",
       "       [ 0.08,  0.2 ,  0.07,  0.22,  0.67,  0.37,  0.55,  0.32],\n",
       "       [ 0.01,  0.24,  0.15,  0.25,  0.57,  0.34,  0.07,  0.09],\n",
       "       [ 0.06,  0.06,  0.  ,  0.2 ,  0.23,  0.17,  0.02,  0.03],\n",
       "       [ 0.24,  0.44,  0.44,  0.01,  0.08,  0.33,  0.01,  0.16],\n",
       "       [ 0.01,  0.03,  0.02,  0.03,  0.09,  0.05,  0.02,  0.04],\n",
       "       [ 0.01,  0.01,  0.02,  0.02,  0.11,  0.08,  0.03,  0.01],\n",
       "       [ 0.01,  0.01,  0.02,  0.04,  0.09,  0.05,  0.04,  0.01],\n",
       "       [ 0.01,  0.02,  0.02,  0.03,  0.09,  0.05,  0.02,  0.01]])"
      ]
     },
     "execution_count": 10,
     "metadata": {},
     "output_type": "execute_result"
    }
   ],
   "source": [
    "np.set_printoptions(precision=2)\n",
    "hog_list[0]"
   ]
  },
  {
   "cell_type": "code",
   "execution_count": 11,
   "metadata": {
    "collapsed": false,
    "deletable": true,
    "editable": true
   },
   "outputs": [
    {
     "data": {
      "text/plain": [
       "(5000, 128)"
      ]
     },
     "execution_count": 11,
     "metadata": {},
     "output_type": "execute_result"
    }
   ],
   "source": [
    "X_hog.shape"
   ]
  },
  {
   "cell_type": "code",
   "execution_count": 12,
   "metadata": {
    "collapsed": false,
    "deletable": true,
    "editable": true,
    "scrolled": true
   },
   "outputs": [
    {
     "data": {
      "text/plain": [
       "array([ 0.08,  0.01,  0.01,  0.02,  0.03,  0.02,  0.05,  0.03,  0.02,\n",
       "        0.01,  0.02,  0.02,  0.02,  0.01,  0.01,  0.02,  0.06,  0.05,\n",
       "        0.01,  0.05,  0.11,  0.04,  0.04,  0.02,  0.  ,  0.  ,  0.01,\n",
       "        0.01,  0.08,  0.01,  0.02,  0.06,  0.22,  0.22,  0.25,  0.34,\n",
       "        0.25,  0.1 ,  0.07,  0.1 ,  0.24,  0.32,  0.18,  0.21,  0.13,\n",
       "        0.15,  0.15,  0.18,  0.5 ,  0.32,  0.26,  0.34,  0.31,  0.33,\n",
       "        0.25,  0.12,  0.19,  0.22,  0.14,  0.06,  0.29,  0.16,  0.18,\n",
       "        0.22,  0.08,  0.2 ,  0.07,  0.22,  0.67,  0.37,  0.55,  0.32,\n",
       "        0.01,  0.24,  0.15,  0.25,  0.57,  0.34,  0.07,  0.09,  0.06,\n",
       "        0.06,  0.  ,  0.2 ,  0.23,  0.17,  0.02,  0.03,  0.24,  0.44,\n",
       "        0.44,  0.01,  0.08,  0.33,  0.01,  0.16,  0.01,  0.03,  0.02,\n",
       "        0.03,  0.09,  0.05,  0.02,  0.04,  0.01,  0.01,  0.02,  0.02,\n",
       "        0.11,  0.08,  0.03,  0.01,  0.01,  0.01,  0.02,  0.04,  0.09,\n",
       "        0.05,  0.04,  0.01,  0.01,  0.02,  0.02,  0.03,  0.09,  0.05,\n",
       "        0.02,  0.01])"
      ]
     },
     "execution_count": 12,
     "metadata": {},
     "output_type": "execute_result"
    }
   ],
   "source": [
    "X_hog[0]"
   ]
  },
  {
   "cell_type": "markdown",
   "metadata": {
    "deletable": true,
    "editable": true
   },
   "source": [
    "# Data separation"
   ]
  },
  {
   "cell_type": "code",
   "execution_count": 13,
   "metadata": {
    "collapsed": false,
    "deletable": true,
    "editable": true
   },
   "outputs": [],
   "source": [
    "indices = np.random.permutation(X_hog.shape[0])\n",
    "training_idx, test_idx = indices[:int(0.8*n_train)], indices[int(0.8*n_train):]\n",
    "\n",
    "X_sample = X_hog[training_idx, :]\n",
    "n_sample = X_sample.shape[0]\n",
    "Y_sample = Y_train[training_idx,:]\n",
    "Y_labels_sample = Y_labels_train[training_idx]\n",
    "\n",
    "X_test = X_hog[test_idx, :]\n",
    "n_test = X_test.shape[0]\n",
    "Y_labels_test = Y_labels_train[test_idx]"
   ]
  },
  {
   "cell_type": "markdown",
   "metadata": {
    "deletable": true,
    "editable": true
   },
   "source": [
    "# Training"
   ]
  },
  {
   "cell_type": "markdown",
   "metadata": {
    "deletable": true,
    "editable": true
   },
   "source": [
    "## Kernel choice"
   ]
  },
  {
   "cell_type": "code",
   "execution_count": 14,
   "metadata": {
    "collapsed": true,
    "deletable": true,
    "editable": true
   },
   "outputs": [],
   "source": [
    "kernel_type = \"hellinger\"\n",
    "K_sample = kernel_matrix(X_sample, kernel_type=kernel_type)"
   ]
  },
  {
   "cell_type": "code",
   "execution_count": 15,
   "metadata": {
    "collapsed": false,
    "deletable": true,
    "editable": true
   },
   "outputs": [
    {
     "data": {
      "text/plain": [
       "(4000, 4000)"
      ]
     },
     "execution_count": 15,
     "metadata": {},
     "output_type": "execute_result"
    }
   ],
   "source": [
    "K_sample.shape"
   ]
  },
  {
   "cell_type": "markdown",
   "metadata": {
    "deletable": true,
    "editable": true
   },
   "source": [
    "## Classifier choice"
   ]
  },
  {
   "cell_type": "code",
   "execution_count": 43,
   "metadata": {
    "collapsed": false
   },
   "outputs": [
    {
     "name": "stdout",
     "output_type": "stream",
     "text": [
      "405\n"
     ]
    }
   ],
   "source": [
    "K_sample[cl_ind[dig]][:,cl_ind[dig]].shape\n",
    "print(n_pos)"
   ]
  },
  {
   "cell_type": "code",
   "execution_count": 38,
   "metadata": {
    "collapsed": false,
    "deletable": true,
    "editable": true,
    "scrolled": true
   },
   "outputs": [],
   "source": [
    "classifier_type = \"svm\"\n",
    "alpha = np.zeros((n_classes, n_sample//5))\n",
    "cl_ind = np.empty((n_classes, n_sample//5),dtype='uint8')\n",
    "for dig in range(n_classes):\n",
    "    pos_idx = np.where(Y_sample[:, dig] == 1)[0]\n",
    "    neg_idx = np.where(Y_sample[:, dig] == 0)[0]\n",
    "    n_pos = len(pos_idx)\n",
    "    neg_idx = np.random.choice(neg_idx, n_sample//5 - n_pos)\n",
    "   \n",
    "    cl_ind[dig] = np.sort(np.concatenate((pos_idx, neg_idx)))\n",
    "    alpha[dig, :] = find_f(K_sample[cl_ind[dig]][:,cl_ind[dig]], Y_sample[cl_ind[dig], dig],\n",
    "                          prob_type=classifier_type, lamb=1, n_iter=90000)"
   ]
  },
  {
   "cell_type": "markdown",
   "metadata": {
    "deletable": true,
    "editable": true
   },
   "source": [
    "# Evaluation"
   ]
  },
  {
   "cell_type": "markdown",
   "metadata": {
    "deletable": true,
    "editable": true
   },
   "source": [
    "### Training error"
   ]
  },
  {
   "cell_type": "code",
   "execution_count": 39,
   "metadata": {
    "collapsed": false,
    "deletable": true,
    "editable": true,
    "scrolled": true
   },
   "outputs": [
    {
     "name": "stdout",
     "output_type": "stream",
     "text": [
      "The precision on the train set is of 0.382\n"
     ]
    }
   ],
   "source": [
    "Y_pred_train = np.zeros((X_sample[:500].shape[0], n_classes))\n",
    "for dig in range(n_classes):\n",
    "    Y_pred_train[:, dig] = pred(X_sample[cl_ind[dig]], X_sample[:500], alpha[dig, :],\n",
    "                         kernel_type=kernel_type)\n",
    "\n",
    "\n",
    "Y_labels_pred_train = np.argmax(Y_pred_train, axis=1)\n",
    "prec = np.mean(Y_labels_pred_train == Y_labels_sample[:500])\n",
    "print(\"The precision on the train set is of {}\".format(prec))"
   ]
  },
  {
   "cell_type": "markdown",
   "metadata": {
    "deletable": true,
    "editable": true
   },
   "source": [
    "### Testing error"
   ]
  },
  {
   "cell_type": "code",
   "execution_count": 40,
   "metadata": {
    "collapsed": false,
    "deletable": true,
    "editable": true,
    "scrolled": false
   },
   "outputs": [
    {
     "name": "stdout",
     "output_type": "stream",
     "text": [
      "The precision on the test set is of 0.258\n"
     ]
    }
   ],
   "source": [
    "Y_pred = np.zeros((X_test.shape[0], n_classes))\n",
    "for dig in range(n_classes):\n",
    "    Y_pred[:, dig] = pred(X_sample[cl_ind[dig]], X_test, alpha[dig, :],\n",
    "                         kernel_type=kernel_type)\n",
    "\n",
    "\n",
    "Y_labels_pred = np.argmax(Y_pred, axis=1)\n",
    "prec = np.mean(Y_labels_pred == Y_labels_test)\n",
    "print(\"The precision on the test set is of {}\".format(prec))"
   ]
  },
  {
   "cell_type": "markdown",
   "metadata": {
    "deletable": true,
    "editable": true
   },
   "source": [
    "# Prediction"
   ]
  },
  {
   "cell_type": "code",
   "execution_count": null,
   "metadata": {
    "collapsed": false,
    "deletable": true,
    "editable": true
   },
   "outputs": [],
   "source": [
    "X_eval = load_images(type=\"test\")\n",
    "n_eval, n_var = X_eval.shape\n",
    "image_list_eval = reshape_as_images(X_eval)\n",
    "\n",
    "# Visual features for submission\n",
    "hog_list_eval = []\n",
    "for i in range(n_eval):\n",
    "    image = image_list_eval[i,:,:,:]\n",
    "    hog_list_eval.append(\n",
    "        hog(\n",
    "            image,\n",
    "            filter_sigma=filter_sigma,\n",
    "            filter_shape=filter_shape,\n",
    "            hog_cell_size=hog_cell_size,\n",
    "            disc_grid=disc_grid))\n",
    "    \n",
    "n_features = hog_list_eval[0].size\n",
    "X_hog_eval = np.array(hog_list_eval).reshape((n_eval, n_features)) "
   ]
  },
  {
   "cell_type": "code",
   "execution_count": null,
   "metadata": {
    "collapsed": true,
    "deletable": true,
    "editable": true
   },
   "outputs": [],
   "source": [
    "Y_eval = np.zeros((n_eval, n_classes))\n",
    "for dig in range(n_classes):\n",
    "    Y_eval[:, dig] = pred(X_sample, X_hog_eval, alpha[dig, :],\n",
    "                          kernel_type=kernel_type)\n",
    "\n",
    "\n",
    "Y_labels_eval = np.argmax(Y_eval, axis=1)\n",
    "\n",
    "\n",
    "# Submission\n",
    "labels_to_csv(Y_labels_eval, kernel=kernel_type, algo=\"svm_hog\",user=\"Pierre\")"
   ]
  },
  {
   "cell_type": "code",
   "execution_count": null,
   "metadata": {
    "collapsed": true,
    "deletable": true,
    "editable": true
   },
   "outputs": [],
   "source": []
  }
 ],
 "metadata": {
  "kernelspec": {
   "display_name": "Python 3",
   "language": "python",
   "name": "python3"
  },
  "language_info": {
   "codemirror_mode": {
    "name": "ipython",
    "version": 3
   },
   "file_extension": ".py",
   "mimetype": "text/x-python",
   "name": "python",
   "nbconvert_exporter": "python",
   "pygments_lexer": "ipython3",
   "version": "3.5.2"
  }
 },
 "nbformat": 4,
 "nbformat_minor": 2
}
